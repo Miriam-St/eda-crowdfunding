{
 "cells": [
  {
   "cell_type": "markdown",
   "id": "fbbe1ad5",
   "metadata": {},
   "source": [
    "EDA on subset of data provided by crowdsourcing / lending platform."
   ]
  },
  {
   "cell_type": "markdown",
   "id": "eb999b8d",
   "metadata": {
    "toc": true
   },
   "source": [
    "<h1>Table of Contents<span class=\"tocSkip\"></span></h1>\n",
    "<div class=\"toc\"><ul class=\"toc-item\"><li><span><a href=\"#Data-Preparation\" data-toc-modified-id=\"Data-Preparation-1\"><span class=\"toc-item-num\">1&nbsp;&nbsp;</span>Data Preparation</a></span><ul class=\"toc-item\"><li><span><a href=\"#Import-data\" data-toc-modified-id=\"Import-data-1.1\"><span class=\"toc-item-num\">1.1&nbsp;&nbsp;</span>Import data</a></span></li><li><span><a href=\"#Duplicate-values\" data-toc-modified-id=\"Duplicate-values-1.2\"><span class=\"toc-item-num\">1.2&nbsp;&nbsp;</span>Duplicate values</a></span></li><li><span><a href=\"#Outlier\" data-toc-modified-id=\"Outlier-1.3\"><span class=\"toc-item-num\">1.3&nbsp;&nbsp;</span>Outlier</a></span></li><li><span><a href=\"#Missing-values\" data-toc-modified-id=\"Missing-values-1.4\"><span class=\"toc-item-num\">1.4&nbsp;&nbsp;</span>Missing values</a></span><ul class=\"toc-item\"><li><span><a href=\"#Identification-of-missing-values\" data-toc-modified-id=\"Identification-of-missing-values-1.4.1\"><span class=\"toc-item-num\">1.4.1&nbsp;&nbsp;</span>Identification of missing values</a></span></li><li><span><a href=\"#Handling-of-missing-values\" data-toc-modified-id=\"Handling-of-missing-values-1.4.2\"><span class=\"toc-item-num\">1.4.2&nbsp;&nbsp;</span>Handling of missing values</a></span></li></ul></li><li><span><a href=\"#Additional-columns-and-features\" data-toc-modified-id=\"Additional-columns-and-features-1.5\"><span class=\"toc-item-num\">1.5&nbsp;&nbsp;</span>Additional columns and features</a></span></li></ul></li><li><span><a href=\"#Export-pre-processed-data\" data-toc-modified-id=\"Export-pre-processed-data-2\"><span class=\"toc-item-num\">2&nbsp;&nbsp;</span>Export pre-processed data</a></span></li></ul></div>"
   ]
  },
  {
   "cell_type": "markdown",
   "id": "a8b06c59",
   "metadata": {},
   "source": [
    "## Data Preparation\n"
   ]
  },
  {
   "cell_type": "code",
   "execution_count": 60,
   "id": "adc833ba",
   "metadata": {},
   "outputs": [],
   "source": [
    "# import required libraries\n",
    "\n",
    "import numpy as np\n",
    "import pandas as pd \n",
    "from pycountry_convert import country_alpha2_to_continent_code, country_name_to_country_alpha2"
   ]
  },
  {
   "cell_type": "markdown",
   "id": "c9684e5f",
   "metadata": {},
   "source": [
    "### Import data\n"
   ]
  },
  {
   "cell_type": "code",
   "execution_count": 3,
   "id": "c6ea8a51",
   "metadata": {},
   "outputs": [
    {
     "data": {
      "text/html": [
       "<div>\n",
       "<style scoped>\n",
       "    .dataframe tbody tr th:only-of-type {\n",
       "        vertical-align: middle;\n",
       "    }\n",
       "\n",
       "    .dataframe tbody tr th {\n",
       "        vertical-align: top;\n",
       "    }\n",
       "\n",
       "    .dataframe thead th {\n",
       "        text-align: right;\n",
       "    }\n",
       "</style>\n",
       "<table border=\"1\" class=\"dataframe\">\n",
       "  <thead>\n",
       "    <tr style=\"text-align: right;\">\n",
       "      <th></th>\n",
       "      <th># funded_amount# loan_amount# activity# sector# use# country_code# country# region# currency# term_in_months# lender_count# borrower_genders# repayment_interval</th>\n",
       "    </tr>\n",
       "  </thead>\n",
       "  <tbody>\n",
       "    <tr>\n",
       "      <th>0</th>\n",
       "      <td>0#300.0#300.0#Fruits &amp; Vegetables#Food#To buy ...</td>\n",
       "    </tr>\n",
       "    <tr>\n",
       "      <th>1</th>\n",
       "      <td>1#575.0#575.0#Rickshaw#Transportation#to repai...</td>\n",
       "    </tr>\n",
       "  </tbody>\n",
       "</table>\n",
       "</div>"
      ],
      "text/plain": [
       "  # funded_amount# loan_amount# activity# sector# use# country_code# country# region# currency# term_in_months# lender_count# borrower_genders# repayment_interval\n",
       "0  0#300.0#300.0#Fruits & Vegetables#Food#To buy ...                                                                                                              \n",
       "1  1#575.0#575.0#Rickshaw#Transportation#to repai...                                                                                                              "
      ]
     },
     "execution_count": 3,
     "metadata": {},
     "output_type": "execute_result"
    }
   ],
   "source": [
    "# Check structure and separator of the dataset\n",
    "\n",
    "df_input = pd.read_csv(\"funding_data.csv\",\n",
    "                       sep=\"/n\",\n",
    "                       engine='python',\n",
    "                       nrows=2)\n",
    "df_input"
   ]
  },
  {
   "cell_type": "code",
   "execution_count": 4,
   "id": "6e6cf0c7",
   "metadata": {
    "scrolled": false
   },
   "outputs": [
    {
     "data": {
      "text/html": [
       "<div>\n",
       "<style scoped>\n",
       "    .dataframe tbody tr th:only-of-type {\n",
       "        vertical-align: middle;\n",
       "    }\n",
       "\n",
       "    .dataframe tbody tr th {\n",
       "        vertical-align: top;\n",
       "    }\n",
       "\n",
       "    .dataframe thead th {\n",
       "        text-align: right;\n",
       "    }\n",
       "</style>\n",
       "<table border=\"1\" class=\"dataframe\">\n",
       "  <thead>\n",
       "    <tr style=\"text-align: right;\">\n",
       "      <th></th>\n",
       "      <th>funded_amount</th>\n",
       "      <th>loan_amount</th>\n",
       "      <th>activity</th>\n",
       "      <th>sector</th>\n",
       "      <th>use</th>\n",
       "      <th>country_code</th>\n",
       "      <th>country</th>\n",
       "      <th>region</th>\n",
       "      <th>currency</th>\n",
       "      <th>term_in_months</th>\n",
       "      <th>lender_count</th>\n",
       "      <th>borrower_genders</th>\n",
       "      <th>repayment_interval</th>\n",
       "    </tr>\n",
       "  </thead>\n",
       "  <tbody>\n",
       "    <tr>\n",
       "      <th>0</th>\n",
       "      <td>300.0</td>\n",
       "      <td>300.0</td>\n",
       "      <td>Fruits &amp; Vegetables</td>\n",
       "      <td>Food</td>\n",
       "      <td>To buy seasonal, fresh fruits to sell.</td>\n",
       "      <td>PK</td>\n",
       "      <td>Pakistan</td>\n",
       "      <td>Lahore</td>\n",
       "      <td>PKR</td>\n",
       "      <td>12.0</td>\n",
       "      <td>12</td>\n",
       "      <td>female</td>\n",
       "      <td>irregular</td>\n",
       "    </tr>\n",
       "    <tr>\n",
       "      <th>1</th>\n",
       "      <td>575.0</td>\n",
       "      <td>575.0</td>\n",
       "      <td>Rickshaw</td>\n",
       "      <td>Transportation</td>\n",
       "      <td>to repair and maintain the auto rickshaw used ...</td>\n",
       "      <td>PK</td>\n",
       "      <td>Pakistan</td>\n",
       "      <td>Lahore</td>\n",
       "      <td>PKR</td>\n",
       "      <td>11.0</td>\n",
       "      <td>14</td>\n",
       "      <td>female, female</td>\n",
       "      <td>irregular</td>\n",
       "    </tr>\n",
       "    <tr>\n",
       "      <th>2</th>\n",
       "      <td>150.0</td>\n",
       "      <td>150.0</td>\n",
       "      <td>Transportation</td>\n",
       "      <td>Transportation</td>\n",
       "      <td>To repair their old cycle-van and buy another ...</td>\n",
       "      <td>IN</td>\n",
       "      <td>India</td>\n",
       "      <td>Maynaguri</td>\n",
       "      <td>INR</td>\n",
       "      <td>43.0</td>\n",
       "      <td>6</td>\n",
       "      <td>female</td>\n",
       "      <td>bullet</td>\n",
       "    </tr>\n",
       "    <tr>\n",
       "      <th>3</th>\n",
       "      <td>200.0</td>\n",
       "      <td>200.0</td>\n",
       "      <td>Embroidery</td>\n",
       "      <td>Arts</td>\n",
       "      <td>to purchase an embroidery machine and a variet...</td>\n",
       "      <td>PK</td>\n",
       "      <td>Pakistan</td>\n",
       "      <td>Lahore</td>\n",
       "      <td>PKR</td>\n",
       "      <td>11.0</td>\n",
       "      <td>8</td>\n",
       "      <td>female</td>\n",
       "      <td>irregular</td>\n",
       "    </tr>\n",
       "    <tr>\n",
       "      <th>4</th>\n",
       "      <td>400.0</td>\n",
       "      <td>400.0</td>\n",
       "      <td>Milk Sales</td>\n",
       "      <td>Food</td>\n",
       "      <td>to purchase one buffalo.</td>\n",
       "      <td>PK</td>\n",
       "      <td>Pakistan</td>\n",
       "      <td>Abdul Hakeem</td>\n",
       "      <td>PKR</td>\n",
       "      <td>14.0</td>\n",
       "      <td>16</td>\n",
       "      <td>female</td>\n",
       "      <td>monthly</td>\n",
       "    </tr>\n",
       "  </tbody>\n",
       "</table>\n",
       "</div>"
      ],
      "text/plain": [
       "    funded_amount   loan_amount             activity          sector  \\\n",
       "0           300.0         300.0  Fruits & Vegetables            Food   \n",
       "1           575.0         575.0             Rickshaw  Transportation   \n",
       "2           150.0         150.0       Transportation  Transportation   \n",
       "3           200.0         200.0           Embroidery            Arts   \n",
       "4           400.0         400.0           Milk Sales            Food   \n",
       "\n",
       "                                                 use  country_code   country  \\\n",
       "0            To buy seasonal, fresh fruits to sell.             PK  Pakistan   \n",
       "1  to repair and maintain the auto rickshaw used ...            PK  Pakistan   \n",
       "2  To repair their old cycle-van and buy another ...            IN     India   \n",
       "3  to purchase an embroidery machine and a variet...            PK  Pakistan   \n",
       "4                           to purchase one buffalo.            PK  Pakistan   \n",
       "\n",
       "         region  currency   term_in_months   lender_count  borrower_genders  \\\n",
       "0        Lahore       PKR             12.0             12            female   \n",
       "1        Lahore       PKR             11.0             14    female, female   \n",
       "2     Maynaguri       INR             43.0              6            female   \n",
       "3        Lahore       PKR             11.0              8            female   \n",
       "4  Abdul Hakeem       PKR             14.0             16            female   \n",
       "\n",
       "   repayment_interval  \n",
       "0           irregular  \n",
       "1           irregular  \n",
       "2              bullet  \n",
       "3           irregular  \n",
       "4             monthly  "
      ]
     },
     "execution_count": 4,
     "metadata": {},
     "output_type": "execute_result"
    }
   ],
   "source": [
    "# Import data\n",
    "\n",
    "df = pd.read_csv(\"funding_data.csv\", sep=\"#\", index_col=0)\n",
    "df.head()"
   ]
  },
  {
   "cell_type": "code",
   "execution_count": 5,
   "id": "557a8b58",
   "metadata": {},
   "outputs": [
    {
     "name": "stdout",
     "output_type": "stream",
     "text": [
      "The dataframe has 671205 rows and 13 columns.\n"
     ]
    }
   ],
   "source": [
    "# Check df shape\n",
    "\n",
    "print('The dataframe has ' + str(df.shape[0]) + ' rows and ' + str(df.shape[1]) + ' columns.')"
   ]
  },
  {
   "cell_type": "code",
   "execution_count": 6,
   "id": "2e8e944a",
   "metadata": {},
   "outputs": [
    {
     "data": {
      "text/html": [
       "<div>\n",
       "<style scoped>\n",
       "    .dataframe tbody tr th:only-of-type {\n",
       "        vertical-align: middle;\n",
       "    }\n",
       "\n",
       "    .dataframe tbody tr th {\n",
       "        vertical-align: top;\n",
       "    }\n",
       "\n",
       "    .dataframe thead th {\n",
       "        text-align: right;\n",
       "    }\n",
       "</style>\n",
       "<table border=\"1\" class=\"dataframe\">\n",
       "  <thead>\n",
       "    <tr style=\"text-align: right;\">\n",
       "      <th></th>\n",
       "      <th>funded_amount</th>\n",
       "      <th>loan_amount</th>\n",
       "      <th>term_in_months</th>\n",
       "      <th>lender_count</th>\n",
       "    </tr>\n",
       "  </thead>\n",
       "  <tbody>\n",
       "    <tr>\n",
       "      <th>count</th>\n",
       "      <td>671205.000000</td>\n",
       "      <td>671205.000000</td>\n",
       "      <td>671205.000000</td>\n",
       "      <td>671205.000000</td>\n",
       "    </tr>\n",
       "    <tr>\n",
       "      <th>mean</th>\n",
       "      <td>785.995061</td>\n",
       "      <td>842.397107</td>\n",
       "      <td>13.739022</td>\n",
       "      <td>20.590922</td>\n",
       "    </tr>\n",
       "    <tr>\n",
       "      <th>std</th>\n",
       "      <td>1130.398941</td>\n",
       "      <td>1198.660073</td>\n",
       "      <td>8.598919</td>\n",
       "      <td>28.459551</td>\n",
       "    </tr>\n",
       "    <tr>\n",
       "      <th>min</th>\n",
       "      <td>0.000000</td>\n",
       "      <td>25.000000</td>\n",
       "      <td>1.000000</td>\n",
       "      <td>0.000000</td>\n",
       "    </tr>\n",
       "    <tr>\n",
       "      <th>25%</th>\n",
       "      <td>250.000000</td>\n",
       "      <td>275.000000</td>\n",
       "      <td>8.000000</td>\n",
       "      <td>7.000000</td>\n",
       "    </tr>\n",
       "    <tr>\n",
       "      <th>50%</th>\n",
       "      <td>450.000000</td>\n",
       "      <td>500.000000</td>\n",
       "      <td>13.000000</td>\n",
       "      <td>13.000000</td>\n",
       "    </tr>\n",
       "    <tr>\n",
       "      <th>75%</th>\n",
       "      <td>900.000000</td>\n",
       "      <td>1000.000000</td>\n",
       "      <td>14.000000</td>\n",
       "      <td>24.000000</td>\n",
       "    </tr>\n",
       "    <tr>\n",
       "      <th>max</th>\n",
       "      <td>100000.000000</td>\n",
       "      <td>100000.000000</td>\n",
       "      <td>158.000000</td>\n",
       "      <td>2986.000000</td>\n",
       "    </tr>\n",
       "  </tbody>\n",
       "</table>\n",
       "</div>"
      ],
      "text/plain": [
       "        funded_amount    loan_amount   term_in_months   lender_count\n",
       "count   671205.000000  671205.000000    671205.000000  671205.000000\n",
       "mean       785.995061     842.397107        13.739022      20.590922\n",
       "std       1130.398941    1198.660073         8.598919      28.459551\n",
       "min          0.000000      25.000000         1.000000       0.000000\n",
       "25%        250.000000     275.000000         8.000000       7.000000\n",
       "50%        450.000000     500.000000        13.000000      13.000000\n",
       "75%        900.000000    1000.000000        14.000000      24.000000\n",
       "max     100000.000000  100000.000000       158.000000    2986.000000"
      ]
     },
     "execution_count": 6,
     "metadata": {},
     "output_type": "execute_result"
    }
   ],
   "source": [
    "# Check summary of central tendency and dispersion of the numeric columns \n",
    "\n",
    "df.describe()"
   ]
  },
  {
   "cell_type": "markdown",
   "id": "138d920e",
   "metadata": {},
   "source": [
    "**To Note**\n",
    "- large distance between maximum and 75 percentile value in each of the dataframes' columns indicates that some outliers / extreme values are present \n",
    "- outliers should be removed from the dataset and / or instead of column's mean that would skew calculations, the median or mode should be chosen"
   ]
  },
  {
   "cell_type": "markdown",
   "id": "f076d650",
   "metadata": {},
   "source": [
    "Glance at one of the extreme values:\n",
    "\n",
    "There is only one loan in the data set that is greater than 50,000 USD. It was granted to an individual female in Haiti by 2986 lenders that invested on average 33.5 USD. The loan has a payment term of 75 month and is for an agricultural investment."
   ]
  },
  {
   "cell_type": "code",
   "execution_count": 7,
   "id": "e49e5a41",
   "metadata": {},
   "outputs": [
    {
     "data": {
      "text/html": [
       "<div>\n",
       "<style scoped>\n",
       "    .dataframe tbody tr th:only-of-type {\n",
       "        vertical-align: middle;\n",
       "    }\n",
       "\n",
       "    .dataframe tbody tr th {\n",
       "        vertical-align: top;\n",
       "    }\n",
       "\n",
       "    .dataframe thead th {\n",
       "        text-align: right;\n",
       "    }\n",
       "</style>\n",
       "<table border=\"1\" class=\"dataframe\">\n",
       "  <thead>\n",
       "    <tr style=\"text-align: right;\">\n",
       "      <th></th>\n",
       "      <th>funded_amount</th>\n",
       "      <th>loan_amount</th>\n",
       "      <th>activity</th>\n",
       "      <th>sector</th>\n",
       "      <th>use</th>\n",
       "      <th>country_code</th>\n",
       "      <th>country</th>\n",
       "      <th>region</th>\n",
       "      <th>currency</th>\n",
       "      <th>term_in_months</th>\n",
       "      <th>lender_count</th>\n",
       "      <th>borrower_genders</th>\n",
       "      <th>repayment_interval</th>\n",
       "    </tr>\n",
       "  </thead>\n",
       "  <tbody>\n",
       "    <tr>\n",
       "      <th>70499</th>\n",
       "      <td>100000.0</td>\n",
       "      <td>100000.0</td>\n",
       "      <td>Agriculture</td>\n",
       "      <td>Agriculture</td>\n",
       "      <td>create more than 300 jobs for women and farmer...</td>\n",
       "      <td>HT</td>\n",
       "      <td>Haiti</td>\n",
       "      <td>Les Cayes</td>\n",
       "      <td>USD</td>\n",
       "      <td>75.0</td>\n",
       "      <td>2986</td>\n",
       "      <td>female</td>\n",
       "      <td>irregular</td>\n",
       "    </tr>\n",
       "  </tbody>\n",
       "</table>\n",
       "</div>"
      ],
      "text/plain": [
       "        funded_amount   loan_amount     activity       sector  \\\n",
       "70499        100000.0      100000.0  Agriculture  Agriculture   \n",
       "\n",
       "                                                     use  country_code  \\\n",
       "70499  create more than 300 jobs for women and farmer...            HT   \n",
       "\n",
       "       country     region  currency   term_in_months   lender_count  \\\n",
       "70499    Haiti  Les Cayes       USD             75.0           2986   \n",
       "\n",
       "       borrower_genders  repayment_interval  \n",
       "70499            female           irregular  "
      ]
     },
     "execution_count": 7,
     "metadata": {},
     "output_type": "execute_result"
    }
   ],
   "source": [
    "df.loc[df[' loan_amount']>50000,:]"
   ]
  },
  {
   "cell_type": "code",
   "execution_count": 8,
   "id": "8d7951e0",
   "metadata": {},
   "outputs": [
    {
     "data": {
      "text/html": [
       "<div>\n",
       "<style scoped>\n",
       "    .dataframe tbody tr th:only-of-type {\n",
       "        vertical-align: middle;\n",
       "    }\n",
       "\n",
       "    .dataframe tbody tr th {\n",
       "        vertical-align: top;\n",
       "    }\n",
       "\n",
       "    .dataframe thead th {\n",
       "        text-align: right;\n",
       "    }\n",
       "</style>\n",
       "<table border=\"1\" class=\"dataframe\">\n",
       "  <thead>\n",
       "    <tr style=\"text-align: right;\">\n",
       "      <th></th>\n",
       "      <th>activity</th>\n",
       "      <th>sector</th>\n",
       "      <th>use</th>\n",
       "      <th>country_code</th>\n",
       "      <th>country</th>\n",
       "      <th>region</th>\n",
       "      <th>currency</th>\n",
       "      <th>borrower_genders</th>\n",
       "      <th>repayment_interval</th>\n",
       "    </tr>\n",
       "  </thead>\n",
       "  <tbody>\n",
       "    <tr>\n",
       "      <th>count</th>\n",
       "      <td>671205</td>\n",
       "      <td>671205</td>\n",
       "      <td>666973</td>\n",
       "      <td>671197</td>\n",
       "      <td>671205</td>\n",
       "      <td>614405</td>\n",
       "      <td>671205</td>\n",
       "      <td>666984</td>\n",
       "      <td>671205</td>\n",
       "    </tr>\n",
       "    <tr>\n",
       "      <th>unique</th>\n",
       "      <td>163</td>\n",
       "      <td>15</td>\n",
       "      <td>424912</td>\n",
       "      <td>86</td>\n",
       "      <td>87</td>\n",
       "      <td>12695</td>\n",
       "      <td>67</td>\n",
       "      <td>11298</td>\n",
       "      <td>4</td>\n",
       "    </tr>\n",
       "    <tr>\n",
       "      <th>top</th>\n",
       "      <td>Farming</td>\n",
       "      <td>Agriculture</td>\n",
       "      <td>to buy a water filter to provide safe drinking...</td>\n",
       "      <td>PH</td>\n",
       "      <td>Philippines</td>\n",
       "      <td>Kaduna</td>\n",
       "      <td>PHP</td>\n",
       "      <td>female</td>\n",
       "      <td>monthly</td>\n",
       "    </tr>\n",
       "    <tr>\n",
       "      <th>freq</th>\n",
       "      <td>72955</td>\n",
       "      <td>180302</td>\n",
       "      <td>5217</td>\n",
       "      <td>160441</td>\n",
       "      <td>160441</td>\n",
       "      <td>10000</td>\n",
       "      <td>160440</td>\n",
       "      <td>426502</td>\n",
       "      <td>342717</td>\n",
       "    </tr>\n",
       "  </tbody>\n",
       "</table>\n",
       "</div>"
      ],
      "text/plain": [
       "        activity       sector  \\\n",
       "count     671205       671205   \n",
       "unique       163           15   \n",
       "top      Farming  Agriculture   \n",
       "freq       72955       180302   \n",
       "\n",
       "                                                      use  country_code  \\\n",
       "count                                              666973        671197   \n",
       "unique                                             424912            86   \n",
       "top     to buy a water filter to provide safe drinking...            PH   \n",
       "freq                                                 5217        160441   \n",
       "\n",
       "            country  region  currency  borrower_genders  repayment_interval  \n",
       "count        671205  614405    671205            666984              671205  \n",
       "unique           87   12695        67             11298                   4  \n",
       "top     Philippines  Kaduna       PHP            female             monthly  \n",
       "freq         160441   10000    160440            426502              342717  "
      ]
     },
     "execution_count": 8,
     "metadata": {},
     "output_type": "execute_result"
    }
   ],
   "source": [
    "# Check summary statistics of categorical columns \n",
    "\n",
    "df.describe(include=['O']) "
   ]
  },
  {
   "cell_type": "markdown",
   "id": "12874de1",
   "metadata": {},
   "source": [
    "**To Note**: \n",
    "\n",
    "- surprisingly large number of unique values in the column borrower_genders\n",
    "- 87 unique countries present in dataset but only 86 unique country codes; indicates presence of missing values."
   ]
  },
  {
   "cell_type": "code",
   "execution_count": 9,
   "id": "64855521",
   "metadata": {},
   "outputs": [
    {
     "data": {
      "text/plain": [
       "Index([' funded_amount', ' loan_amount', ' activity', ' sector', ' use',\n",
       "       ' country_code', ' country', ' region', ' currency', ' term_in_months',\n",
       "       ' lender_count', ' borrower_genders', ' repayment_interval'],\n",
       "      dtype='object')"
      ]
     },
     "execution_count": 9,
     "metadata": {},
     "output_type": "execute_result"
    }
   ],
   "source": [
    "# Check spelling of the column names\n",
    "\n",
    "df.columns"
   ]
  },
  {
   "cell_type": "markdown",
   "id": "4955ee7f",
   "metadata": {},
   "source": [
    "The leading spaces present in the column names will be removed so that the data can queried more easily."
   ]
  },
  {
   "cell_type": "code",
   "execution_count": 10,
   "id": "29d9d4a5",
   "metadata": {},
   "outputs": [],
   "source": [
    "# Remove leading spaces in column names\n",
    "\n",
    "df.columns = df.columns.str.lstrip()"
   ]
  },
  {
   "cell_type": "code",
   "execution_count": 11,
   "id": "8d6b07b5",
   "metadata": {},
   "outputs": [
    {
     "data": {
      "text/html": [
       "<div>\n",
       "<style scoped>\n",
       "    .dataframe tbody tr th:only-of-type {\n",
       "        vertical-align: middle;\n",
       "    }\n",
       "\n",
       "    .dataframe tbody tr th {\n",
       "        vertical-align: top;\n",
       "    }\n",
       "\n",
       "    .dataframe thead th {\n",
       "        text-align: right;\n",
       "    }\n",
       "</style>\n",
       "<table border=\"1\" class=\"dataframe\">\n",
       "  <thead>\n",
       "    <tr style=\"text-align: right;\">\n",
       "      <th></th>\n",
       "      <th>funded_amount</th>\n",
       "      <th>loan_amount</th>\n",
       "      <th>term_in_months</th>\n",
       "      <th>lender_count</th>\n",
       "    </tr>\n",
       "  </thead>\n",
       "  <tbody>\n",
       "    <tr>\n",
       "      <th>funded_amount</th>\n",
       "      <td>1.000000</td>\n",
       "      <td>0.945044</td>\n",
       "      <td>0.149310</td>\n",
       "      <td>0.849168</td>\n",
       "    </tr>\n",
       "    <tr>\n",
       "      <th>loan_amount</th>\n",
       "      <td>0.945044</td>\n",
       "      <td>1.000000</td>\n",
       "      <td>0.184795</td>\n",
       "      <td>0.798697</td>\n",
       "    </tr>\n",
       "    <tr>\n",
       "      <th>term_in_months</th>\n",
       "      <td>0.149310</td>\n",
       "      <td>0.184795</td>\n",
       "      <td>1.000000</td>\n",
       "      <td>0.227283</td>\n",
       "    </tr>\n",
       "    <tr>\n",
       "      <th>lender_count</th>\n",
       "      <td>0.849168</td>\n",
       "      <td>0.798697</td>\n",
       "      <td>0.227283</td>\n",
       "      <td>1.000000</td>\n",
       "    </tr>\n",
       "  </tbody>\n",
       "</table>\n",
       "</div>"
      ],
      "text/plain": [
       "                funded_amount  loan_amount  term_in_months  lender_count\n",
       "funded_amount        1.000000     0.945044        0.149310      0.849168\n",
       "loan_amount          0.945044     1.000000        0.184795      0.798697\n",
       "term_in_months       0.149310     0.184795        1.000000      0.227283\n",
       "lender_count         0.849168     0.798697        0.227283      1.000000"
      ]
     },
     "execution_count": 11,
     "metadata": {},
     "output_type": "execute_result"
    }
   ],
   "source": [
    "# Check correlation of numeric values\n",
    "\n",
    "df.corr(numeric_only=True)"
   ]
  },
  {
   "cell_type": "markdown",
   "id": "12e5529d",
   "metadata": {},
   "source": [
    "**To note**\n",
    "\n",
    "- strong positive correlation (approx. 94.5%) between the funded amount and the loan amount\n",
    "--> indicates that platforms's business model - being the intermediate party that connects lenders and borrowers - works\n",
    "--> correlation coefficient of approx. 0.95 displays a strong linear relationship between the value that borrowers ask from the lenders and what they actually receive as funding\n",
    "\n",
    "\n",
    "- quite strong correlation between the funded amonunt and the number of lenders (lender_count) \n",
    "--> indicates that for higher funded amounts, more people invest \n",
    "--> indicates that to fund high profile / bigger funding sums, more investors are needed as they rarely receive significant higher donaction amounts than smaller projects\n",
    "\n",
    "\n",
    "- terms of repayment in an investment are correlated only very weakly with other variables \n",
    "--> indicates that investors are not as focused on the speed of receiving back their invested amount as the crowdfunding website calls upon the investors purpose behind participating in such investments\n"
   ]
  },
  {
   "cell_type": "markdown",
   "id": "b5357d80",
   "metadata": {},
   "source": [
    "**Summary of first impressions**\n",
    "\n",
    "The raw dataset consists of 671,205 rows and 13 columns. The strong correlation between the column funded_amount and the column loan_amount is a first indication that the company operates effectively as the intermediate between lender and borrower. Moreover, there seem to be some missing values and some outliers present in the dataset."
   ]
  },
  {
   "cell_type": "markdown",
   "id": "ce67104f",
   "metadata": {},
   "source": [
    "### Duplicate values\n",
    "\n",
    "Duplicate records (duplicate rows) are defined as identical rows in the dataframe (df). This means, that a pair of duplicate records is present when each value in each of their column coincide. \n"
   ]
  },
  {
   "cell_type": "code",
   "execution_count": 12,
   "id": "10a2c33b",
   "metadata": {},
   "outputs": [
    {
     "name": "stdout",
     "output_type": "stream",
     "text": [
      "There are 24372 duplicate values in the dataset.\n"
     ]
    }
   ],
   "source": [
    "# count of duplicate records\n",
    "\n",
    "print('There are ' + (df.duplicated().sum()).astype(str) + ' duplicate values in the dataset.')"
   ]
  },
  {
   "cell_type": "markdown",
   "id": "37050623",
   "metadata": {},
   "source": [
    "The identified duplicate rows coincide in each value which means that they match the above stated definition of duplicated records. Thus, the duplicated rows will be deleted in the following. Thereby, only the first record (per duplicate occurence) will be kept in the dataset. In addition, the index will be reset."
   ]
  },
  {
   "cell_type": "code",
   "execution_count": 13,
   "id": "8dbfac61",
   "metadata": {
    "scrolled": true
   },
   "outputs": [],
   "source": [
    "# Drop duplicated records\n",
    "\n",
    "df.drop_duplicates(keep='first',inplace=True)"
   ]
  },
  {
   "cell_type": "code",
   "execution_count": 14,
   "id": "5aedfbf1",
   "metadata": {},
   "outputs": [
    {
     "data": {
      "text/html": [
       "<div>\n",
       "<style scoped>\n",
       "    .dataframe tbody tr th:only-of-type {\n",
       "        vertical-align: middle;\n",
       "    }\n",
       "\n",
       "    .dataframe tbody tr th {\n",
       "        vertical-align: top;\n",
       "    }\n",
       "\n",
       "    .dataframe thead th {\n",
       "        text-align: right;\n",
       "    }\n",
       "</style>\n",
       "<table border=\"1\" class=\"dataframe\">\n",
       "  <thead>\n",
       "    <tr style=\"text-align: right;\">\n",
       "      <th></th>\n",
       "      <th>funded_amount</th>\n",
       "      <th>loan_amount</th>\n",
       "      <th>activity</th>\n",
       "      <th>sector</th>\n",
       "      <th>use</th>\n",
       "      <th>country_code</th>\n",
       "      <th>country</th>\n",
       "      <th>region</th>\n",
       "      <th>currency</th>\n",
       "      <th>term_in_months</th>\n",
       "      <th>lender_count</th>\n",
       "      <th>borrower_genders</th>\n",
       "      <th>repayment_interval</th>\n",
       "    </tr>\n",
       "  </thead>\n",
       "  <tbody>\n",
       "  </tbody>\n",
       "</table>\n",
       "</div>"
      ],
      "text/plain": [
       "Empty DataFrame\n",
       "Columns: [funded_amount, loan_amount, activity, sector, use, country_code, country, region, currency, term_in_months, lender_count, borrower_genders, repayment_interval]\n",
       "Index: []"
      ]
     },
     "execution_count": 14,
     "metadata": {},
     "output_type": "execute_result"
    }
   ],
   "source": [
    "# Check if duplicated rows were dropped\n",
    "\n",
    "df.loc[df.duplicated(keep=False) == True, :]"
   ]
  },
  {
   "cell_type": "code",
   "execution_count": 15,
   "id": "aa0f6775",
   "metadata": {},
   "outputs": [],
   "source": [
    "# reset index and drop former index\n",
    "\n",
    "df.reset_index(inplace=True,drop=True)"
   ]
  },
  {
   "cell_type": "markdown",
   "id": "195e6de4",
   "metadata": {},
   "source": [
    "The dataset is now free of duplicates."
   ]
  },
  {
   "cell_type": "markdown",
   "id": "9a18753d",
   "metadata": {},
   "source": [
    "### Outlier "
   ]
  },
  {
   "cell_type": "markdown",
   "id": "ea8c0fb6",
   "metadata": {},
   "source": [
    "Generally, outlier are defined as data points that lie abnormally far from other values. As there is one investment in the dataset that has an abnormally large loan and funded amount, this data point was considered as a potential outlier.\n",
    "This data point is displayed below. \n",
    "\n",
    "However, this entry will not be considered as an outlier and thus, will not be removed from the dataset. The reason for this is that information would get lost if it was deleted. It is assumed that the company's revenue is a derivative of both the number of investments as well as their individual amount. This means that the company's profits from a large number of investments on their platform and also from investments that are large, assuming that their profit is a commission of the funded amount. \n",
    "\n",
    "In this case the particular investment was in the sector agriculture and included an investment to create jobs for over 300 people. Potentially, the company could therefore find new expansion opportunities for their current offering of loans."
   ]
  },
  {
   "cell_type": "code",
   "execution_count": 16,
   "id": "b1e301dc",
   "metadata": {},
   "outputs": [
    {
     "data": {
      "text/html": [
       "<div>\n",
       "<style scoped>\n",
       "    .dataframe tbody tr th:only-of-type {\n",
       "        vertical-align: middle;\n",
       "    }\n",
       "\n",
       "    .dataframe tbody tr th {\n",
       "        vertical-align: top;\n",
       "    }\n",
       "\n",
       "    .dataframe thead th {\n",
       "        text-align: right;\n",
       "    }\n",
       "</style>\n",
       "<table border=\"1\" class=\"dataframe\">\n",
       "  <thead>\n",
       "    <tr style=\"text-align: right;\">\n",
       "      <th></th>\n",
       "      <th>funded_amount</th>\n",
       "      <th>loan_amount</th>\n",
       "      <th>activity</th>\n",
       "      <th>sector</th>\n",
       "      <th>use</th>\n",
       "      <th>country_code</th>\n",
       "      <th>country</th>\n",
       "      <th>region</th>\n",
       "      <th>currency</th>\n",
       "      <th>term_in_months</th>\n",
       "      <th>lender_count</th>\n",
       "      <th>borrower_genders</th>\n",
       "      <th>repayment_interval</th>\n",
       "    </tr>\n",
       "  </thead>\n",
       "  <tbody>\n",
       "    <tr>\n",
       "      <th>69745</th>\n",
       "      <td>100000.0</td>\n",
       "      <td>100000.0</td>\n",
       "      <td>Agriculture</td>\n",
       "      <td>Agriculture</td>\n",
       "      <td>create more than 300 jobs for women and farmer...</td>\n",
       "      <td>HT</td>\n",
       "      <td>Haiti</td>\n",
       "      <td>Les Cayes</td>\n",
       "      <td>USD</td>\n",
       "      <td>75.0</td>\n",
       "      <td>2986</td>\n",
       "      <td>female</td>\n",
       "      <td>irregular</td>\n",
       "    </tr>\n",
       "  </tbody>\n",
       "</table>\n",
       "</div>"
      ],
      "text/plain": [
       "       funded_amount  loan_amount     activity       sector  \\\n",
       "69745       100000.0     100000.0  Agriculture  Agriculture   \n",
       "\n",
       "                                                     use country_code country  \\\n",
       "69745  create more than 300 jobs for women and farmer...           HT   Haiti   \n",
       "\n",
       "          region currency  term_in_months  lender_count borrower_genders  \\\n",
       "69745  Les Cayes      USD            75.0          2986           female   \n",
       "\n",
       "      repayment_interval  \n",
       "69745          irregular  "
      ]
     },
     "execution_count": 16,
     "metadata": {},
     "output_type": "execute_result"
    }
   ],
   "source": [
    "# check outlier\n",
    "\n",
    "df.loc[df['loan_amount']>50000,:]"
   ]
  },
  {
   "cell_type": "markdown",
   "id": "db9a5cb3",
   "metadata": {},
   "source": [
    "### Missing values"
   ]
  },
  {
   "cell_type": "markdown",
   "id": "bc2d2a01",
   "metadata": {},
   "source": [
    "#### Identification of missing values\n"
   ]
  },
  {
   "cell_type": "markdown",
   "id": "3a034346",
   "metadata": {},
   "source": [
    "In this analysis, missing values are defined as\n",
    "1. Synonyms or standardized substitute values (e.g., -9999 or '?') or\n",
    "2. null (np.nan) values\n",
    "\n",
    "\n",
    "\n",
    "Below, the identification of missing values will be performed based on the exploration of the column data types as well as based on the count of np.nan values in each column. \n",
    "Analysing the data types can help identify inconsistencies in the format on hand vs. the column content. Thereby, a mismatch can be an indication that synonyms were used or that a prior imputation of the respective values has happened. Moreover, the identification and distribution of present np.nan values will be attempted to analyse the extent of null values in the dataset which is required to determine the further handling of these values."
   ]
  },
  {
   "cell_type": "code",
   "execution_count": 17,
   "id": "72d60094",
   "metadata": {},
   "outputs": [
    {
     "data": {
      "text/plain": [
       "funded_amount         float64\n",
       "loan_amount           float64\n",
       "activity               object\n",
       "sector                 object\n",
       "use                    object\n",
       "country_code           object\n",
       "country                object\n",
       "region                 object\n",
       "currency               object\n",
       "term_in_months        float64\n",
       "lender_count            int64\n",
       "borrower_genders       object\n",
       "repayment_interval     object\n",
       "dtype: object"
      ]
     },
     "execution_count": 17,
     "metadata": {},
     "output_type": "execute_result"
    }
   ],
   "source": [
    "# Check data type of each columns\n",
    "                                                                              \n",
    "df.dtypes   "
   ]
  },
  {
   "cell_type": "markdown",
   "id": "f1e6d46d",
   "metadata": {},
   "source": [
    "**To note**\n",
    "\n",
    "There seems to be no inconsistency between the expected and present data types."
   ]
  },
  {
   "cell_type": "code",
   "execution_count": 18,
   "id": "b7b1e8ae",
   "metadata": {},
   "outputs": [
    {
     "name": "stdout",
     "output_type": "stream",
     "text": [
      "<class 'pandas.core.frame.DataFrame'>\n",
      "RangeIndex: 646833 entries, 0 to 646832\n",
      "Data columns (total 13 columns):\n",
      " #   Column              Non-Null Count   Dtype  \n",
      "---  ------              --------------   -----  \n",
      " 0   funded_amount       646833 non-null  float64\n",
      " 1   loan_amount         646833 non-null  float64\n",
      " 2   activity            646833 non-null  object \n",
      " 3   sector              646833 non-null  object \n",
      " 4   use                 642934 non-null  object \n",
      " 5   country_code        646825 non-null  object \n",
      " 6   country             646833 non-null  object \n",
      " 7   region              590670 non-null  object \n",
      " 8   currency            646833 non-null  object \n",
      " 9   term_in_months      646833 non-null  float64\n",
      " 10  lender_count        646833 non-null  int64  \n",
      " 11  borrower_genders    642945 non-null  object \n",
      " 12  repayment_interval  646833 non-null  object \n",
      "dtypes: float64(3), int64(1), object(9)\n",
      "memory usage: 64.2+ MB\n"
     ]
    }
   ],
   "source": [
    "# Check non-null values \n",
    "\n",
    "df.info()"
   ]
  },
  {
   "cell_type": "code",
   "execution_count": 19,
   "id": "594d04fa",
   "metadata": {},
   "outputs": [
    {
     "data": {
      "text/plain": [
       "funded_amount         0.00\n",
       "loan_amount           0.00\n",
       "activity              0.00\n",
       "sector                0.00\n",
       "use                   0.60\n",
       "country_code          0.00\n",
       "country               0.00\n",
       "region                8.68\n",
       "currency              0.00\n",
       "term_in_months        0.00\n",
       "lender_count          0.00\n",
       "borrower_genders      0.60\n",
       "repayment_interval    0.00\n",
       "dtype: float64"
      ]
     },
     "execution_count": 19,
     "metadata": {},
     "output_type": "execute_result"
    }
   ],
   "source": [
    "# Check null values in % per column\n",
    "\n",
    "round(df.isnull().sum() / len(df) * 100, 2)"
   ]
  },
  {
   "cell_type": "code",
   "execution_count": 20,
   "id": "24713da9",
   "metadata": {},
   "outputs": [
    {
     "data": {
      "text/html": [
       "<div>\n",
       "<style scoped>\n",
       "    .dataframe tbody tr th:only-of-type {\n",
       "        vertical-align: middle;\n",
       "    }\n",
       "\n",
       "    .dataframe tbody tr th {\n",
       "        vertical-align: top;\n",
       "    }\n",
       "\n",
       "    .dataframe thead th {\n",
       "        text-align: right;\n",
       "    }\n",
       "</style>\n",
       "<table border=\"1\" class=\"dataframe\">\n",
       "  <thead>\n",
       "    <tr style=\"text-align: right;\">\n",
       "      <th></th>\n",
       "      <th>funded_amount</th>\n",
       "      <th>loan_amount</th>\n",
       "      <th>activity</th>\n",
       "      <th>sector</th>\n",
       "      <th>use</th>\n",
       "      <th>country_code</th>\n",
       "      <th>country</th>\n",
       "      <th>region</th>\n",
       "      <th>currency</th>\n",
       "      <th>term_in_months</th>\n",
       "      <th>lender_count</th>\n",
       "      <th>borrower_genders</th>\n",
       "      <th>repayment_interval</th>\n",
       "    </tr>\n",
       "  </thead>\n",
       "  <tbody>\n",
       "    <tr>\n",
       "      <th>140</th>\n",
       "      <td>2975.0</td>\n",
       "      <td>2975.0</td>\n",
       "      <td>Food Production/Sales</td>\n",
       "      <td>Food</td>\n",
       "      <td>NaN</td>\n",
       "      <td>TZ</td>\n",
       "      <td>Tanzania</td>\n",
       "      <td>NaN</td>\n",
       "      <td>TZS</td>\n",
       "      <td>10.0</td>\n",
       "      <td>110</td>\n",
       "      <td>NaN</td>\n",
       "      <td>monthly</td>\n",
       "    </tr>\n",
       "    <tr>\n",
       "      <th>145</th>\n",
       "      <td>1200.0</td>\n",
       "      <td>1200.0</td>\n",
       "      <td>Personal Expenses</td>\n",
       "      <td>Personal Use</td>\n",
       "      <td>NaN</td>\n",
       "      <td>PE</td>\n",
       "      <td>Peru</td>\n",
       "      <td>NaN</td>\n",
       "      <td>PEN</td>\n",
       "      <td>20.0</td>\n",
       "      <td>44</td>\n",
       "      <td>NaN</td>\n",
       "      <td>monthly</td>\n",
       "    </tr>\n",
       "    <tr>\n",
       "      <th>170</th>\n",
       "      <td>4250.0</td>\n",
       "      <td>4250.0</td>\n",
       "      <td>Catering</td>\n",
       "      <td>Food</td>\n",
       "      <td>NaN</td>\n",
       "      <td>TZ</td>\n",
       "      <td>Tanzania</td>\n",
       "      <td>NaN</td>\n",
       "      <td>TZS</td>\n",
       "      <td>10.0</td>\n",
       "      <td>116</td>\n",
       "      <td>NaN</td>\n",
       "      <td>monthly</td>\n",
       "    </tr>\n",
       "    <tr>\n",
       "      <th>412</th>\n",
       "      <td>2350.0</td>\n",
       "      <td>2350.0</td>\n",
       "      <td>Beauty Salon</td>\n",
       "      <td>Services</td>\n",
       "      <td>NaN</td>\n",
       "      <td>TZ</td>\n",
       "      <td>Tanzania</td>\n",
       "      <td>NaN</td>\n",
       "      <td>TZS</td>\n",
       "      <td>10.0</td>\n",
       "      <td>75</td>\n",
       "      <td>NaN</td>\n",
       "      <td>monthly</td>\n",
       "    </tr>\n",
       "    <tr>\n",
       "      <th>414</th>\n",
       "      <td>725.0</td>\n",
       "      <td>725.0</td>\n",
       "      <td>Agriculture</td>\n",
       "      <td>Agriculture</td>\n",
       "      <td>NaN</td>\n",
       "      <td>SV</td>\n",
       "      <td>El Salvador</td>\n",
       "      <td>NaN</td>\n",
       "      <td>USD</td>\n",
       "      <td>20.0</td>\n",
       "      <td>19</td>\n",
       "      <td>NaN</td>\n",
       "      <td>monthly</td>\n",
       "    </tr>\n",
       "    <tr>\n",
       "      <th>...</th>\n",
       "      <td>...</td>\n",
       "      <td>...</td>\n",
       "      <td>...</td>\n",
       "      <td>...</td>\n",
       "      <td>...</td>\n",
       "      <td>...</td>\n",
       "      <td>...</td>\n",
       "      <td>...</td>\n",
       "      <td>...</td>\n",
       "      <td>...</td>\n",
       "      <td>...</td>\n",
       "      <td>...</td>\n",
       "      <td>...</td>\n",
       "    </tr>\n",
       "    <tr>\n",
       "      <th>636081</th>\n",
       "      <td>5625.0</td>\n",
       "      <td>10000.0</td>\n",
       "      <td>Weaving</td>\n",
       "      <td>Arts</td>\n",
       "      <td>NaN</td>\n",
       "      <td>BT</td>\n",
       "      <td>Bhutan</td>\n",
       "      <td>NaN</td>\n",
       "      <td>USD</td>\n",
       "      <td>14.0</td>\n",
       "      <td>210</td>\n",
       "      <td>NaN</td>\n",
       "      <td>irregular</td>\n",
       "    </tr>\n",
       "    <tr>\n",
       "      <th>637157</th>\n",
       "      <td>1975.0</td>\n",
       "      <td>1975.0</td>\n",
       "      <td>Home Energy</td>\n",
       "      <td>Personal Use</td>\n",
       "      <td>NaN</td>\n",
       "      <td>PS</td>\n",
       "      <td>Palestine</td>\n",
       "      <td>NaN</td>\n",
       "      <td>USD</td>\n",
       "      <td>27.0</td>\n",
       "      <td>39</td>\n",
       "      <td>NaN</td>\n",
       "      <td>monthly</td>\n",
       "    </tr>\n",
       "    <tr>\n",
       "      <th>637995</th>\n",
       "      <td>800.0</td>\n",
       "      <td>1600.0</td>\n",
       "      <td>Furniture Making</td>\n",
       "      <td>Manufacturing</td>\n",
       "      <td>NaN</td>\n",
       "      <td>HT</td>\n",
       "      <td>Haiti</td>\n",
       "      <td>NaN</td>\n",
       "      <td>HTG</td>\n",
       "      <td>13.0</td>\n",
       "      <td>27</td>\n",
       "      <td>NaN</td>\n",
       "      <td>irregular</td>\n",
       "    </tr>\n",
       "    <tr>\n",
       "      <th>646812</th>\n",
       "      <td>0.0</td>\n",
       "      <td>25.0</td>\n",
       "      <td>Livestock</td>\n",
       "      <td>Agriculture</td>\n",
       "      <td>NaN</td>\n",
       "      <td>KE</td>\n",
       "      <td>Kenya</td>\n",
       "      <td>NaN</td>\n",
       "      <td>KES</td>\n",
       "      <td>13.0</td>\n",
       "      <td>0</td>\n",
       "      <td>NaN</td>\n",
       "      <td>monthly</td>\n",
       "    </tr>\n",
       "    <tr>\n",
       "      <th>646826</th>\n",
       "      <td>0.0</td>\n",
       "      <td>25.0</td>\n",
       "      <td>Games</td>\n",
       "      <td>Entertainment</td>\n",
       "      <td>NaN</td>\n",
       "      <td>KE</td>\n",
       "      <td>Kenya</td>\n",
       "      <td>NaN</td>\n",
       "      <td>KES</td>\n",
       "      <td>13.0</td>\n",
       "      <td>0</td>\n",
       "      <td>NaN</td>\n",
       "      <td>monthly</td>\n",
       "    </tr>\n",
       "  </tbody>\n",
       "</table>\n",
       "<p>3888 rows × 13 columns</p>\n",
       "</div>"
      ],
      "text/plain": [
       "        funded_amount  loan_amount               activity         sector  use  \\\n",
       "140            2975.0       2975.0  Food Production/Sales           Food  NaN   \n",
       "145            1200.0       1200.0      Personal Expenses   Personal Use  NaN   \n",
       "170            4250.0       4250.0               Catering           Food  NaN   \n",
       "412            2350.0       2350.0           Beauty Salon       Services  NaN   \n",
       "414             725.0        725.0            Agriculture    Agriculture  NaN   \n",
       "...               ...          ...                    ...            ...  ...   \n",
       "636081         5625.0      10000.0                Weaving           Arts  NaN   \n",
       "637157         1975.0       1975.0            Home Energy   Personal Use  NaN   \n",
       "637995          800.0       1600.0       Furniture Making  Manufacturing  NaN   \n",
       "646812            0.0         25.0              Livestock    Agriculture  NaN   \n",
       "646826            0.0         25.0                  Games  Entertainment  NaN   \n",
       "\n",
       "       country_code      country region currency  term_in_months  \\\n",
       "140              TZ     Tanzania    NaN      TZS            10.0   \n",
       "145              PE         Peru    NaN      PEN            20.0   \n",
       "170              TZ     Tanzania    NaN      TZS            10.0   \n",
       "412              TZ     Tanzania    NaN      TZS            10.0   \n",
       "414              SV  El Salvador    NaN      USD            20.0   \n",
       "...             ...          ...    ...      ...             ...   \n",
       "636081           BT       Bhutan    NaN      USD            14.0   \n",
       "637157           PS    Palestine    NaN      USD            27.0   \n",
       "637995           HT        Haiti    NaN      HTG            13.0   \n",
       "646812           KE        Kenya    NaN      KES            13.0   \n",
       "646826           KE        Kenya    NaN      KES            13.0   \n",
       "\n",
       "        lender_count borrower_genders repayment_interval  \n",
       "140              110              NaN            monthly  \n",
       "145               44              NaN            monthly  \n",
       "170              116              NaN            monthly  \n",
       "412               75              NaN            monthly  \n",
       "414               19              NaN            monthly  \n",
       "...              ...              ...                ...  \n",
       "636081           210              NaN          irregular  \n",
       "637157            39              NaN            monthly  \n",
       "637995            27              NaN          irregular  \n",
       "646812             0              NaN            monthly  \n",
       "646826             0              NaN            monthly  \n",
       "\n",
       "[3888 rows x 13 columns]"
      ]
     },
     "execution_count": 20,
     "metadata": {},
     "output_type": "execute_result"
    }
   ],
   "source": [
    "# Check if null values in the columns use, borrower_genders, and region all stem from the same rows of data\n",
    "\n",
    "df.loc[(df['use'].isnull()) & (df['borrower_genders'].isnull()) & (df['region'].isnull()),:]"
   ]
  },
  {
   "cell_type": "code",
   "execution_count": 21,
   "id": "ab9d245f",
   "metadata": {},
   "outputs": [
    {
     "data": {
      "text/plain": [
       "Colombia         769\n",
       "Kenya            558\n",
       "El Salvador      533\n",
       "United States    159\n",
       "Uganda           151\n",
       "                ... \n",
       "South Africa       1\n",
       "Kyrgyzstan         1\n",
       "Chile              1\n",
       "Georgia            1\n",
       "Bhutan             1\n",
       "Name: country, Length: 69, dtype: int64"
      ]
     },
     "execution_count": 21,
     "metadata": {},
     "output_type": "execute_result"
    }
   ],
   "source": [
    "# Check if null values in the columns use, borrower_genders, and region exists in many or in just a few countries \n",
    "\n",
    "df.loc[(df['use'].isnull()) & (df['borrower_genders'].isnull()) & (df['region'].isnull()),'country'].value_counts()"
   ]
  },
  {
   "cell_type": "markdown",
   "id": "0d5f0879",
   "metadata": {},
   "source": [
    "**To note** \n",
    "\n",
    "- null values appear in a wide range of countries. \n",
    "\n",
    "Next, the rows with null values will be further looked at. Rows with null values in multiple columns could be considered for deletion if they lack the required information content and/or potential to fill them. Null values in multiple columns could also indicate a connection between the columns such as one missing value increasing the chance / causing the null value of another column.\n",
    "\n",
    "However, deleting rows with only one or very limited numbers of null values in their columns would result in a loss and potential skew of data contained in the dataset. Thus, it will be checked if null values in one column systematically appear with null values in one or more columns."
   ]
  },
  {
   "cell_type": "code",
   "execution_count": 22,
   "id": "e11fee72",
   "metadata": {},
   "outputs": [
    {
     "data": {
      "text/html": [
       "<div>\n",
       "<style scoped>\n",
       "    .dataframe tbody tr th:only-of-type {\n",
       "        vertical-align: middle;\n",
       "    }\n",
       "\n",
       "    .dataframe tbody tr th {\n",
       "        vertical-align: top;\n",
       "    }\n",
       "\n",
       "    .dataframe thead th {\n",
       "        text-align: right;\n",
       "    }\n",
       "</style>\n",
       "<table border=\"1\" class=\"dataframe\">\n",
       "  <thead>\n",
       "    <tr style=\"text-align: right;\">\n",
       "      <th></th>\n",
       "      <th>funded_amount</th>\n",
       "      <th>loan_amount</th>\n",
       "      <th>activity</th>\n",
       "      <th>sector</th>\n",
       "      <th>use</th>\n",
       "      <th>country_code</th>\n",
       "      <th>country</th>\n",
       "      <th>region</th>\n",
       "      <th>currency</th>\n",
       "      <th>term_in_months</th>\n",
       "      <th>lender_count</th>\n",
       "      <th>borrower_genders</th>\n",
       "      <th>repayment_interval</th>\n",
       "    </tr>\n",
       "  </thead>\n",
       "  <tbody>\n",
       "    <tr>\n",
       "      <th>76238</th>\n",
       "      <td>200.0</td>\n",
       "      <td>5000.0</td>\n",
       "      <td>Technology</td>\n",
       "      <td>Services</td>\n",
       "      <td>NaN</td>\n",
       "      <td>US</td>\n",
       "      <td>United States</td>\n",
       "      <td>NaN</td>\n",
       "      <td>USD</td>\n",
       "      <td>24.0</td>\n",
       "      <td>2</td>\n",
       "      <td>female</td>\n",
       "      <td>bullet</td>\n",
       "    </tr>\n",
       "    <tr>\n",
       "      <th>115857</th>\n",
       "      <td>2475.0</td>\n",
       "      <td>2475.0</td>\n",
       "      <td>Food Production/Sales</td>\n",
       "      <td>Food</td>\n",
       "      <td>NaN</td>\n",
       "      <td>RW</td>\n",
       "      <td>Rwanda</td>\n",
       "      <td>NaN</td>\n",
       "      <td>RWF</td>\n",
       "      <td>4.0</td>\n",
       "      <td>21</td>\n",
       "      <td>male, female, female, female, female, female, ...</td>\n",
       "      <td>irregular</td>\n",
       "    </tr>\n",
       "    <tr>\n",
       "      <th>183284</th>\n",
       "      <td>235.0</td>\n",
       "      <td>4000.0</td>\n",
       "      <td>Technology</td>\n",
       "      <td>Services</td>\n",
       "      <td>NaN</td>\n",
       "      <td>US</td>\n",
       "      <td>United States</td>\n",
       "      <td>NaN</td>\n",
       "      <td>USD</td>\n",
       "      <td>24.0</td>\n",
       "      <td>9</td>\n",
       "      <td>female</td>\n",
       "      <td>bullet</td>\n",
       "    </tr>\n",
       "    <tr>\n",
       "      <th>191009</th>\n",
       "      <td>650.0</td>\n",
       "      <td>650.0</td>\n",
       "      <td>Agriculture</td>\n",
       "      <td>Agriculture</td>\n",
       "      <td>NaN</td>\n",
       "      <td>SV</td>\n",
       "      <td>El Salvador</td>\n",
       "      <td>Osicala</td>\n",
       "      <td>USD</td>\n",
       "      <td>15.0</td>\n",
       "      <td>21</td>\n",
       "      <td>female</td>\n",
       "      <td>bullet</td>\n",
       "    </tr>\n",
       "    <tr>\n",
       "      <th>204015</th>\n",
       "      <td>100.0</td>\n",
       "      <td>5000.0</td>\n",
       "      <td>Clothing</td>\n",
       "      <td>Clothing</td>\n",
       "      <td>NaN</td>\n",
       "      <td>US</td>\n",
       "      <td>United States</td>\n",
       "      <td>NaN</td>\n",
       "      <td>USD</td>\n",
       "      <td>12.0</td>\n",
       "      <td>2</td>\n",
       "      <td>male</td>\n",
       "      <td>bullet</td>\n",
       "    </tr>\n",
       "    <tr>\n",
       "      <th>206788</th>\n",
       "      <td>0.0</td>\n",
       "      <td>5000.0</td>\n",
       "      <td>Food Production/Sales</td>\n",
       "      <td>Food</td>\n",
       "      <td>NaN</td>\n",
       "      <td>US</td>\n",
       "      <td>United States</td>\n",
       "      <td>NaN</td>\n",
       "      <td>USD</td>\n",
       "      <td>24.0</td>\n",
       "      <td>0</td>\n",
       "      <td>female</td>\n",
       "      <td>bullet</td>\n",
       "    </tr>\n",
       "    <tr>\n",
       "      <th>243095</th>\n",
       "      <td>0.0</td>\n",
       "      <td>3000.0</td>\n",
       "      <td>Services</td>\n",
       "      <td>Services</td>\n",
       "      <td>NaN</td>\n",
       "      <td>US</td>\n",
       "      <td>United States</td>\n",
       "      <td>NaN</td>\n",
       "      <td>USD</td>\n",
       "      <td>18.0</td>\n",
       "      <td>0</td>\n",
       "      <td>female</td>\n",
       "      <td>bullet</td>\n",
       "    </tr>\n",
       "    <tr>\n",
       "      <th>287353</th>\n",
       "      <td>750.0</td>\n",
       "      <td>1175.0</td>\n",
       "      <td>Clothing Sales</td>\n",
       "      <td>Clothing</td>\n",
       "      <td>NaN</td>\n",
       "      <td>KE</td>\n",
       "      <td>Kenya</td>\n",
       "      <td>Maua</td>\n",
       "      <td>KES</td>\n",
       "      <td>14.0</td>\n",
       "      <td>11</td>\n",
       "      <td>male</td>\n",
       "      <td>monthly</td>\n",
       "    </tr>\n",
       "    <tr>\n",
       "      <th>354828</th>\n",
       "      <td>100.0</td>\n",
       "      <td>100.0</td>\n",
       "      <td>Farming</td>\n",
       "      <td>Agriculture</td>\n",
       "      <td>NaN</td>\n",
       "      <td>MZ</td>\n",
       "      <td>Mozambique</td>\n",
       "      <td>Boane</td>\n",
       "      <td>MZN</td>\n",
       "      <td>7.0</td>\n",
       "      <td>4</td>\n",
       "      <td>male</td>\n",
       "      <td>monthly</td>\n",
       "    </tr>\n",
       "    <tr>\n",
       "      <th>441552</th>\n",
       "      <td>200.0</td>\n",
       "      <td>200.0</td>\n",
       "      <td>Home Appliances</td>\n",
       "      <td>Personal Use</td>\n",
       "      <td>NaN</td>\n",
       "      <td>KH</td>\n",
       "      <td>Cambodia</td>\n",
       "      <td>Kampong Speu</td>\n",
       "      <td>KHR</td>\n",
       "      <td>8.0</td>\n",
       "      <td>7</td>\n",
       "      <td>female, male, female, female, male</td>\n",
       "      <td>monthly</td>\n",
       "    </tr>\n",
       "    <tr>\n",
       "      <th>467261</th>\n",
       "      <td>700.0</td>\n",
       "      <td>700.0</td>\n",
       "      <td>Pigs</td>\n",
       "      <td>Agriculture</td>\n",
       "      <td>NaN</td>\n",
       "      <td>KH</td>\n",
       "      <td>Cambodia</td>\n",
       "      <td>Battambang province, Sangke district</td>\n",
       "      <td>KHR</td>\n",
       "      <td>11.0</td>\n",
       "      <td>16</td>\n",
       "      <td>female, female</td>\n",
       "      <td>monthly</td>\n",
       "    </tr>\n",
       "  </tbody>\n",
       "</table>\n",
       "</div>"
      ],
      "text/plain": [
       "        funded_amount  loan_amount               activity        sector  use  \\\n",
       "76238           200.0       5000.0             Technology      Services  NaN   \n",
       "115857         2475.0       2475.0  Food Production/Sales          Food  NaN   \n",
       "183284          235.0       4000.0             Technology      Services  NaN   \n",
       "191009          650.0        650.0            Agriculture   Agriculture  NaN   \n",
       "204015          100.0       5000.0               Clothing      Clothing  NaN   \n",
       "206788            0.0       5000.0  Food Production/Sales          Food  NaN   \n",
       "243095            0.0       3000.0               Services      Services  NaN   \n",
       "287353          750.0       1175.0         Clothing Sales      Clothing  NaN   \n",
       "354828          100.0        100.0                Farming   Agriculture  NaN   \n",
       "441552          200.0        200.0        Home Appliances  Personal Use  NaN   \n",
       "467261          700.0        700.0                   Pigs   Agriculture  NaN   \n",
       "\n",
       "       country_code        country                                region  \\\n",
       "76238            US  United States                                   NaN   \n",
       "115857           RW         Rwanda                                   NaN   \n",
       "183284           US  United States                                   NaN   \n",
       "191009           SV    El Salvador                               Osicala   \n",
       "204015           US  United States                                   NaN   \n",
       "206788           US  United States                                   NaN   \n",
       "243095           US  United States                                   NaN   \n",
       "287353           KE          Kenya                                  Maua   \n",
       "354828           MZ     Mozambique                                 Boane   \n",
       "441552           KH       Cambodia                          Kampong Speu   \n",
       "467261           KH       Cambodia  Battambang province, Sangke district   \n",
       "\n",
       "       currency  term_in_months  lender_count  \\\n",
       "76238       USD            24.0             2   \n",
       "115857      RWF             4.0            21   \n",
       "183284      USD            24.0             9   \n",
       "191009      USD            15.0            21   \n",
       "204015      USD            12.0             2   \n",
       "206788      USD            24.0             0   \n",
       "243095      USD            18.0             0   \n",
       "287353      KES            14.0            11   \n",
       "354828      MZN             7.0             4   \n",
       "441552      KHR             8.0             7   \n",
       "467261      KHR            11.0            16   \n",
       "\n",
       "                                         borrower_genders repayment_interval  \n",
       "76238                                              female             bullet  \n",
       "115857  male, female, female, female, female, female, ...          irregular  \n",
       "183284                                             female             bullet  \n",
       "191009                                             female             bullet  \n",
       "204015                                               male             bullet  \n",
       "206788                                             female             bullet  \n",
       "243095                                             female             bullet  \n",
       "287353                                               male            monthly  \n",
       "354828                                               male            monthly  \n",
       "441552                 female, male, female, female, male            monthly  \n",
       "467261                                     female, female            monthly  "
      ]
     },
     "execution_count": 22,
     "metadata": {},
     "output_type": "execute_result"
    }
   ],
   "source": [
    "# Check if there are null values in the column 'use' but not in the column 'borrower_genders'\n",
    "\n",
    "df.loc[(df['use'].isnull()) & (~df['borrower_genders'].isnull()),:]"
   ]
  },
  {
   "cell_type": "markdown",
   "id": "d8781926",
   "metadata": {},
   "source": [
    "Rows exist with null values in the column 'use' but not in the column 'borrower_genders'."
   ]
  },
  {
   "cell_type": "code",
   "execution_count": 23,
   "id": "e2d8904e",
   "metadata": {},
   "outputs": [
    {
     "data": {
      "text/html": [
       "<div>\n",
       "<style scoped>\n",
       "    .dataframe tbody tr th:only-of-type {\n",
       "        vertical-align: middle;\n",
       "    }\n",
       "\n",
       "    .dataframe tbody tr th {\n",
       "        vertical-align: top;\n",
       "    }\n",
       "\n",
       "    .dataframe thead th {\n",
       "        text-align: right;\n",
       "    }\n",
       "</style>\n",
       "<table border=\"1\" class=\"dataframe\">\n",
       "  <thead>\n",
       "    <tr style=\"text-align: right;\">\n",
       "      <th></th>\n",
       "      <th>funded_amount</th>\n",
       "      <th>loan_amount</th>\n",
       "      <th>activity</th>\n",
       "      <th>sector</th>\n",
       "      <th>use</th>\n",
       "      <th>country_code</th>\n",
       "      <th>country</th>\n",
       "      <th>region</th>\n",
       "      <th>currency</th>\n",
       "      <th>term_in_months</th>\n",
       "      <th>lender_count</th>\n",
       "      <th>borrower_genders</th>\n",
       "      <th>repayment_interval</th>\n",
       "    </tr>\n",
       "  </thead>\n",
       "  <tbody>\n",
       "  </tbody>\n",
       "</table>\n",
       "</div>"
      ],
      "text/plain": [
       "Empty DataFrame\n",
       "Columns: [funded_amount, loan_amount, activity, sector, use, country_code, country, region, currency, term_in_months, lender_count, borrower_genders, repayment_interval]\n",
       "Index: []"
      ]
     },
     "execution_count": 23,
     "metadata": {},
     "output_type": "execute_result"
    }
   ],
   "source": [
    "# Check if there are null values in the column 'use' but not in the column 'borrower_genders'\n",
    "\n",
    "df.loc[(df['borrower_genders'].isnull()) & (~df['use'].isnull())]"
   ]
  },
  {
   "cell_type": "markdown",
   "id": "48284387",
   "metadata": {},
   "source": [
    "There are no rows with null values in the column 'use' but not in the column 'borrower_genders'."
   ]
  },
  {
   "cell_type": "code",
   "execution_count": 24,
   "id": "9d6b3e65",
   "metadata": {},
   "outputs": [
    {
     "data": {
      "text/html": [
       "<div>\n",
       "<style scoped>\n",
       "    .dataframe tbody tr th:only-of-type {\n",
       "        vertical-align: middle;\n",
       "    }\n",
       "\n",
       "    .dataframe tbody tr th {\n",
       "        vertical-align: top;\n",
       "    }\n",
       "\n",
       "    .dataframe thead th {\n",
       "        text-align: right;\n",
       "    }\n",
       "</style>\n",
       "<table border=\"1\" class=\"dataframe\">\n",
       "  <thead>\n",
       "    <tr style=\"text-align: right;\">\n",
       "      <th></th>\n",
       "      <th>funded_amount</th>\n",
       "      <th>loan_amount</th>\n",
       "      <th>activity</th>\n",
       "      <th>sector</th>\n",
       "      <th>use</th>\n",
       "      <th>country_code</th>\n",
       "      <th>country</th>\n",
       "      <th>region</th>\n",
       "      <th>currency</th>\n",
       "      <th>term_in_months</th>\n",
       "      <th>lender_count</th>\n",
       "      <th>borrower_genders</th>\n",
       "      <th>repayment_interval</th>\n",
       "    </tr>\n",
       "  </thead>\n",
       "  <tbody>\n",
       "    <tr>\n",
       "      <th>191009</th>\n",
       "      <td>650.0</td>\n",
       "      <td>650.0</td>\n",
       "      <td>Agriculture</td>\n",
       "      <td>Agriculture</td>\n",
       "      <td>NaN</td>\n",
       "      <td>SV</td>\n",
       "      <td>El Salvador</td>\n",
       "      <td>Osicala</td>\n",
       "      <td>USD</td>\n",
       "      <td>15.0</td>\n",
       "      <td>21</td>\n",
       "      <td>female</td>\n",
       "      <td>bullet</td>\n",
       "    </tr>\n",
       "    <tr>\n",
       "      <th>287353</th>\n",
       "      <td>750.0</td>\n",
       "      <td>1175.0</td>\n",
       "      <td>Clothing Sales</td>\n",
       "      <td>Clothing</td>\n",
       "      <td>NaN</td>\n",
       "      <td>KE</td>\n",
       "      <td>Kenya</td>\n",
       "      <td>Maua</td>\n",
       "      <td>KES</td>\n",
       "      <td>14.0</td>\n",
       "      <td>11</td>\n",
       "      <td>male</td>\n",
       "      <td>monthly</td>\n",
       "    </tr>\n",
       "    <tr>\n",
       "      <th>354828</th>\n",
       "      <td>100.0</td>\n",
       "      <td>100.0</td>\n",
       "      <td>Farming</td>\n",
       "      <td>Agriculture</td>\n",
       "      <td>NaN</td>\n",
       "      <td>MZ</td>\n",
       "      <td>Mozambique</td>\n",
       "      <td>Boane</td>\n",
       "      <td>MZN</td>\n",
       "      <td>7.0</td>\n",
       "      <td>4</td>\n",
       "      <td>male</td>\n",
       "      <td>monthly</td>\n",
       "    </tr>\n",
       "    <tr>\n",
       "      <th>441552</th>\n",
       "      <td>200.0</td>\n",
       "      <td>200.0</td>\n",
       "      <td>Home Appliances</td>\n",
       "      <td>Personal Use</td>\n",
       "      <td>NaN</td>\n",
       "      <td>KH</td>\n",
       "      <td>Cambodia</td>\n",
       "      <td>Kampong Speu</td>\n",
       "      <td>KHR</td>\n",
       "      <td>8.0</td>\n",
       "      <td>7</td>\n",
       "      <td>female, male, female, female, male</td>\n",
       "      <td>monthly</td>\n",
       "    </tr>\n",
       "    <tr>\n",
       "      <th>467261</th>\n",
       "      <td>700.0</td>\n",
       "      <td>700.0</td>\n",
       "      <td>Pigs</td>\n",
       "      <td>Agriculture</td>\n",
       "      <td>NaN</td>\n",
       "      <td>KH</td>\n",
       "      <td>Cambodia</td>\n",
       "      <td>Battambang province, Sangke district</td>\n",
       "      <td>KHR</td>\n",
       "      <td>11.0</td>\n",
       "      <td>16</td>\n",
       "      <td>female, female</td>\n",
       "      <td>monthly</td>\n",
       "    </tr>\n",
       "  </tbody>\n",
       "</table>\n",
       "</div>"
      ],
      "text/plain": [
       "        funded_amount  loan_amount         activity        sector  use  \\\n",
       "191009          650.0        650.0      Agriculture   Agriculture  NaN   \n",
       "287353          750.0       1175.0   Clothing Sales      Clothing  NaN   \n",
       "354828          100.0        100.0          Farming   Agriculture  NaN   \n",
       "441552          200.0        200.0  Home Appliances  Personal Use  NaN   \n",
       "467261          700.0        700.0             Pigs   Agriculture  NaN   \n",
       "\n",
       "       country_code      country                                region  \\\n",
       "191009           SV  El Salvador                               Osicala   \n",
       "287353           KE        Kenya                                  Maua   \n",
       "354828           MZ   Mozambique                                 Boane   \n",
       "441552           KH     Cambodia                          Kampong Speu   \n",
       "467261           KH     Cambodia  Battambang province, Sangke district   \n",
       "\n",
       "       currency  term_in_months  lender_count  \\\n",
       "191009      USD            15.0            21   \n",
       "287353      KES            14.0            11   \n",
       "354828      MZN             7.0             4   \n",
       "441552      KHR             8.0             7   \n",
       "467261      KHR            11.0            16   \n",
       "\n",
       "                          borrower_genders repayment_interval  \n",
       "191009                              female             bullet  \n",
       "287353                                male            monthly  \n",
       "354828                                male            monthly  \n",
       "441552  female, male, female, female, male            monthly  \n",
       "467261                      female, female            monthly  "
      ]
     },
     "execution_count": 24,
     "metadata": {},
     "output_type": "execute_result"
    }
   ],
   "source": [
    "# Check if there are null values in the column 'use' but not in the column 'region'\n",
    "\n",
    "df.loc[(df['use'].isnull()) & (~df['region'].isnull()),:]"
   ]
  },
  {
   "cell_type": "markdown",
   "id": "5e17c70c",
   "metadata": {},
   "source": [
    "There are rows with null values in the column 'use' but not in the column 'region'."
   ]
  },
  {
   "cell_type": "code",
   "execution_count": 25,
   "id": "a19943b4",
   "metadata": {},
   "outputs": [
    {
     "data": {
      "text/html": [
       "<div>\n",
       "<style scoped>\n",
       "    .dataframe tbody tr th:only-of-type {\n",
       "        vertical-align: middle;\n",
       "    }\n",
       "\n",
       "    .dataframe tbody tr th {\n",
       "        vertical-align: top;\n",
       "    }\n",
       "\n",
       "    .dataframe thead th {\n",
       "        text-align: right;\n",
       "    }\n",
       "</style>\n",
       "<table border=\"1\" class=\"dataframe\">\n",
       "  <thead>\n",
       "    <tr style=\"text-align: right;\">\n",
       "      <th></th>\n",
       "      <th>funded_amount</th>\n",
       "      <th>loan_amount</th>\n",
       "      <th>activity</th>\n",
       "      <th>sector</th>\n",
       "      <th>use</th>\n",
       "      <th>country_code</th>\n",
       "      <th>country</th>\n",
       "      <th>region</th>\n",
       "      <th>currency</th>\n",
       "      <th>term_in_months</th>\n",
       "      <th>lender_count</th>\n",
       "      <th>borrower_genders</th>\n",
       "      <th>repayment_interval</th>\n",
       "    </tr>\n",
       "  </thead>\n",
       "  <tbody>\n",
       "  </tbody>\n",
       "</table>\n",
       "</div>"
      ],
      "text/plain": [
       "Empty DataFrame\n",
       "Columns: [funded_amount, loan_amount, activity, sector, use, country_code, country, region, currency, term_in_months, lender_count, borrower_genders, repayment_interval]\n",
       "Index: []"
      ]
     },
     "execution_count": 25,
     "metadata": {},
     "output_type": "execute_result"
    }
   ],
   "source": [
    "# Check if there are null values in the column 'use' but not in the column 'region'\n",
    "\n",
    "df.loc[(df['borrower_genders'].isnull()) & (~df['region'].isnull()),:]"
   ]
  },
  {
   "cell_type": "markdown",
   "id": "3c143b7c",
   "metadata": {},
   "source": [
    "There are no rows with null values in the column 'use' but not in the column 'region'."
   ]
  },
  {
   "cell_type": "markdown",
   "id": "94cd3d7a",
   "metadata": {},
   "source": [
    "**To note** \n",
    "\n",
    "- the columns 'use', 'country_code', 'region', 'borrower_genders' have null values. \n",
    "- the highest percentage of null values is present in the column 'region' (8.7%) \n",
    "- other columns with null values are the columns 'use' (0.6%), 'borrower_genders' (0.6%)., and 'country code' (0.0%).\n",
    "\n",
    "Thereby, a null value in the column 'borrower_genders' is always accompanied by a null value in the column 'region' and 'use'. This, however, is not the case vice versa.\n",
    "\n",
    "Both the 'region' and the 'use' column have missing values in entries where the other columns have no missing values."
   ]
  },
  {
   "cell_type": "markdown",
   "id": "757b0b14",
   "metadata": {},
   "source": [
    "#### Handling of missing values\n",
    "\n",
    "\n",
    "Next, one of the following approaches will be considered for missing values:\n",
    "1. For numeric values: fill missing values with median value\n",
    "2. For categorical values: fill missing values with mode value\n",
    "3. Deletion of entire column or row if not needed for analysis\n",
    "\n"
   ]
  },
  {
   "cell_type": "code",
   "execution_count": 26,
   "id": "a2e14f29",
   "metadata": {},
   "outputs": [
    {
     "data": {
      "text/plain": [
       "array(['Namibia'], dtype=object)"
      ]
     },
     "execution_count": 26,
     "metadata": {},
     "output_type": "execute_result"
    }
   ],
   "source": [
    "# Deep dive into the null values in the country_code country\n",
    "\n",
    "df.loc[df['country_code'].isnull(),'country'].unique()"
   ]
  },
  {
   "cell_type": "markdown",
   "id": "dd99adfb",
   "metadata": {},
   "source": [
    "Namibia is the only country that lacks a value in the column 'country_code'."
   ]
  },
  {
   "cell_type": "code",
   "execution_count": 27,
   "id": "d250ab73",
   "metadata": {},
   "outputs": [
    {
     "data": {
      "text/html": [
       "<div>\n",
       "<style scoped>\n",
       "    .dataframe tbody tr th:only-of-type {\n",
       "        vertical-align: middle;\n",
       "    }\n",
       "\n",
       "    .dataframe tbody tr th {\n",
       "        vertical-align: top;\n",
       "    }\n",
       "\n",
       "    .dataframe thead th {\n",
       "        text-align: right;\n",
       "    }\n",
       "</style>\n",
       "<table border=\"1\" class=\"dataframe\">\n",
       "  <thead>\n",
       "    <tr style=\"text-align: right;\">\n",
       "      <th></th>\n",
       "      <th>funded_amount</th>\n",
       "      <th>loan_amount</th>\n",
       "      <th>activity</th>\n",
       "      <th>sector</th>\n",
       "      <th>use</th>\n",
       "      <th>country_code</th>\n",
       "      <th>country</th>\n",
       "      <th>region</th>\n",
       "      <th>currency</th>\n",
       "      <th>term_in_months</th>\n",
       "      <th>lender_count</th>\n",
       "      <th>borrower_genders</th>\n",
       "      <th>repayment_interval</th>\n",
       "    </tr>\n",
       "  </thead>\n",
       "  <tbody>\n",
       "  </tbody>\n",
       "</table>\n",
       "</div>"
      ],
      "text/plain": [
       "Empty DataFrame\n",
       "Columns: [funded_amount, loan_amount, activity, sector, use, country_code, country, region, currency, term_in_months, lender_count, borrower_genders, repayment_interval]\n",
       "Index: []"
      ]
     },
     "execution_count": 27,
     "metadata": {},
     "output_type": "execute_result"
    }
   ],
   "source": [
    "# Check if Namibia's official country code is present in dataset\n",
    "\n",
    "df.loc[df['country_code']=='NA',:]"
   ]
  },
  {
   "cell_type": "markdown",
   "id": "8571ede7",
   "metadata": {},
   "source": [
    "Namibia's country code ('NA') is not yet present in the dataset. As the official country iso code is publicly available and as country iso codes are standardized combination of characters, Namibia's two digit country code will be filled with 'NA'.  The format of the alpha-code2 was chosen to align with the existing structure of the other country codes. "
   ]
  },
  {
   "cell_type": "markdown",
   "id": "bcd1586b",
   "metadata": {},
   "source": [
    "Assumption: In this case the missing values in the country_code column might stem from the fact that Namibia's country code 'NA' was, when extracted and transformed into a csv, interpreted by the system as a 'not applicable (NA)' value. Should this issue persist in the future it would be advisable to account for it in future data extractions."
   ]
  },
  {
   "cell_type": "code",
   "execution_count": 28,
   "id": "9baa3311",
   "metadata": {},
   "outputs": [],
   "source": [
    "# replace missing values in country code column\n",
    "\n",
    "df.loc[:, \"country_code\"].replace(np.nan, 'NA', inplace=True)"
   ]
  },
  {
   "cell_type": "code",
   "execution_count": 29,
   "id": "a286f98f",
   "metadata": {},
   "outputs": [
    {
     "data": {
      "text/html": [
       "<div>\n",
       "<style scoped>\n",
       "    .dataframe tbody tr th:only-of-type {\n",
       "        vertical-align: middle;\n",
       "    }\n",
       "\n",
       "    .dataframe tbody tr th {\n",
       "        vertical-align: top;\n",
       "    }\n",
       "\n",
       "    .dataframe thead th {\n",
       "        text-align: right;\n",
       "    }\n",
       "</style>\n",
       "<table border=\"1\" class=\"dataframe\">\n",
       "  <thead>\n",
       "    <tr style=\"text-align: right;\">\n",
       "      <th></th>\n",
       "      <th>funded_amount</th>\n",
       "      <th>loan_amount</th>\n",
       "      <th>activity</th>\n",
       "      <th>sector</th>\n",
       "      <th>use</th>\n",
       "      <th>country_code</th>\n",
       "      <th>country</th>\n",
       "      <th>region</th>\n",
       "      <th>currency</th>\n",
       "      <th>term_in_months</th>\n",
       "      <th>lender_count</th>\n",
       "      <th>borrower_genders</th>\n",
       "      <th>repayment_interval</th>\n",
       "    </tr>\n",
       "  </thead>\n",
       "  <tbody>\n",
       "  </tbody>\n",
       "</table>\n",
       "</div>"
      ],
      "text/plain": [
       "Empty DataFrame\n",
       "Columns: [funded_amount, loan_amount, activity, sector, use, country_code, country, region, currency, term_in_months, lender_count, borrower_genders, repayment_interval]\n",
       "Index: []"
      ]
     },
     "execution_count": 29,
     "metadata": {},
     "output_type": "execute_result"
    }
   ],
   "source": [
    "# Check that there are no more null values\n",
    "\n",
    "df.loc[df['country_code'].isnull(),:]"
   ]
  },
  {
   "cell_type": "markdown",
   "id": "d30afd48",
   "metadata": {},
   "source": [
    "Null values in the column 'region':"
   ]
  },
  {
   "cell_type": "code",
   "execution_count": 30,
   "id": "b787c2f2",
   "metadata": {},
   "outputs": [
    {
     "name": "stdout",
     "output_type": "stream",
     "text": [
      "There are 56163 missing values present in the column region.\n"
     ]
    }
   ],
   "source": [
    "# Number of missing values in column region\n",
    "\n",
    "print('There are', df['region'].isnull().sum(), 'missing values present in the column region.')"
   ]
  },
  {
   "cell_type": "code",
   "execution_count": 31,
   "id": "6dd69d52",
   "metadata": {},
   "outputs": [
    {
     "data": {
      "text/plain": [
       "El Salvador      20222\n",
       "Kenya             8547\n",
       "Rwanda            6080\n",
       "United States     5172\n",
       "Senegal           3229\n",
       "                 ...  \n",
       "China                1\n",
       "Georgia              1\n",
       "Chile                1\n",
       "Guam                 1\n",
       "Bhutan               1\n",
       "Name: country, Length: 72, dtype: int64"
      ]
     },
     "execution_count": 31,
     "metadata": {},
     "output_type": "execute_result"
    }
   ],
   "source": [
    "# see if null values in region column exist only in a few countries\n",
    "\n",
    "df.loc[df['region'].isnull(),'country'].value_counts()"
   ]
  },
  {
   "cell_type": "markdown",
   "id": "6d267cd9",
   "metadata": {},
   "source": [
    "Null values in region column exist in many countries. "
   ]
  },
  {
   "cell_type": "code",
   "execution_count": 32,
   "id": "43cf1af4",
   "metadata": {},
   "outputs": [
    {
     "data": {
      "text/plain": [
       "San Miguel                                   2737\n",
       "Gotera                                       2300\n",
       "Usulután                                     2230\n",
       "Ciudad El Triunfo                            2176\n",
       "El Transito                                  1842\n",
       "Osicala                                      1712\n",
       "La Unión                                     1615\n",
       "Sensuntepeque                                1194\n",
       "Anamoros                                     1074\n",
       "Ciudad Barrios                                982\n",
       "Jiquilisco                                    707\n",
       "San Vicente                                   675\n",
       "San Miguel, San Miguel                         68\n",
       "San Rafael de Oriente, San Miguel              35\n",
       "San Francisco Gotera, Morazan                  30\n",
       "Corinto, Morazan                               29\n",
       "Zacatecoluca                                   26\n",
       "Jiquilisco, Usulutan                           22\n",
       "El Transito, San Miguel                        18\n",
       "San Carlos, Morazan                            18\n",
       "Jucuapa, Usulutan                              15\n",
       "El Divisadero,  Morazan                        14\n",
       "Guatajiagua, Morazan                           14\n",
       "Lolotiquillo, Morazan                          10\n",
       "La Libertad                                     9\n",
       "Ahuachapan                                      9\n",
       "San Jorge, San Miguel                           8\n",
       "Concepcion Batres, Usulutan                     7\n",
       "Chilanga, Morazan                               7\n",
       "jocoaitique,Morazan                             4\n",
       "Santa Ana                                       4\n",
       "Osicala, Morazan                                3\n",
       "Sonsonate                                       2\n",
       "San Buena Ventura, Usulutan                     2\n",
       "Meanguera, Morazan                              2\n",
       "Yamabal, Morazan                                2\n",
       "Chinameca, San Miguel                           2\n",
       "Delicias de Concepcion, Morazan                 2\n",
       "Cacaopera, Morazan                              2\n",
       "Semsembra, Morazan                              2\n",
       "Gualococti, Morazan                             2\n",
       "San Isidro, Morazán                             1\n",
       "La Libertad, La Libertad                        1\n",
       "Chalatenango, Chalatenango                      1\n",
       "San Simon Morazan.                              1\n",
       "Berlin, Usulutan                                1\n",
       "La Palma                                        1\n",
       "Joateca, Morazán                                1\n",
       "Moncagua, San Miguel.                           1\n",
       "Yoloaiquin, Morazan                             1\n",
       "Canton San Francisco, San Simon, Morazan.       1\n",
       "Santiago de Maria, Usulutan                     1\n",
       "Name: region, dtype: int64"
      ]
     },
     "execution_count": 32,
     "metadata": {},
     "output_type": "execute_result"
    }
   ],
   "source": [
    "# example of values for region in El Salvador\n",
    "\n",
    "df.loc[df['country']=='El Salvador','region'].value_counts()"
   ]
  },
  {
   "cell_type": "markdown",
   "id": "e7c6bb89",
   "metadata": {},
   "source": [
    "**To note**\n",
    "\n",
    "Missing values in column 'region'\n",
    "\n",
    "- with approx. 8.7% of null values, it has the highest percentage of missing values in the dataset\n",
    "- missing values are quite spead out; are present in 72 countries \n",
    "- there seems to be a lack of standardization of the column: different granularity of data (see example above: 'region' == 'San Miguel' , 'region' == 'San Miguel, San Miguel', 'region' == 'San Jorge, San Miguel').\n",
    "\n",
    "\n",
    "\n",
    "**Handling of missing values in the column 'region'**\n",
    "\n",
    "For the following (exploratory) data analysis the region information will not be utilized. The column 'region' contains information on the different geographical regions within a country; however, for this analysis, the granularity on a country level is sufficient for the planned analysis. Hence, the column will be dropped in the following. If required, future analysis can then increase the level (geographical) granularity and include the column 'region'. "
   ]
  },
  {
   "cell_type": "code",
   "execution_count": 33,
   "id": "8c28340c",
   "metadata": {},
   "outputs": [],
   "source": [
    "# drop column 'region'\n",
    "\n",
    "df.drop(columns='region', inplace=True)"
   ]
  },
  {
   "cell_type": "markdown",
   "id": "8ef95da6",
   "metadata": {},
   "source": [
    "Null values in the column 'use':"
   ]
  },
  {
   "cell_type": "code",
   "execution_count": 34,
   "id": "462651d4",
   "metadata": {},
   "outputs": [
    {
     "name": "stdout",
     "output_type": "stream",
     "text": [
      "There are 3899 missing values present in the column use.\n"
     ]
    }
   ],
   "source": [
    "# number of missing values in the column 'use'\n",
    "\n",
    "print('There are', df['use'].isnull().sum(),\n",
    "      'missing values present in the column use.')"
   ]
  },
  {
   "cell_type": "code",
   "execution_count": 35,
   "id": "0b5ca83a",
   "metadata": {
    "scrolled": true
   },
   "outputs": [
    {
     "data": {
      "text/plain": [
       "Colombia         769\n",
       "Kenya            559\n",
       "El Salvador      534\n",
       "United States    164\n",
       "Uganda           151\n",
       "                ... \n",
       "Chile              1\n",
       "Kyrgyzstan         1\n",
       "Puerto Rico        1\n",
       "China              1\n",
       "Bhutan             1\n",
       "Name: country, Length: 69, dtype: int64"
      ]
     },
     "execution_count": 35,
     "metadata": {},
     "output_type": "execute_result"
    }
   ],
   "source": [
    "# see if missing values are concentrated for entries in specific countries\n",
    "\n",
    "df.loc[df['use'].isnull(),'country'].value_counts()"
   ]
  },
  {
   "cell_type": "markdown",
   "id": "84d0992e",
   "metadata": {},
   "source": [
    "Null values in the column 'use' exist in many countries. "
   ]
  },
  {
   "cell_type": "markdown",
   "id": "1b808230",
   "metadata": {},
   "source": [
    "**To note**\n",
    "\n",
    "Missing values in column 'use'\n",
    "\n",
    "- 3899 null values \n",
    "- contains short descriptions of the borrower's planned purchase for which they require an investment\n",
    "\n",
    "**Handling of missing values in the column 'use'**\n",
    "\n",
    "\n",
    "Similar to the column 'region', the column 'use' will be not be utilized in the course of this analysis as it contains too detailed information for the planned analysis."
   ]
  },
  {
   "cell_type": "code",
   "execution_count": 36,
   "id": "17b8f182",
   "metadata": {},
   "outputs": [],
   "source": [
    "# drop the column 'use'\n",
    "\n",
    "df.drop(columns='use', inplace=True)"
   ]
  },
  {
   "cell_type": "markdown",
   "id": "0f227927",
   "metadata": {},
   "source": [
    "Null values in the column 'borrower_genders':\n"
   ]
  },
  {
   "cell_type": "code",
   "execution_count": 37,
   "id": "8db84dd3",
   "metadata": {},
   "outputs": [
    {
     "name": "stdout",
     "output_type": "stream",
     "text": [
      "There are 3888 missing values present in the column borrower_genders.\n"
     ]
    }
   ],
   "source": [
    "print('There are', df['borrower_genders'].isnull().sum(),\n",
    "      'missing values present in the column borrower_genders.')"
   ]
  },
  {
   "cell_type": "markdown",
   "id": "316c7c23",
   "metadata": {},
   "source": [
    "**To note**\n",
    "\n",
    "Missing values in column 'borrower_genders'\n",
    "- 3888 missing values\n",
    "\n",
    "**Handling of missing values in the column 'use'**\n",
    "\n",
    "The column 'borrower_genders' will be used in the following analysis: thus, its missing values will be filled with the mode. The mode is chosen as the column's scale level is nominal. However, not the overall mode of the column will be used to fill the null values as this bears the risk of oversimplifying the imputation which could lead to skewed data. Instead the mode by country code and sector will be calculated and used to replace the missing values. "
   ]
  },
  {
   "cell_type": "code",
   "execution_count": 38,
   "id": "20e4076d",
   "metadata": {},
   "outputs": [
    {
     "data": {
      "text/plain": [
       "female    361\n",
       "male      354\n",
       "Name: borrower_genders, dtype: int64"
      ]
     },
     "execution_count": 38,
     "metadata": {},
     "output_type": "execute_result"
    }
   ],
   "source": [
    "# Check example of occurences of column borrower_genders\n",
    "\n",
    "df.loc[(df['country_code']=='AL') &  (df['sector']=='Agriculture'),'borrower_genders'].value_counts()"
   ]
  },
  {
   "cell_type": "code",
   "execution_count": 39,
   "id": "b6d18231",
   "metadata": {},
   "outputs": [
    {
     "data": {
      "text/plain": [
       "'female'"
      ]
     },
     "execution_count": 39,
     "metadata": {},
     "output_type": "execute_result"
    }
   ],
   "source": [
    "# Check most common value of example\n",
    "\n",
    "df.loc[(df['country_code']=='AL') &  (df['sector']=='Agriculture'),'borrower_genders'].value_counts().index.tolist()[0]"
   ]
  },
  {
   "cell_type": "code",
   "execution_count": 40,
   "id": "0e68ad88",
   "metadata": {},
   "outputs": [],
   "source": [
    "# function to define mode\n",
    "\n",
    "def find_mode(group_cols=[], mode_col=[]):\n",
    "    return df.groupby(group_cols,\n",
    "                      as_index=False).agg(mode=(mode_col, pd.Series.mode))"
   ]
  },
  {
   "cell_type": "code",
   "execution_count": 41,
   "id": "dad77b35",
   "metadata": {},
   "outputs": [
    {
     "data": {
      "text/html": [
       "<div>\n",
       "<style scoped>\n",
       "    .dataframe tbody tr th:only-of-type {\n",
       "        vertical-align: middle;\n",
       "    }\n",
       "\n",
       "    .dataframe tbody tr th {\n",
       "        vertical-align: top;\n",
       "    }\n",
       "\n",
       "    .dataframe thead th {\n",
       "        text-align: right;\n",
       "    }\n",
       "</style>\n",
       "<table border=\"1\" class=\"dataframe\">\n",
       "  <thead>\n",
       "    <tr style=\"text-align: right;\">\n",
       "      <th></th>\n",
       "      <th>country_code</th>\n",
       "      <th>sector</th>\n",
       "      <th>mode</th>\n",
       "    </tr>\n",
       "  </thead>\n",
       "  <tbody>\n",
       "    <tr>\n",
       "      <th>0</th>\n",
       "      <td>AF</td>\n",
       "      <td>Arts</td>\n",
       "      <td>female</td>\n",
       "    </tr>\n",
       "    <tr>\n",
       "      <th>1</th>\n",
       "      <td>AL</td>\n",
       "      <td>Agriculture</td>\n",
       "      <td>female</td>\n",
       "    </tr>\n",
       "    <tr>\n",
       "      <th>2</th>\n",
       "      <td>AL</td>\n",
       "      <td>Arts</td>\n",
       "      <td>female</td>\n",
       "    </tr>\n",
       "    <tr>\n",
       "      <th>3</th>\n",
       "      <td>AL</td>\n",
       "      <td>Clothing</td>\n",
       "      <td>female</td>\n",
       "    </tr>\n",
       "    <tr>\n",
       "      <th>4</th>\n",
       "      <td>AL</td>\n",
       "      <td>Construction</td>\n",
       "      <td>male</td>\n",
       "    </tr>\n",
       "    <tr>\n",
       "      <th>...</th>\n",
       "      <td>...</td>\n",
       "      <td>...</td>\n",
       "      <td>...</td>\n",
       "    </tr>\n",
       "    <tr>\n",
       "      <th>985</th>\n",
       "      <td>ZW</td>\n",
       "      <td>Personal Use</td>\n",
       "      <td>female, female, female, female</td>\n",
       "    </tr>\n",
       "    <tr>\n",
       "      <th>986</th>\n",
       "      <td>ZW</td>\n",
       "      <td>Retail</td>\n",
       "      <td>female</td>\n",
       "    </tr>\n",
       "    <tr>\n",
       "      <th>987</th>\n",
       "      <td>ZW</td>\n",
       "      <td>Services</td>\n",
       "      <td>female</td>\n",
       "    </tr>\n",
       "    <tr>\n",
       "      <th>988</th>\n",
       "      <td>ZW</td>\n",
       "      <td>Transportation</td>\n",
       "      <td>[female, male]</td>\n",
       "    </tr>\n",
       "    <tr>\n",
       "      <th>989</th>\n",
       "      <td>ZW</td>\n",
       "      <td>Wholesale</td>\n",
       "      <td>female, female, female, female</td>\n",
       "    </tr>\n",
       "  </tbody>\n",
       "</table>\n",
       "<p>990 rows × 3 columns</p>\n",
       "</div>"
      ],
      "text/plain": [
       "    country_code          sector                            mode\n",
       "0             AF            Arts                          female\n",
       "1             AL     Agriculture                          female\n",
       "2             AL            Arts                          female\n",
       "3             AL        Clothing                          female\n",
       "4             AL    Construction                            male\n",
       "..           ...             ...                             ...\n",
       "985           ZW    Personal Use  female, female, female, female\n",
       "986           ZW          Retail                          female\n",
       "987           ZW        Services                          female\n",
       "988           ZW  Transportation                  [female, male]\n",
       "989           ZW       Wholesale  female, female, female, female\n",
       "\n",
       "[990 rows x 3 columns]"
      ]
     },
     "execution_count": 41,
     "metadata": {},
     "output_type": "execute_result"
    }
   ],
   "source": [
    "# create df containing mode for column borrower_genders based on country code and sector\n",
    "\n",
    "df_mode_gender = find_mode(group_cols=['country_code','sector'],mode_col='borrower_genders')\n",
    "df_mode_gender"
   ]
  },
  {
   "cell_type": "code",
   "execution_count": 42,
   "id": "3686035b",
   "metadata": {},
   "outputs": [
    {
     "data": {
      "text/plain": [
       "1    female\n",
       "Name: mode, dtype: object"
      ]
     },
     "execution_count": 42,
     "metadata": {},
     "output_type": "execute_result"
    }
   ],
   "source": [
    "# Check if mode was extracted correctly based on example above\n",
    "\n",
    "df_mode_gender.loc[(df_mode_gender['country_code'] == 'AL') &\n",
    "                   (df_mode_gender['sector'] == 'Agriculture'), 'mode']"
   ]
  },
  {
   "cell_type": "code",
   "execution_count": 43,
   "id": "cde5d86f",
   "metadata": {},
   "outputs": [
    {
     "data": {
      "text/plain": [
       "Int64Index([   140,    145,    170,    412,    414,    464,    466,    545,\n",
       "               594,    614,\n",
       "            ...\n",
       "            624480, 624832, 625286, 635308, 635871, 636081, 637157, 637995,\n",
       "            646812, 646826],\n",
       "           dtype='int64', length=3888)"
      ]
     },
     "execution_count": 43,
     "metadata": {},
     "output_type": "execute_result"
    }
   ],
   "source": [
    "# create list with index of all rows where null value in column borrower_genders\n",
    "\n",
    "missing_gender_list = df.loc[df['borrower_genders'].isna()].index\n",
    "missing_gender_list"
   ]
  },
  {
   "cell_type": "code",
   "execution_count": 44,
   "id": "da802cf4",
   "metadata": {
    "scrolled": true
   },
   "outputs": [],
   "source": [
    "for value in missing_gender_list:\n",
    "\n",
    "    # identify values\n",
    "    ccode_at_value = df.loc[value, 'country_code']\n",
    "    sector_at_value = df.loc[value, 'sector']\n",
    "\n",
    "    # find mode\n",
    "    mode_gender = df_mode_gender.loc[\n",
    "        (df_mode_gender['sector'] == sector_at_value) &\n",
    "        (df_mode_gender['country_code'] == ccode_at_value), 'mode'].values\n",
    "\n",
    "    # assign values\n",
    "    df.loc[value, 'borrower_genders'] = mode_gender"
   ]
  },
  {
   "cell_type": "code",
   "execution_count": 45,
   "id": "d0e44de7",
   "metadata": {},
   "outputs": [],
   "source": [
    "# transform array values of previous mode imputation into string values\n",
    "\n",
    "df['borrower_genders'] = df['borrower_genders'].apply(lambda x: str(x[0]) if isinstance(x,np.ndarray) else x)"
   ]
  },
  {
   "cell_type": "markdown",
   "id": "ed7f2352",
   "metadata": {},
   "source": [
    "**Summary of missing data**\n",
    "\n",
    "The dataset is now free of missing values. The missing values in the column 'borrower_genders' and 'country_code' were filled and the columns 'use' and 'region' were dropped as they do not contain information that will be used for any analysis planned at this moment in time."
   ]
  },
  {
   "cell_type": "markdown",
   "id": "b9a7fcba",
   "metadata": {},
   "source": [
    "### Additional columns and features"
   ]
  },
  {
   "cell_type": "markdown",
   "id": "e8f0d494",
   "metadata": {},
   "source": [
    "Additional columns: To ease the future analysis, additional columns will be created. The columns will be based on existing columns and aim to extend and ease the analysis of the provided dataset.\n",
    "\n",
    "Features: To increase the potential information gain from the analysis, the values of the existing columns will be combined to gain new insights."
   ]
  },
  {
   "cell_type": "markdown",
   "id": "fa2eca72",
   "metadata": {},
   "source": [
    "**New column: 'borrower_type'**\n",
    "\n",
    "Based on the number and gender of borrowers a new column is created."
   ]
  },
  {
   "cell_type": "code",
   "execution_count": 46,
   "id": "71fc288c",
   "metadata": {},
   "outputs": [],
   "source": [
    "# function to define the type of borrower\n",
    "\n",
    "def gender_categories(sample):\n",
    "    sample_result = sample.split(\",\")\n",
    "    num_male = 0\n",
    "    num_female = 0\n",
    "\n",
    "    for sample_result in sample_result:\n",
    "        cleaned_sample = sample_result.strip()\n",
    "        if cleaned_sample == 'male':\n",
    "            num_male += 1\n",
    "        if cleaned_sample == 'female':\n",
    "            num_female += 1\n",
    "\n",
    "    cat = ''\n",
    "\n",
    "    # Individual borrowers\n",
    "    if num_male == 0 and num_female == 1:\n",
    "        cat = 'Individual Female'\n",
    "    elif num_male == 1 and num_female == 0:\n",
    "        cat = 'Individual Male'\n",
    "\n",
    "    # small homogenous group borrowers\n",
    "    elif num_male == 0 and num_female <= 5:\n",
    "        cat = 'Small female group'\n",
    "    elif num_male <= 5 and num_female == 0:\n",
    "        cat = 'Small male group'\n",
    "\n",
    "    # large homogenous group borrowers\n",
    "    elif num_male == 0 and num_female > 5:\n",
    "        cat = 'Large female group'\n",
    "    elif num_male > 5 and num_female == 0:\n",
    "        cat = 'Large male group'\n",
    "\n",
    "    # Small heterogenous group borrower\n",
    "    elif (num_male + num_female) <= 5:\n",
    "        cat = 'Small mixed group'\n",
    "    # large heterogenous group borrowers\n",
    "    elif (num_male + num_female) > 5:\n",
    "        cat = 'Large mixed group'\n",
    "\n",
    "    else:\n",
    "        cat = 'female'\n",
    "    return cat"
   ]
  },
  {
   "cell_type": "code",
   "execution_count": 47,
   "id": "4edd646c",
   "metadata": {
    "scrolled": true
   },
   "outputs": [
    {
     "data": {
      "text/html": [
       "<div>\n",
       "<style scoped>\n",
       "    .dataframe tbody tr th:only-of-type {\n",
       "        vertical-align: middle;\n",
       "    }\n",
       "\n",
       "    .dataframe tbody tr th {\n",
       "        vertical-align: top;\n",
       "    }\n",
       "\n",
       "    .dataframe thead th {\n",
       "        text-align: right;\n",
       "    }\n",
       "</style>\n",
       "<table border=\"1\" class=\"dataframe\">\n",
       "  <thead>\n",
       "    <tr style=\"text-align: right;\">\n",
       "      <th></th>\n",
       "      <th>borrower_genders</th>\n",
       "      <th>borrower_type</th>\n",
       "    </tr>\n",
       "  </thead>\n",
       "  <tbody>\n",
       "    <tr>\n",
       "      <th>646828</th>\n",
       "      <td>female</td>\n",
       "      <td>Individual Female</td>\n",
       "    </tr>\n",
       "    <tr>\n",
       "      <th>646829</th>\n",
       "      <td>female</td>\n",
       "      <td>Individual Female</td>\n",
       "    </tr>\n",
       "    <tr>\n",
       "      <th>646830</th>\n",
       "      <td>female, female</td>\n",
       "      <td>Small female group</td>\n",
       "    </tr>\n",
       "    <tr>\n",
       "      <th>646831</th>\n",
       "      <td>female, female</td>\n",
       "      <td>Small female group</td>\n",
       "    </tr>\n",
       "    <tr>\n",
       "      <th>646832</th>\n",
       "      <td>female</td>\n",
       "      <td>Individual Female</td>\n",
       "    </tr>\n",
       "  </tbody>\n",
       "</table>\n",
       "</div>"
      ],
      "text/plain": [
       "       borrower_genders       borrower_type\n",
       "646828           female   Individual Female\n",
       "646829           female   Individual Female\n",
       "646830   female, female  Small female group\n",
       "646831   female, female  Small female group\n",
       "646832           female   Individual Female"
      ]
     },
     "execution_count": 47,
     "metadata": {},
     "output_type": "execute_result"
    }
   ],
   "source": [
    "# create new column with pre-defined categories\n",
    "\n",
    "df['borrower_type'] = df['borrower_genders'].apply(lambda x: gender_categories(x))\n",
    "df[['borrower_genders', 'borrower_type']].tail()"
   ]
  },
  {
   "cell_type": "code",
   "execution_count": 48,
   "id": "03d8a330",
   "metadata": {},
   "outputs": [
    {
     "data": {
      "text/plain": [
       "Individual Female     65.0\n",
       "Individual Male       20.0\n",
       "Small female group     5.0\n",
       "Large mixed group      4.0\n",
       "Large female group     3.0\n",
       "Small mixed group      2.0\n",
       "Small male group       0.0\n",
       "Large male group       0.0\n",
       "Name: borrower_type, dtype: float64"
      ]
     },
     "execution_count": 48,
     "metadata": {},
     "output_type": "execute_result"
    }
   ],
   "source": [
    "# distribution of borrower types, see which type exists the most\n",
    "\n",
    "(round(df['borrower_type'].value_counts(normalize=True),2)*100)"
   ]
  },
  {
   "cell_type": "markdown",
   "id": "71e2946f",
   "metadata": {},
   "source": [
    "**New column: 'borrower_type_general'**\n",
    "\n",
    "Based on the gender of borrowers a new column is created."
   ]
  },
  {
   "cell_type": "code",
   "execution_count": 49,
   "id": "2816e3a4",
   "metadata": {},
   "outputs": [],
   "source": [
    "def borrower_type_change(input_string):\n",
    "\n",
    "    # lower input case as it will make it\n",
    "    # easy to check and return value\n",
    "    input_string = input_string.lower()\n",
    "    if 'female' in input_string:\n",
    "        return 'female'\n",
    "    elif 'male' in input_string:\n",
    "        return 'male'\n",
    "    else:\n",
    "        return 'female and male'\n",
    "    \n",
    "df['borrower_type_general'] = df['borrower_type'].apply(lambda x: borrower_type_change(x))"
   ]
  },
  {
   "cell_type": "markdown",
   "id": "7821954e",
   "metadata": {},
   "source": [
    "**New Feature: %funded**\n",
    "\n",
    "The funded amount divided by the loan amount results in the percentage funded. This value can be an indication of how well the company is doing in connecting lenders and borrowers successfully. As the firm earns a provision for each placed investment request, a high level of fully funded projects can increase their chances to be picked by potential borrowers. \n",
    "\n",
    "As lenders of the company are defined as purpose driven people, a high level of overall % funded can also be an indication that the lenders support the investment requests and their underlying investment goal.\n"
   ]
  },
  {
   "cell_type": "code",
   "execution_count": 50,
   "id": "1e4a00ea",
   "metadata": {},
   "outputs": [],
   "source": [
    "# funtion to calculate percentage\n",
    "\n",
    "def percentage_calc(numerator,denominator):\n",
    "    try:\n",
    "        return round((numerator / denominator),1)     \n",
    "    except ZeroDivisionError:\n",
    "        return 0"
   ]
  },
  {
   "cell_type": "code",
   "execution_count": 51,
   "id": "f3d21d6f",
   "metadata": {},
   "outputs": [
    {
     "data": {
      "text/html": [
       "<div>\n",
       "<style scoped>\n",
       "    .dataframe tbody tr th:only-of-type {\n",
       "        vertical-align: middle;\n",
       "    }\n",
       "\n",
       "    .dataframe tbody tr th {\n",
       "        vertical-align: top;\n",
       "    }\n",
       "\n",
       "    .dataframe thead th {\n",
       "        text-align: right;\n",
       "    }\n",
       "</style>\n",
       "<table border=\"1\" class=\"dataframe\">\n",
       "  <thead>\n",
       "    <tr style=\"text-align: right;\">\n",
       "      <th></th>\n",
       "      <th>funded_amount</th>\n",
       "      <th>loan_amount</th>\n",
       "      <th>activity</th>\n",
       "      <th>sector</th>\n",
       "      <th>country_code</th>\n",
       "      <th>country</th>\n",
       "      <th>currency</th>\n",
       "      <th>term_in_months</th>\n",
       "      <th>lender_count</th>\n",
       "      <th>borrower_genders</th>\n",
       "      <th>repayment_interval</th>\n",
       "      <th>borrower_type</th>\n",
       "      <th>borrower_type_general</th>\n",
       "      <th>%funded</th>\n",
       "    </tr>\n",
       "  </thead>\n",
       "  <tbody>\n",
       "    <tr>\n",
       "      <th>646832</th>\n",
       "      <td>0.0</td>\n",
       "      <td>250.0</td>\n",
       "      <td>Livestock</td>\n",
       "      <td>Agriculture</td>\n",
       "      <td>GH</td>\n",
       "      <td>Ghana</td>\n",
       "      <td>GHS</td>\n",
       "      <td>13.0</td>\n",
       "      <td>0</td>\n",
       "      <td>female</td>\n",
       "      <td>monthly</td>\n",
       "      <td>Individual Female</td>\n",
       "      <td>female</td>\n",
       "      <td>0.0</td>\n",
       "    </tr>\n",
       "  </tbody>\n",
       "</table>\n",
       "</div>"
      ],
      "text/plain": [
       "        funded_amount  loan_amount   activity       sector country_code  \\\n",
       "646832            0.0        250.0  Livestock  Agriculture           GH   \n",
       "\n",
       "       country currency  term_in_months  lender_count borrower_genders  \\\n",
       "646832   Ghana      GHS            13.0             0           female   \n",
       "\n",
       "       repayment_interval      borrower_type borrower_type_general  %funded  \n",
       "646832            monthly  Individual Female                female      0.0  "
      ]
     },
     "execution_count": 51,
     "metadata": {},
     "output_type": "execute_result"
    }
   ],
   "source": [
    "# create new column \n",
    "\n",
    "df['%funded'] = percentage_calc(df['funded_amount'] , df['loan_amount'])\n",
    "df.tail(1)"
   ]
  },
  {
   "cell_type": "code",
   "execution_count": 52,
   "id": "3e41eaaa",
   "metadata": {},
   "outputs": [
    {
     "data": {
      "text/plain": [
       "1.0    599196\n",
       "0.6      6237\n",
       "0.4      5833\n",
       "0.5      5485\n",
       "0.7      5173\n",
       "0.8      4957\n",
       "0.2      4831\n",
       "0.0      4642\n",
       "0.3      4345\n",
       "0.1      3500\n",
       "0.9      2632\n",
       "1.1         2\n",
       "Name: %funded, dtype: int64"
      ]
     },
     "execution_count": 52,
     "metadata": {},
     "output_type": "execute_result"
    }
   ],
   "source": [
    "df['%funded'].value_counts()"
   ]
  },
  {
   "cell_type": "code",
   "execution_count": 53,
   "id": "b0887a7b",
   "metadata": {},
   "outputs": [
    {
     "data": {
      "text/html": [
       "<div>\n",
       "<style scoped>\n",
       "    .dataframe tbody tr th:only-of-type {\n",
       "        vertical-align: middle;\n",
       "    }\n",
       "\n",
       "    .dataframe tbody tr th {\n",
       "        vertical-align: top;\n",
       "    }\n",
       "\n",
       "    .dataframe thead th {\n",
       "        text-align: right;\n",
       "    }\n",
       "</style>\n",
       "<table border=\"1\" class=\"dataframe\">\n",
       "  <thead>\n",
       "    <tr style=\"text-align: right;\">\n",
       "      <th></th>\n",
       "      <th>funded_amount</th>\n",
       "      <th>loan_amount</th>\n",
       "      <th>activity</th>\n",
       "      <th>sector</th>\n",
       "      <th>country_code</th>\n",
       "      <th>country</th>\n",
       "      <th>currency</th>\n",
       "      <th>term_in_months</th>\n",
       "      <th>lender_count</th>\n",
       "      <th>borrower_genders</th>\n",
       "      <th>repayment_interval</th>\n",
       "      <th>borrower_type</th>\n",
       "      <th>borrower_type_general</th>\n",
       "      <th>%funded</th>\n",
       "    </tr>\n",
       "  </thead>\n",
       "  <tbody>\n",
       "    <tr>\n",
       "      <th>272125</th>\n",
       "      <td>425.0</td>\n",
       "      <td>400.0</td>\n",
       "      <td>General Store</td>\n",
       "      <td>Retail</td>\n",
       "      <td>MZ</td>\n",
       "      <td>Mozambique</td>\n",
       "      <td>MZN</td>\n",
       "      <td>17.0</td>\n",
       "      <td>11</td>\n",
       "      <td>male</td>\n",
       "      <td>monthly</td>\n",
       "      <td>Individual Male</td>\n",
       "      <td>male</td>\n",
       "      <td>1.1</td>\n",
       "    </tr>\n",
       "    <tr>\n",
       "      <th>331239</th>\n",
       "      <td>3400.0</td>\n",
       "      <td>3000.0</td>\n",
       "      <td>Farm Supplies</td>\n",
       "      <td>Agriculture</td>\n",
       "      <td>AM</td>\n",
       "      <td>Armenia</td>\n",
       "      <td>USD</td>\n",
       "      <td>38.0</td>\n",
       "      <td>84</td>\n",
       "      <td>male</td>\n",
       "      <td>monthly</td>\n",
       "      <td>Individual Male</td>\n",
       "      <td>male</td>\n",
       "      <td>1.1</td>\n",
       "    </tr>\n",
       "  </tbody>\n",
       "</table>\n",
       "</div>"
      ],
      "text/plain": [
       "        funded_amount  loan_amount       activity       sector country_code  \\\n",
       "272125          425.0        400.0  General Store       Retail           MZ   \n",
       "331239         3400.0       3000.0  Farm Supplies  Agriculture           AM   \n",
       "\n",
       "           country currency  term_in_months  lender_count borrower_genders  \\\n",
       "272125  Mozambique      MZN            17.0            11             male   \n",
       "331239     Armenia      USD            38.0            84             male   \n",
       "\n",
       "       repayment_interval    borrower_type borrower_type_general  %funded  \n",
       "272125            monthly  Individual Male                  male      1.1  \n",
       "331239            monthly  Individual Male                  male      1.1  "
      ]
     },
     "execution_count": 53,
     "metadata": {},
     "output_type": "execute_result"
    }
   ],
   "source": [
    "# Check what entries that are 110% funded in the dataset\n",
    "\n",
    "df.loc[df['%funded']>1,:]"
   ]
  },
  {
   "cell_type": "markdown",
   "id": "d3e717c5",
   "metadata": {},
   "source": [
    "There should be some follow-up discussions on how it can happen that a project is overfunded. It could be a system or a human error when entering the data. Potentially, funded amounts that exceed the loan amount could also be acceptable."
   ]
  },
  {
   "cell_type": "markdown",
   "id": "ea7f6307",
   "metadata": {},
   "source": [
    "**New column: funding_status**\n",
    "\n",
    "Based on the achieved funding rate, the loans are put into a funding status category."
   ]
  },
  {
   "cell_type": "code",
   "execution_count": 54,
   "id": "1e9c9143",
   "metadata": {},
   "outputs": [],
   "source": [
    "# funding categories\n",
    "funding_cat = [\n",
    "    'not funded', 'up to 20% funded', '>20% funded', '>40% funded',\n",
    "    '>60% funded', '>80% funded', 'fully funded', 'overfunded'\n",
    "]\n",
    "\n",
    "# funding ranges\n",
    "funding_range = [0 - .001, 0, 0.2, 0.4, 0.6, 0.8, 1 - .001, 1, 100]\n",
    "\n",
    "# new column funding status\n",
    "df[\"funding_status\"] = pd.cut(df.loc[:, \"%funded\"],\n",
    "                              bins=funding_range,\n",
    "                              labels=funding_cat)"
   ]
  },
  {
   "cell_type": "markdown",
   "id": "49cac979",
   "metadata": {},
   "source": [
    "**New column: invested_per_lender**\n",
    "\n",
    "The column invested_per_lender reflects the average investment per lender. This can show if investments with a comparably large loan (and funding) achieve the high amounts by a few or by many investors which gives an indication on the typical lender on the platform. However, as there is no additional information available on the lenders on the platform, the average only gives an indication."
   ]
  },
  {
   "cell_type": "code",
   "execution_count": 55,
   "id": "b1a182b0",
   "metadata": {},
   "outputs": [
    {
     "data": {
      "text/html": [
       "<div>\n",
       "<style scoped>\n",
       "    .dataframe tbody tr th:only-of-type {\n",
       "        vertical-align: middle;\n",
       "    }\n",
       "\n",
       "    .dataframe tbody tr th {\n",
       "        vertical-align: top;\n",
       "    }\n",
       "\n",
       "    .dataframe thead th {\n",
       "        text-align: right;\n",
       "    }\n",
       "</style>\n",
       "<table border=\"1\" class=\"dataframe\">\n",
       "  <thead>\n",
       "    <tr style=\"text-align: right;\">\n",
       "      <th></th>\n",
       "      <th>funded_amount</th>\n",
       "      <th>loan_amount</th>\n",
       "      <th>activity</th>\n",
       "      <th>sector</th>\n",
       "      <th>country_code</th>\n",
       "      <th>country</th>\n",
       "      <th>currency</th>\n",
       "      <th>term_in_months</th>\n",
       "      <th>lender_count</th>\n",
       "      <th>borrower_genders</th>\n",
       "      <th>repayment_interval</th>\n",
       "      <th>borrower_type</th>\n",
       "      <th>borrower_type_general</th>\n",
       "      <th>%funded</th>\n",
       "      <th>funding_status</th>\n",
       "      <th>invested_per_lender</th>\n",
       "    </tr>\n",
       "  </thead>\n",
       "  <tbody>\n",
       "    <tr>\n",
       "      <th>0</th>\n",
       "      <td>300.0</td>\n",
       "      <td>300.0</td>\n",
       "      <td>Fruits &amp; Vegetables</td>\n",
       "      <td>Food</td>\n",
       "      <td>PK</td>\n",
       "      <td>Pakistan</td>\n",
       "      <td>PKR</td>\n",
       "      <td>12.0</td>\n",
       "      <td>12</td>\n",
       "      <td>female</td>\n",
       "      <td>irregular</td>\n",
       "      <td>Individual Female</td>\n",
       "      <td>female</td>\n",
       "      <td>1.0</td>\n",
       "      <td>fully funded</td>\n",
       "      <td>25.0</td>\n",
       "    </tr>\n",
       "  </tbody>\n",
       "</table>\n",
       "</div>"
      ],
      "text/plain": [
       "   funded_amount  loan_amount             activity sector country_code  \\\n",
       "0          300.0        300.0  Fruits & Vegetables   Food           PK   \n",
       "\n",
       "    country currency  term_in_months  lender_count borrower_genders  \\\n",
       "0  Pakistan      PKR            12.0            12           female   \n",
       "\n",
       "  repayment_interval      borrower_type borrower_type_general  %funded  \\\n",
       "0          irregular  Individual Female                female      1.0   \n",
       "\n",
       "  funding_status  invested_per_lender  \n",
       "0   fully funded                 25.0  "
      ]
     },
     "execution_count": 55,
     "metadata": {},
     "output_type": "execute_result"
    }
   ],
   "source": [
    "df['invested_per_lender'] = percentage_calc(df['funded_amount'] , df['lender_count'])\n",
    "df['invested_per_lender'] = df['invested_per_lender'].replace(np.nan,0.0)\n",
    "df.head(1)"
   ]
  },
  {
   "cell_type": "code",
   "execution_count": 56,
   "id": "e9c6f944",
   "metadata": {},
   "outputs": [
    {
     "data": {
      "text/plain": [
       "count    646833.000000\n",
       "mean         61.646820\n",
       "std         181.480392\n",
       "min           0.000000\n",
       "25%          26.800000\n",
       "50%          31.600000\n",
       "75%          43.300000\n",
       "max        9475.000000\n",
       "Name: invested_per_lender, dtype: float64"
      ]
     },
     "execution_count": 56,
     "metadata": {},
     "output_type": "execute_result"
    }
   ],
   "source": [
    "# distribution of the average investment amount\n",
    "\n",
    "df['invested_per_lender'].describe()"
   ]
  },
  {
   "cell_type": "markdown",
   "id": "6f9a3d1a",
   "metadata": {},
   "source": [
    "75% of the average investments are 43.3 USD or below. This goes in line with the compnay's defined target lenders: people with a purpose as well as with their crowd investing business model where many people invest (potentially smaller amounts) to fund an investment instead of a few investors funding entire projects."
   ]
  },
  {
   "cell_type": "markdown",
   "id": "ebbf4765",
   "metadata": {},
   "source": [
    "**New column: continent**"
   ]
  },
  {
   "cell_type": "code",
   "execution_count": 57,
   "id": "96475c24",
   "metadata": {},
   "outputs": [
    {
     "data": {
      "text/plain": [
       "PH    154323\n",
       "KE     73554\n",
       "SV     39845\n",
       "KH     27067\n",
       "PK     26475\n",
       "       ...  \n",
       "AF         2\n",
       "BT         2\n",
       "GU         1\n",
       "MR         1\n",
       "CI         1\n",
       "Name: country_code, Length: 87, dtype: int64"
      ]
     },
     "execution_count": 57,
     "metadata": {},
     "output_type": "execute_result"
    }
   ],
   "source": [
    "df.country_code.value_counts()"
   ]
  },
  {
   "cell_type": "code",
   "execution_count": 61,
   "id": "3fd246c8",
   "metadata": {},
   "outputs": [],
   "source": [
    "# add continent based on country code\n",
    "\n",
    "def get_continent(col):\n",
    "    try:\n",
    "        cn_continent = country_alpha2_to_continent_code(col)\n",
    "    except:\n",
    "        cn_continent = 'Unknown' \n",
    "    return cn_continent"
   ]
  },
  {
   "cell_type": "code",
   "execution_count": 62,
   "id": "b285713e",
   "metadata": {},
   "outputs": [],
   "source": [
    "df['continent_code'] = df.apply(lambda x: get_continent(x['country_code']), axis=1)"
   ]
  },
  {
   "cell_type": "code",
   "execution_count": 65,
   "id": "808d4fb4",
   "metadata": {},
   "outputs": [
    {
     "data": {
      "text/plain": [
       "Timor-Leste    2682\n",
       "Name: country, dtype: int64"
      ]
     },
     "execution_count": 65,
     "metadata": {},
     "output_type": "execute_result"
    }
   ],
   "source": [
    "# Unknown\n",
    "df.loc[df['continent_code']==\"Unknown\", \"country\"].value_counts()"
   ]
  },
  {
   "cell_type": "code",
   "execution_count": 66,
   "id": "4c04d081",
   "metadata": {},
   "outputs": [],
   "source": [
    "# replace unknown\n",
    "\n",
    "df.loc[df['continent_code']==\"Unknown\", \"continent_code\"] = \"AS\""
   ]
  },
  {
   "cell_type": "code",
   "execution_count": 67,
   "id": "31e3b803",
   "metadata": {},
   "outputs": [],
   "source": [
    "# add full names\n",
    "\n",
    "mapper = {'AS':'Asia',\n",
    "          'AF':'Africa',\n",
    "          'NA':'North America',\n",
    "          'SA':'South America',\n",
    "          'OC':'Oceania',\n",
    "          'EU':'Europe'\n",
    "         }\n",
    "\n",
    "df.loc[:,'continent'] = df.loc[:,\"continent_code\"].map(mapper)"
   ]
  },
  {
   "cell_type": "code",
   "execution_count": 68,
   "id": "ec99942b",
   "metadata": {},
   "outputs": [],
   "source": [
    "del mapper"
   ]
  },
  {
   "cell_type": "code",
   "execution_count": 70,
   "id": "9a4855e8",
   "metadata": {},
   "outputs": [
    {
     "data": {
      "text/plain": [
       "Asia             306826\n",
       "Africa           165474\n",
       "North America     83075\n",
       "South America     78851\n",
       "Oceania            7943\n",
       "Europe             4664\n",
       "Name: continent, dtype: int64"
      ]
     },
     "execution_count": 70,
     "metadata": {},
     "output_type": "execute_result"
    }
   ],
   "source": [
    "# check\n",
    "df.continent.value_counts()"
   ]
  },
  {
   "cell_type": "markdown",
   "id": "52da9463",
   "metadata": {},
   "source": [
    "## Export pre-processed data"
   ]
  },
  {
   "cell_type": "markdown",
   "id": "4f3746d8",
   "metadata": {},
   "source": [
    "The data cleaning is now finished and the cleaned data set is ready to be exported."
   ]
  },
  {
   "cell_type": "code",
   "execution_count": 71,
   "id": "db477ba2",
   "metadata": {},
   "outputs": [],
   "source": [
    "df.to_pickle('df_crowdsourcing_after_preprocessing.pkl')"
   ]
  }
 ],
 "metadata": {
  "kernelspec": {
   "display_name": "Python 3 (ipykernel)",
   "language": "python",
   "name": "python3"
  },
  "language_info": {
   "codemirror_mode": {
    "name": "ipython",
    "version": 3
   },
   "file_extension": ".py",
   "mimetype": "text/x-python",
   "name": "python",
   "nbconvert_exporter": "python",
   "pygments_lexer": "ipython3",
   "version": "3.9.9"
  },
  "toc": {
   "base_numbering": 1,
   "nav_menu": {},
   "number_sections": true,
   "sideBar": true,
   "skip_h1_title": false,
   "title_cell": "Table of Contents",
   "title_sidebar": "Contents",
   "toc_cell": true,
   "toc_position": {
    "height": "calc(100% - 180px)",
    "left": "10px",
    "top": "150px",
    "width": "165px"
   },
   "toc_section_display": true,
   "toc_window_display": true
  },
  "varInspector": {
   "cols": {
    "lenName": 16,
    "lenType": 16,
    "lenVar": 40
   },
   "kernels_config": {
    "python": {
     "delete_cmd_postfix": "",
     "delete_cmd_prefix": "del ",
     "library": "var_list.py",
     "varRefreshCmd": "print(var_dic_list())"
    },
    "r": {
     "delete_cmd_postfix": ") ",
     "delete_cmd_prefix": "rm(",
     "library": "var_list.r",
     "varRefreshCmd": "cat(var_dic_list()) "
    }
   },
   "types_to_exclude": [
    "module",
    "function",
    "builtin_function_or_method",
    "instance",
    "_Feature"
   ],
   "window_display": false
  }
 },
 "nbformat": 4,
 "nbformat_minor": 5
}
