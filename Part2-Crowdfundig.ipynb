{
 "cells": [
  {
   "cell_type": "markdown",
   "id": "11fff1b9",
   "metadata": {
    "toc": true
   },
   "source": [
    "<h1>Table of Contents<span class=\"tocSkip\"></span></h1>\n",
    "<div class=\"toc\"><ul class=\"toc-item\"><li><span><a href=\"#Visualization\" data-toc-modified-id=\"Visualization-1\"><span class=\"toc-item-num\">1&nbsp;&nbsp;</span>Visualization</a></span><ul class=\"toc-item\"><li><span><a href=\"#How-successful-is-the-company-in-connecting-lenders-and-borrowers?\" data-toc-modified-id=\"How-successful-is-the-company-in-connecting-lenders-and-borrowers?-1.1\"><span class=\"toc-item-num\">1.1&nbsp;&nbsp;</span>How successful is the company in connecting lenders and borrowers?</a></span><ul class=\"toc-item\"><li><span><a href=\"#To-note\" data-toc-modified-id=\"To-note-1.1.1\"><span class=\"toc-item-num\">1.1.1&nbsp;&nbsp;</span>To note</a></span></li></ul></li><li><span><a href=\"#Project-success-rate-by-location\" data-toc-modified-id=\"Project-success-rate-by-location-1.2\"><span class=\"toc-item-num\">1.2&nbsp;&nbsp;</span>Project success rate by location</a></span></li><li><span><a href=\"#Who-is-receiving-how-much-funding?\" data-toc-modified-id=\"Who-is-receiving-how-much-funding?-1.3\"><span class=\"toc-item-num\">1.3&nbsp;&nbsp;</span>Who is receiving how much funding?</a></span><ul class=\"toc-item\"><li><span><a href=\"#To-note\" data-toc-modified-id=\"To-note-1.3.1\"><span class=\"toc-item-num\">1.3.1&nbsp;&nbsp;</span>To note</a></span></li></ul></li><li><span><a href=\"#Is-there-a-difference-in-funding-rate-between-borrower-types?\" data-toc-modified-id=\"Is-there-a-difference-in-funding-rate-between-borrower-types?-1.4\"><span class=\"toc-item-num\">1.4&nbsp;&nbsp;</span>Is there a difference in funding rate between borrower types?</a></span><ul class=\"toc-item\"><li><span><a href=\"#To-note\" data-toc-modified-id=\"To-note-1.4.1\"><span class=\"toc-item-num\">1.4.1&nbsp;&nbsp;</span>To note</a></span></li></ul></li></ul></li><li><span><a href=\"#Dashboard\" data-toc-modified-id=\"Dashboard-2\"><span class=\"toc-item-num\">2&nbsp;&nbsp;</span>Dashboard</a></span><ul class=\"toc-item\"><li><span><a href=\"#Dashboard-No.1\" data-toc-modified-id=\"Dashboard-No.1-2.1\"><span class=\"toc-item-num\">2.1&nbsp;&nbsp;</span>Dashboard No.1</a></span></li><li><span><a href=\"#Dashboard-No.-2\" data-toc-modified-id=\"Dashboard-No.-2-2.2\"><span class=\"toc-item-num\">2.2&nbsp;&nbsp;</span>Dashboard No. 2</a></span></li></ul></li></ul></div>"
   ]
  },
  {
   "cell_type": "code",
   "execution_count": 1,
   "id": "28c68b2b",
   "metadata": {},
   "outputs": [
    {
     "data": {
      "text/html": [
       "        <script type=\"text/javascript\">\n",
       "        window.PlotlyConfig = {MathJaxConfig: 'local'};\n",
       "        if (window.MathJax && window.MathJax.Hub && window.MathJax.Hub.Config) {window.MathJax.Hub.Config({SVG: {font: \"STIX-Web\"}});}\n",
       "        if (typeof require !== 'undefined') {\n",
       "        require.undef(\"plotly\");\n",
       "        requirejs.config({\n",
       "            paths: {\n",
       "                'plotly': ['https://cdn.plot.ly/plotly-2.14.0.min']\n",
       "            }\n",
       "        });\n",
       "        require(['plotly'], function(Plotly) {\n",
       "            window._Plotly = Plotly;\n",
       "        });\n",
       "        }\n",
       "        </script>\n",
       "        "
      ]
     },
     "metadata": {},
     "output_type": "display_data"
    }
   ],
   "source": [
    "# import required libraries\n",
    "\n",
    "# data import and wrangling\n",
    "import numpy as np\n",
    "import pandas as pd \n",
    "\n",
    "#visualization\n",
    "import plotly.express as px \n",
    "\n",
    "# for dash-app\n",
    "#!pip install jupyter-dash\n",
    "from jupyter_dash import JupyterDash\n",
    "from dash import dcc\n",
    "from dash import html\n",
    "from dash.dependencies import Input, Output\n",
    "from dash import no_update\n",
    "\n",
    "from plotly.offline import init_notebook_mode, iplot \n",
    "init_notebook_mode(connected=True)"
   ]
  },
  {
   "cell_type": "code",
   "execution_count": 2,
   "id": "b09c9061",
   "metadata": {},
   "outputs": [],
   "source": [
    "# import data\n",
    "\n",
    "df = pd.read_pickle('df_crowdsourcing_after_preprocessing.pkl')"
   ]
  },
  {
   "cell_type": "code",
   "execution_count": 3,
   "id": "ba1a111a",
   "metadata": {
    "scrolled": true
   },
   "outputs": [
    {
     "data": {
      "text/html": [
       "<div>\n",
       "<style scoped>\n",
       "    .dataframe tbody tr th:only-of-type {\n",
       "        vertical-align: middle;\n",
       "    }\n",
       "\n",
       "    .dataframe tbody tr th {\n",
       "        vertical-align: top;\n",
       "    }\n",
       "\n",
       "    .dataframe thead th {\n",
       "        text-align: right;\n",
       "    }\n",
       "</style>\n",
       "<table border=\"1\" class=\"dataframe\">\n",
       "  <thead>\n",
       "    <tr style=\"text-align: right;\">\n",
       "      <th></th>\n",
       "      <th>funded_amount</th>\n",
       "      <th>loan_amount</th>\n",
       "      <th>activity</th>\n",
       "      <th>sector</th>\n",
       "      <th>country_code</th>\n",
       "      <th>country</th>\n",
       "      <th>currency</th>\n",
       "      <th>term_in_months</th>\n",
       "      <th>lender_count</th>\n",
       "      <th>borrower_genders</th>\n",
       "      <th>repayment_interval</th>\n",
       "      <th>borrower_type</th>\n",
       "      <th>borrower_type_general</th>\n",
       "      <th>%funded</th>\n",
       "      <th>funding_status</th>\n",
       "      <th>invested_per_lender</th>\n",
       "      <th>continent_code</th>\n",
       "      <th>continent</th>\n",
       "    </tr>\n",
       "  </thead>\n",
       "  <tbody>\n",
       "    <tr>\n",
       "      <th>0</th>\n",
       "      <td>300.0</td>\n",
       "      <td>300.0</td>\n",
       "      <td>Fruits &amp; Vegetables</td>\n",
       "      <td>Food</td>\n",
       "      <td>PK</td>\n",
       "      <td>Pakistan</td>\n",
       "      <td>PKR</td>\n",
       "      <td>12.0</td>\n",
       "      <td>12</td>\n",
       "      <td>female</td>\n",
       "      <td>irregular</td>\n",
       "      <td>Individual Female</td>\n",
       "      <td>female</td>\n",
       "      <td>1.0</td>\n",
       "      <td>fully funded</td>\n",
       "      <td>25.0</td>\n",
       "      <td>AS</td>\n",
       "      <td>Asia</td>\n",
       "    </tr>\n",
       "    <tr>\n",
       "      <th>1</th>\n",
       "      <td>575.0</td>\n",
       "      <td>575.0</td>\n",
       "      <td>Rickshaw</td>\n",
       "      <td>Transportation</td>\n",
       "      <td>PK</td>\n",
       "      <td>Pakistan</td>\n",
       "      <td>PKR</td>\n",
       "      <td>11.0</td>\n",
       "      <td>14</td>\n",
       "      <td>female, female</td>\n",
       "      <td>irregular</td>\n",
       "      <td>Small female group</td>\n",
       "      <td>female</td>\n",
       "      <td>1.0</td>\n",
       "      <td>fully funded</td>\n",
       "      <td>41.1</td>\n",
       "      <td>AS</td>\n",
       "      <td>Asia</td>\n",
       "    </tr>\n",
       "    <tr>\n",
       "      <th>2</th>\n",
       "      <td>150.0</td>\n",
       "      <td>150.0</td>\n",
       "      <td>Transportation</td>\n",
       "      <td>Transportation</td>\n",
       "      <td>IN</td>\n",
       "      <td>India</td>\n",
       "      <td>INR</td>\n",
       "      <td>43.0</td>\n",
       "      <td>6</td>\n",
       "      <td>female</td>\n",
       "      <td>bullet</td>\n",
       "      <td>Individual Female</td>\n",
       "      <td>female</td>\n",
       "      <td>1.0</td>\n",
       "      <td>fully funded</td>\n",
       "      <td>25.0</td>\n",
       "      <td>AS</td>\n",
       "      <td>Asia</td>\n",
       "    </tr>\n",
       "    <tr>\n",
       "      <th>3</th>\n",
       "      <td>200.0</td>\n",
       "      <td>200.0</td>\n",
       "      <td>Embroidery</td>\n",
       "      <td>Arts</td>\n",
       "      <td>PK</td>\n",
       "      <td>Pakistan</td>\n",
       "      <td>PKR</td>\n",
       "      <td>11.0</td>\n",
       "      <td>8</td>\n",
       "      <td>female</td>\n",
       "      <td>irregular</td>\n",
       "      <td>Individual Female</td>\n",
       "      <td>female</td>\n",
       "      <td>1.0</td>\n",
       "      <td>fully funded</td>\n",
       "      <td>25.0</td>\n",
       "      <td>AS</td>\n",
       "      <td>Asia</td>\n",
       "    </tr>\n",
       "    <tr>\n",
       "      <th>4</th>\n",
       "      <td>400.0</td>\n",
       "      <td>400.0</td>\n",
       "      <td>Milk Sales</td>\n",
       "      <td>Food</td>\n",
       "      <td>PK</td>\n",
       "      <td>Pakistan</td>\n",
       "      <td>PKR</td>\n",
       "      <td>14.0</td>\n",
       "      <td>16</td>\n",
       "      <td>female</td>\n",
       "      <td>monthly</td>\n",
       "      <td>Individual Female</td>\n",
       "      <td>female</td>\n",
       "      <td>1.0</td>\n",
       "      <td>fully funded</td>\n",
       "      <td>25.0</td>\n",
       "      <td>AS</td>\n",
       "      <td>Asia</td>\n",
       "    </tr>\n",
       "  </tbody>\n",
       "</table>\n",
       "</div>"
      ],
      "text/plain": [
       "   funded_amount  loan_amount             activity          sector  \\\n",
       "0          300.0        300.0  Fruits & Vegetables            Food   \n",
       "1          575.0        575.0             Rickshaw  Transportation   \n",
       "2          150.0        150.0       Transportation  Transportation   \n",
       "3          200.0        200.0           Embroidery            Arts   \n",
       "4          400.0        400.0           Milk Sales            Food   \n",
       "\n",
       "  country_code   country currency  term_in_months  lender_count  \\\n",
       "0           PK  Pakistan      PKR            12.0            12   \n",
       "1           PK  Pakistan      PKR            11.0            14   \n",
       "2           IN     India      INR            43.0             6   \n",
       "3           PK  Pakistan      PKR            11.0             8   \n",
       "4           PK  Pakistan      PKR            14.0            16   \n",
       "\n",
       "  borrower_genders repayment_interval       borrower_type  \\\n",
       "0           female          irregular   Individual Female   \n",
       "1   female, female          irregular  Small female group   \n",
       "2           female             bullet   Individual Female   \n",
       "3           female          irregular   Individual Female   \n",
       "4           female            monthly   Individual Female   \n",
       "\n",
       "  borrower_type_general  %funded funding_status  invested_per_lender  \\\n",
       "0                female      1.0   fully funded                 25.0   \n",
       "1                female      1.0   fully funded                 41.1   \n",
       "2                female      1.0   fully funded                 25.0   \n",
       "3                female      1.0   fully funded                 25.0   \n",
       "4                female      1.0   fully funded                 25.0   \n",
       "\n",
       "  continent_code continent  \n",
       "0             AS      Asia  \n",
       "1             AS      Asia  \n",
       "2             AS      Asia  \n",
       "3             AS      Asia  \n",
       "4             AS      Asia  "
      ]
     },
     "execution_count": 3,
     "metadata": {},
     "output_type": "execute_result"
    }
   ],
   "source": [
    "df.head()"
   ]
  },
  {
   "cell_type": "markdown",
   "id": "3846ae19",
   "metadata": {},
   "source": [
    "## Visualization\n"
   ]
  },
  {
   "cell_type": "markdown",
   "id": "73ac4177",
   "metadata": {},
   "source": [
    "First impression on project locations"
   ]
  },
  {
   "cell_type": "code",
   "execution_count": 4,
   "id": "2b80203c",
   "metadata": {},
   "outputs": [],
   "source": [
    "# Prepare data\n",
    "df_group_perc_funded = df.groupby(by=\"country\", as_index=False).agg(func={\"%funded\": \"mean\",\"funded_amount\":\"count\"})"
   ]
  },
  {
   "cell_type": "code",
   "execution_count": 5,
   "id": "1274c5bf",
   "metadata": {},
   "outputs": [
    {
     "data": {
      "application/vnd.plotly.v1+json": {
       "config": {
        "plotlyServerURL": "https://plot.ly"
       },
       "data": [
        {
         "geo": "geo",
         "hovertemplate": "<b>%{hovertext}</b><br><br># projects=%{marker.size}<br>Country=%{location}<br>Funding rate in %=%{marker.color}<extra></extra>",
         "hovertext": [
          "Afghanistan",
          "Albania",
          "Armenia",
          "Azerbaijan",
          "Belize",
          "Benin",
          "Bhutan",
          "Bolivia",
          "Brazil",
          "Burkina Faso",
          "Burundi",
          "Cambodia",
          "Cameroon",
          "Chile",
          "China",
          "Colombia",
          "Congo",
          "Costa Rica",
          "Cote D'Ivoire",
          "Dominican Republic",
          "Ecuador",
          "Egypt",
          "El Salvador",
          "Georgia",
          "Ghana",
          "Guatemala",
          "Haiti",
          "Honduras",
          "India",
          "Indonesia",
          "Iraq",
          "Israel",
          "Jordan",
          "Kenya",
          "Kosovo",
          "Kyrgyzstan",
          "Lao People's Democratic Republic",
          "Lebanon",
          "Lesotho",
          "Liberia",
          "Madagascar",
          "Malawi",
          "Mali",
          "Mauritania",
          "Mexico",
          "Moldova",
          "Mongolia",
          "Mozambique",
          "Myanmar (Burma)",
          "Namibia",
          "Nepal",
          "Nicaragua",
          "Nigeria",
          "Pakistan",
          "Palestine",
          "Panama",
          "Paraguay",
          "Peru",
          "Philippines",
          "Puerto Rico",
          "Rwanda",
          "Saint Vincent and the Grenadines",
          "Samoa",
          "Senegal",
          "Sierra Leone",
          "Solomon Islands",
          "Somalia",
          "South Africa",
          "South Sudan",
          "Suriname",
          "Tajikistan",
          "Tanzania",
          "Thailand",
          "The Democratic Republic of the Congo",
          "Timor-Leste",
          "Togo",
          "Turkey",
          "Uganda",
          "Ukraine",
          "United States",
          "Vanuatu",
          "Vietnam",
          "Yemen",
          "Zambia",
          "Zimbabwe"
         ],
         "legendgroup": "",
         "locationmode": "country names",
         "locations": [
          "Afghanistan",
          "Albania",
          "Armenia",
          "Azerbaijan",
          "Belize",
          "Benin",
          "Bhutan",
          "Bolivia",
          "Brazil",
          "Burkina Faso",
          "Burundi",
          "Cambodia",
          "Cameroon",
          "Chile",
          "China",
          "Colombia",
          "Congo",
          "Costa Rica",
          "Cote D'Ivoire",
          "Dominican Republic",
          "Ecuador",
          "Egypt",
          "El Salvador",
          "Georgia",
          "Ghana",
          "Guatemala",
          "Haiti",
          "Honduras",
          "India",
          "Indonesia",
          "Iraq",
          "Israel",
          "Jordan",
          "Kenya",
          "Kosovo",
          "Kyrgyzstan",
          "Lao People's Democratic Republic",
          "Lebanon",
          "Lesotho",
          "Liberia",
          "Madagascar",
          "Malawi",
          "Mali",
          "Mauritania",
          "Mexico",
          "Moldova",
          "Mongolia",
          "Mozambique",
          "Myanmar (Burma)",
          "Namibia",
          "Nepal",
          "Nicaragua",
          "Nigeria",
          "Pakistan",
          "Palestine",
          "Panama",
          "Paraguay",
          "Peru",
          "Philippines",
          "Puerto Rico",
          "Rwanda",
          "Saint Vincent and the Grenadines",
          "Samoa",
          "Senegal",
          "Sierra Leone",
          "Solomon Islands",
          "Somalia",
          "South Africa",
          "South Sudan",
          "Suriname",
          "Tajikistan",
          "Tanzania",
          "Thailand",
          "The Democratic Republic of the Congo",
          "Timor-Leste",
          "Togo",
          "Turkey",
          "Uganda",
          "Ukraine",
          "United States",
          "Vanuatu",
          "Vietnam",
          "Yemen",
          "Zambia",
          "Zimbabwe"
         ],
         "marker": {
          "color": [
           1,
           0.94,
           0.88,
           0.93,
           1,
           1,
           0.8,
           0.93,
           1,
           0.98,
           0.97,
           0.97,
           0.96,
           0.91,
           0.99,
           0.9,
           1,
           0.95,
           1,
           0.98,
           0.98,
           0.98,
           0.91,
           0.96,
           0.98,
           0.97,
           0.99,
           0.96,
           0.99,
           0.95,
           0.99,
           1,
           0.96,
           0.96,
           0.93,
           0.96,
           1,
           0.96,
           1,
           0.98,
           0.99,
           0.98,
           0.96,
           1,
           0.97,
           0.97,
           0.98,
           0.94,
           0.9,
           1,
           1,
           0.95,
           0.9,
           0.96,
           0.93,
           1,
           0.99,
           0.99,
           0.99,
           0.79,
           0.96,
           1,
           0.95,
           0.96,
           0.96,
           0.97,
           1,
           1,
           1,
           0.99,
           0.94,
           0.97,
           1,
           0.98,
           0.96,
           0.98,
           1,
           0.94,
           0.97,
           0.7,
           1,
           0.94,
           0.97,
           0.96,
           0.99
          ],
          "coloraxis": "coloraxis",
          "size": [
           2,
           1934,
           8629,
           1942,
           124,
           497,
           2,
           8799,
           284,
           2458,
           880,
           27067,
           2224,
           10,
           134,
           21961,
           128,
           1560,
           1,
           496,
           13478,
           1592,
           39845,
           2409,
           4294,
           7309,
           3384,
           6550,
           10987,
           6098,
           990,
           190,
           4160,
           73554,
           1419,
           5765,
           1417,
           8672,
           422,
           3633,
           3818,
           1212,
           6625,
           1,
           5662,
           348,
           964,
           3467,
           1870,
           8,
           625,
           11774,
           5709,
           26475,
           8160,
           193,
           11873,
           22223,
           154323,
           68,
           6459,
           16,
           7384,
           3267,
           5398,
           554,
           72,
           351,
           158,
           223,
           19558,
           5214,
           170,
           3073,
           2682,
           5747,
           1688,
           20464,
           963,
           6092,
           4,
           9534,
           2313,
           775,
           3973
          ],
          "sizemode": "area",
          "sizeref": 385.8075,
          "symbol": "circle"
         },
         "mode": "markers",
         "name": "",
         "showlegend": false,
         "type": "scattergeo"
        }
       ],
       "layout": {
        "coloraxis": {
         "colorbar": {
          "title": {
           "text": "Funding rate in %"
          }
         },
         "colorscale": [
          [
           0,
           "rgb(165,0,38)"
          ],
          [
           0.1,
           "rgb(215,48,39)"
          ],
          [
           0.2,
           "rgb(244,109,67)"
          ],
          [
           0.3,
           "rgb(253,174,97)"
          ],
          [
           0.4,
           "rgb(254,224,139)"
          ],
          [
           0.5,
           "rgb(255,255,191)"
          ],
          [
           0.6,
           "rgb(217,239,139)"
          ],
          [
           0.7,
           "rgb(166,217,106)"
          ],
          [
           0.8,
           "rgb(102,189,99)"
          ],
          [
           0.9,
           "rgb(26,152,80)"
          ],
          [
           1,
           "rgb(0,104,55)"
          ]
         ]
        },
        "geo": {
         "center": {},
         "domain": {
          "x": [
           0,
           1
          ],
          "y": [
           0,
           1
          ]
         },
         "projection": {
          "type": "natural earth"
         }
        },
        "legend": {
         "itemsizing": "constant",
         "tracegroupgap": 0
        },
        "template": {
         "data": {
          "bar": [
           {
            "error_x": {
             "color": "#2a3f5f"
            },
            "error_y": {
             "color": "#2a3f5f"
            },
            "marker": {
             "line": {
              "color": "#E5ECF6",
              "width": 0.5
             },
             "pattern": {
              "fillmode": "overlay",
              "size": 10,
              "solidity": 0.2
             }
            },
            "type": "bar"
           }
          ],
          "barpolar": [
           {
            "marker": {
             "line": {
              "color": "#E5ECF6",
              "width": 0.5
             },
             "pattern": {
              "fillmode": "overlay",
              "size": 10,
              "solidity": 0.2
             }
            },
            "type": "barpolar"
           }
          ],
          "carpet": [
           {
            "aaxis": {
             "endlinecolor": "#2a3f5f",
             "gridcolor": "white",
             "linecolor": "white",
             "minorgridcolor": "white",
             "startlinecolor": "#2a3f5f"
            },
            "baxis": {
             "endlinecolor": "#2a3f5f",
             "gridcolor": "white",
             "linecolor": "white",
             "minorgridcolor": "white",
             "startlinecolor": "#2a3f5f"
            },
            "type": "carpet"
           }
          ],
          "choropleth": [
           {
            "colorbar": {
             "outlinewidth": 0,
             "ticks": ""
            },
            "type": "choropleth"
           }
          ],
          "contour": [
           {
            "colorbar": {
             "outlinewidth": 0,
             "ticks": ""
            },
            "colorscale": [
             [
              0,
              "#0d0887"
             ],
             [
              0.1111111111111111,
              "#46039f"
             ],
             [
              0.2222222222222222,
              "#7201a8"
             ],
             [
              0.3333333333333333,
              "#9c179e"
             ],
             [
              0.4444444444444444,
              "#bd3786"
             ],
             [
              0.5555555555555556,
              "#d8576b"
             ],
             [
              0.6666666666666666,
              "#ed7953"
             ],
             [
              0.7777777777777778,
              "#fb9f3a"
             ],
             [
              0.8888888888888888,
              "#fdca26"
             ],
             [
              1,
              "#f0f921"
             ]
            ],
            "type": "contour"
           }
          ],
          "contourcarpet": [
           {
            "colorbar": {
             "outlinewidth": 0,
             "ticks": ""
            },
            "type": "contourcarpet"
           }
          ],
          "heatmap": [
           {
            "colorbar": {
             "outlinewidth": 0,
             "ticks": ""
            },
            "colorscale": [
             [
              0,
              "#0d0887"
             ],
             [
              0.1111111111111111,
              "#46039f"
             ],
             [
              0.2222222222222222,
              "#7201a8"
             ],
             [
              0.3333333333333333,
              "#9c179e"
             ],
             [
              0.4444444444444444,
              "#bd3786"
             ],
             [
              0.5555555555555556,
              "#d8576b"
             ],
             [
              0.6666666666666666,
              "#ed7953"
             ],
             [
              0.7777777777777778,
              "#fb9f3a"
             ],
             [
              0.8888888888888888,
              "#fdca26"
             ],
             [
              1,
              "#f0f921"
             ]
            ],
            "type": "heatmap"
           }
          ],
          "heatmapgl": [
           {
            "colorbar": {
             "outlinewidth": 0,
             "ticks": ""
            },
            "colorscale": [
             [
              0,
              "#0d0887"
             ],
             [
              0.1111111111111111,
              "#46039f"
             ],
             [
              0.2222222222222222,
              "#7201a8"
             ],
             [
              0.3333333333333333,
              "#9c179e"
             ],
             [
              0.4444444444444444,
              "#bd3786"
             ],
             [
              0.5555555555555556,
              "#d8576b"
             ],
             [
              0.6666666666666666,
              "#ed7953"
             ],
             [
              0.7777777777777778,
              "#fb9f3a"
             ],
             [
              0.8888888888888888,
              "#fdca26"
             ],
             [
              1,
              "#f0f921"
             ]
            ],
            "type": "heatmapgl"
           }
          ],
          "histogram": [
           {
            "marker": {
             "pattern": {
              "fillmode": "overlay",
              "size": 10,
              "solidity": 0.2
             }
            },
            "type": "histogram"
           }
          ],
          "histogram2d": [
           {
            "colorbar": {
             "outlinewidth": 0,
             "ticks": ""
            },
            "colorscale": [
             [
              0,
              "#0d0887"
             ],
             [
              0.1111111111111111,
              "#46039f"
             ],
             [
              0.2222222222222222,
              "#7201a8"
             ],
             [
              0.3333333333333333,
              "#9c179e"
             ],
             [
              0.4444444444444444,
              "#bd3786"
             ],
             [
              0.5555555555555556,
              "#d8576b"
             ],
             [
              0.6666666666666666,
              "#ed7953"
             ],
             [
              0.7777777777777778,
              "#fb9f3a"
             ],
             [
              0.8888888888888888,
              "#fdca26"
             ],
             [
              1,
              "#f0f921"
             ]
            ],
            "type": "histogram2d"
           }
          ],
          "histogram2dcontour": [
           {
            "colorbar": {
             "outlinewidth": 0,
             "ticks": ""
            },
            "colorscale": [
             [
              0,
              "#0d0887"
             ],
             [
              0.1111111111111111,
              "#46039f"
             ],
             [
              0.2222222222222222,
              "#7201a8"
             ],
             [
              0.3333333333333333,
              "#9c179e"
             ],
             [
              0.4444444444444444,
              "#bd3786"
             ],
             [
              0.5555555555555556,
              "#d8576b"
             ],
             [
              0.6666666666666666,
              "#ed7953"
             ],
             [
              0.7777777777777778,
              "#fb9f3a"
             ],
             [
              0.8888888888888888,
              "#fdca26"
             ],
             [
              1,
              "#f0f921"
             ]
            ],
            "type": "histogram2dcontour"
           }
          ],
          "mesh3d": [
           {
            "colorbar": {
             "outlinewidth": 0,
             "ticks": ""
            },
            "type": "mesh3d"
           }
          ],
          "parcoords": [
           {
            "line": {
             "colorbar": {
              "outlinewidth": 0,
              "ticks": ""
             }
            },
            "type": "parcoords"
           }
          ],
          "pie": [
           {
            "automargin": true,
            "type": "pie"
           }
          ],
          "scatter": [
           {
            "fillpattern": {
             "fillmode": "overlay",
             "size": 10,
             "solidity": 0.2
            },
            "type": "scatter"
           }
          ],
          "scatter3d": [
           {
            "line": {
             "colorbar": {
              "outlinewidth": 0,
              "ticks": ""
             }
            },
            "marker": {
             "colorbar": {
              "outlinewidth": 0,
              "ticks": ""
             }
            },
            "type": "scatter3d"
           }
          ],
          "scattercarpet": [
           {
            "marker": {
             "colorbar": {
              "outlinewidth": 0,
              "ticks": ""
             }
            },
            "type": "scattercarpet"
           }
          ],
          "scattergeo": [
           {
            "marker": {
             "colorbar": {
              "outlinewidth": 0,
              "ticks": ""
             }
            },
            "type": "scattergeo"
           }
          ],
          "scattergl": [
           {
            "marker": {
             "colorbar": {
              "outlinewidth": 0,
              "ticks": ""
             }
            },
            "type": "scattergl"
           }
          ],
          "scattermapbox": [
           {
            "marker": {
             "colorbar": {
              "outlinewidth": 0,
              "ticks": ""
             }
            },
            "type": "scattermapbox"
           }
          ],
          "scatterpolar": [
           {
            "marker": {
             "colorbar": {
              "outlinewidth": 0,
              "ticks": ""
             }
            },
            "type": "scatterpolar"
           }
          ],
          "scatterpolargl": [
           {
            "marker": {
             "colorbar": {
              "outlinewidth": 0,
              "ticks": ""
             }
            },
            "type": "scatterpolargl"
           }
          ],
          "scatterternary": [
           {
            "marker": {
             "colorbar": {
              "outlinewidth": 0,
              "ticks": ""
             }
            },
            "type": "scatterternary"
           }
          ],
          "surface": [
           {
            "colorbar": {
             "outlinewidth": 0,
             "ticks": ""
            },
            "colorscale": [
             [
              0,
              "#0d0887"
             ],
             [
              0.1111111111111111,
              "#46039f"
             ],
             [
              0.2222222222222222,
              "#7201a8"
             ],
             [
              0.3333333333333333,
              "#9c179e"
             ],
             [
              0.4444444444444444,
              "#bd3786"
             ],
             [
              0.5555555555555556,
              "#d8576b"
             ],
             [
              0.6666666666666666,
              "#ed7953"
             ],
             [
              0.7777777777777778,
              "#fb9f3a"
             ],
             [
              0.8888888888888888,
              "#fdca26"
             ],
             [
              1,
              "#f0f921"
             ]
            ],
            "type": "surface"
           }
          ],
          "table": [
           {
            "cells": {
             "fill": {
              "color": "#EBF0F8"
             },
             "line": {
              "color": "white"
             }
            },
            "header": {
             "fill": {
              "color": "#C8D4E3"
             },
             "line": {
              "color": "white"
             }
            },
            "type": "table"
           }
          ]
         },
         "layout": {
          "annotationdefaults": {
           "arrowcolor": "#2a3f5f",
           "arrowhead": 0,
           "arrowwidth": 1
          },
          "autotypenumbers": "strict",
          "coloraxis": {
           "colorbar": {
            "outlinewidth": 0,
            "ticks": ""
           }
          },
          "colorscale": {
           "diverging": [
            [
             0,
             "#8e0152"
            ],
            [
             0.1,
             "#c51b7d"
            ],
            [
             0.2,
             "#de77ae"
            ],
            [
             0.3,
             "#f1b6da"
            ],
            [
             0.4,
             "#fde0ef"
            ],
            [
             0.5,
             "#f7f7f7"
            ],
            [
             0.6,
             "#e6f5d0"
            ],
            [
             0.7,
             "#b8e186"
            ],
            [
             0.8,
             "#7fbc41"
            ],
            [
             0.9,
             "#4d9221"
            ],
            [
             1,
             "#276419"
            ]
           ],
           "sequential": [
            [
             0,
             "#0d0887"
            ],
            [
             0.1111111111111111,
             "#46039f"
            ],
            [
             0.2222222222222222,
             "#7201a8"
            ],
            [
             0.3333333333333333,
             "#9c179e"
            ],
            [
             0.4444444444444444,
             "#bd3786"
            ],
            [
             0.5555555555555556,
             "#d8576b"
            ],
            [
             0.6666666666666666,
             "#ed7953"
            ],
            [
             0.7777777777777778,
             "#fb9f3a"
            ],
            [
             0.8888888888888888,
             "#fdca26"
            ],
            [
             1,
             "#f0f921"
            ]
           ],
           "sequentialminus": [
            [
             0,
             "#0d0887"
            ],
            [
             0.1111111111111111,
             "#46039f"
            ],
            [
             0.2222222222222222,
             "#7201a8"
            ],
            [
             0.3333333333333333,
             "#9c179e"
            ],
            [
             0.4444444444444444,
             "#bd3786"
            ],
            [
             0.5555555555555556,
             "#d8576b"
            ],
            [
             0.6666666666666666,
             "#ed7953"
            ],
            [
             0.7777777777777778,
             "#fb9f3a"
            ],
            [
             0.8888888888888888,
             "#fdca26"
            ],
            [
             1,
             "#f0f921"
            ]
           ]
          },
          "colorway": [
           "#636efa",
           "#EF553B",
           "#00cc96",
           "#ab63fa",
           "#FFA15A",
           "#19d3f3",
           "#FF6692",
           "#B6E880",
           "#FF97FF",
           "#FECB52"
          ],
          "font": {
           "color": "#2a3f5f"
          },
          "geo": {
           "bgcolor": "white",
           "lakecolor": "white",
           "landcolor": "#E5ECF6",
           "showlakes": true,
           "showland": true,
           "subunitcolor": "white"
          },
          "hoverlabel": {
           "align": "left"
          },
          "hovermode": "closest",
          "mapbox": {
           "style": "light"
          },
          "paper_bgcolor": "white",
          "plot_bgcolor": "#E5ECF6",
          "polar": {
           "angularaxis": {
            "gridcolor": "white",
            "linecolor": "white",
            "ticks": ""
           },
           "bgcolor": "#E5ECF6",
           "radialaxis": {
            "gridcolor": "white",
            "linecolor": "white",
            "ticks": ""
           }
          },
          "scene": {
           "xaxis": {
            "backgroundcolor": "#E5ECF6",
            "gridcolor": "white",
            "gridwidth": 2,
            "linecolor": "white",
            "showbackground": true,
            "ticks": "",
            "zerolinecolor": "white"
           },
           "yaxis": {
            "backgroundcolor": "#E5ECF6",
            "gridcolor": "white",
            "gridwidth": 2,
            "linecolor": "white",
            "showbackground": true,
            "ticks": "",
            "zerolinecolor": "white"
           },
           "zaxis": {
            "backgroundcolor": "#E5ECF6",
            "gridcolor": "white",
            "gridwidth": 2,
            "linecolor": "white",
            "showbackground": true,
            "ticks": "",
            "zerolinecolor": "white"
           }
          },
          "shapedefaults": {
           "line": {
            "color": "#2a3f5f"
           }
          },
          "ternary": {
           "aaxis": {
            "gridcolor": "white",
            "linecolor": "white",
            "ticks": ""
           },
           "baxis": {
            "gridcolor": "white",
            "linecolor": "white",
            "ticks": ""
           },
           "bgcolor": "#E5ECF6",
           "caxis": {
            "gridcolor": "white",
            "linecolor": "white",
            "ticks": ""
           }
          },
          "title": {
           "x": 0.05
          },
          "xaxis": {
           "automargin": true,
           "gridcolor": "white",
           "linecolor": "white",
           "ticks": "",
           "title": {
            "standoff": 15
           },
           "zerolinecolor": "white",
           "zerolinewidth": 2
          },
          "yaxis": {
           "automargin": true,
           "gridcolor": "white",
           "linecolor": "white",
           "ticks": "",
           "title": {
            "standoff": 15
           },
           "zerolinecolor": "white",
           "zerolinewidth": 2
          }
         }
        },
        "title": {
         "text": "# projects and funding rate by country",
         "x": 0.45
        }
       }
      },
      "text/html": [
       "<div>                            <div id=\"2155a7d7-ffe1-4b3f-a9b4-362a38f8fb6a\" class=\"plotly-graph-div\" style=\"height:525px; width:100%;\"></div>            <script type=\"text/javascript\">                require([\"plotly\"], function(Plotly) {                    window.PLOTLYENV=window.PLOTLYENV || {};                                    if (document.getElementById(\"2155a7d7-ffe1-4b3f-a9b4-362a38f8fb6a\")) {                    Plotly.newPlot(                        \"2155a7d7-ffe1-4b3f-a9b4-362a38f8fb6a\",                        [{\"geo\":\"geo\",\"hovertemplate\":\"<b>%{hovertext}</b><br><br># projects=%{marker.size}<br>Country=%{location}<br>Funding rate in %=%{marker.color}<extra></extra>\",\"hovertext\":[\"Afghanistan\",\"Albania\",\"Armenia\",\"Azerbaijan\",\"Belize\",\"Benin\",\"Bhutan\",\"Bolivia\",\"Brazil\",\"Burkina Faso\",\"Burundi\",\"Cambodia\",\"Cameroon\",\"Chile\",\"China\",\"Colombia\",\"Congo\",\"Costa Rica\",\"Cote D'Ivoire\",\"Dominican Republic\",\"Ecuador\",\"Egypt\",\"El Salvador\",\"Georgia\",\"Ghana\",\"Guatemala\",\"Haiti\",\"Honduras\",\"India\",\"Indonesia\",\"Iraq\",\"Israel\",\"Jordan\",\"Kenya\",\"Kosovo\",\"Kyrgyzstan\",\"Lao People's Democratic Republic\",\"Lebanon\",\"Lesotho\",\"Liberia\",\"Madagascar\",\"Malawi\",\"Mali\",\"Mauritania\",\"Mexico\",\"Moldova\",\"Mongolia\",\"Mozambique\",\"Myanmar (Burma)\",\"Namibia\",\"Nepal\",\"Nicaragua\",\"Nigeria\",\"Pakistan\",\"Palestine\",\"Panama\",\"Paraguay\",\"Peru\",\"Philippines\",\"Puerto Rico\",\"Rwanda\",\"Saint Vincent and the Grenadines\",\"Samoa\",\"Senegal\",\"Sierra Leone\",\"Solomon Islands\",\"Somalia\",\"South Africa\",\"South Sudan\",\"Suriname\",\"Tajikistan\",\"Tanzania\",\"Thailand\",\"The Democratic Republic of the Congo\",\"Timor-Leste\",\"Togo\",\"Turkey\",\"Uganda\",\"Ukraine\",\"United States\",\"Vanuatu\",\"Vietnam\",\"Yemen\",\"Zambia\",\"Zimbabwe\"],\"legendgroup\":\"\",\"locationmode\":\"country names\",\"locations\":[\"Afghanistan\",\"Albania\",\"Armenia\",\"Azerbaijan\",\"Belize\",\"Benin\",\"Bhutan\",\"Bolivia\",\"Brazil\",\"Burkina Faso\",\"Burundi\",\"Cambodia\",\"Cameroon\",\"Chile\",\"China\",\"Colombia\",\"Congo\",\"Costa Rica\",\"Cote D'Ivoire\",\"Dominican Republic\",\"Ecuador\",\"Egypt\",\"El Salvador\",\"Georgia\",\"Ghana\",\"Guatemala\",\"Haiti\",\"Honduras\",\"India\",\"Indonesia\",\"Iraq\",\"Israel\",\"Jordan\",\"Kenya\",\"Kosovo\",\"Kyrgyzstan\",\"Lao People's Democratic Republic\",\"Lebanon\",\"Lesotho\",\"Liberia\",\"Madagascar\",\"Malawi\",\"Mali\",\"Mauritania\",\"Mexico\",\"Moldova\",\"Mongolia\",\"Mozambique\",\"Myanmar (Burma)\",\"Namibia\",\"Nepal\",\"Nicaragua\",\"Nigeria\",\"Pakistan\",\"Palestine\",\"Panama\",\"Paraguay\",\"Peru\",\"Philippines\",\"Puerto Rico\",\"Rwanda\",\"Saint Vincent and the Grenadines\",\"Samoa\",\"Senegal\",\"Sierra Leone\",\"Solomon Islands\",\"Somalia\",\"South Africa\",\"South Sudan\",\"Suriname\",\"Tajikistan\",\"Tanzania\",\"Thailand\",\"The Democratic Republic of the Congo\",\"Timor-Leste\",\"Togo\",\"Turkey\",\"Uganda\",\"Ukraine\",\"United States\",\"Vanuatu\",\"Vietnam\",\"Yemen\",\"Zambia\",\"Zimbabwe\"],\"marker\":{\"color\":[1.0,0.94,0.88,0.93,1.0,1.0,0.8,0.93,1.0,0.98,0.97,0.97,0.96,0.91,0.99,0.9,1.0,0.95,1.0,0.98,0.98,0.98,0.91,0.96,0.98,0.97,0.99,0.96,0.99,0.95,0.99,1.0,0.96,0.96,0.93,0.96,1.0,0.96,1.0,0.98,0.99,0.98,0.96,1.0,0.97,0.97,0.98,0.94,0.9,1.0,1.0,0.95,0.9,0.96,0.93,1.0,0.99,0.99,0.99,0.79,0.96,1.0,0.95,0.96,0.96,0.97,1.0,1.0,1.0,0.99,0.94,0.97,1.0,0.98,0.96,0.98,1.0,0.94,0.97,0.7,1.0,0.94,0.97,0.96,0.99],\"coloraxis\":\"coloraxis\",\"size\":[2,1934,8629,1942,124,497,2,8799,284,2458,880,27067,2224,10,134,21961,128,1560,1,496,13478,1592,39845,2409,4294,7309,3384,6550,10987,6098,990,190,4160,73554,1419,5765,1417,8672,422,3633,3818,1212,6625,1,5662,348,964,3467,1870,8,625,11774,5709,26475,8160,193,11873,22223,154323,68,6459,16,7384,3267,5398,554,72,351,158,223,19558,5214,170,3073,2682,5747,1688,20464,963,6092,4,9534,2313,775,3973],\"sizemode\":\"area\",\"sizeref\":385.8075,\"symbol\":\"circle\"},\"mode\":\"markers\",\"name\":\"\",\"showlegend\":false,\"type\":\"scattergeo\"}],                        {\"template\":{\"data\":{\"histogram2dcontour\":[{\"type\":\"histogram2dcontour\",\"colorbar\":{\"outlinewidth\":0,\"ticks\":\"\"},\"colorscale\":[[0.0,\"#0d0887\"],[0.1111111111111111,\"#46039f\"],[0.2222222222222222,\"#7201a8\"],[0.3333333333333333,\"#9c179e\"],[0.4444444444444444,\"#bd3786\"],[0.5555555555555556,\"#d8576b\"],[0.6666666666666666,\"#ed7953\"],[0.7777777777777778,\"#fb9f3a\"],[0.8888888888888888,\"#fdca26\"],[1.0,\"#f0f921\"]]}],\"choropleth\":[{\"type\":\"choropleth\",\"colorbar\":{\"outlinewidth\":0,\"ticks\":\"\"}}],\"histogram2d\":[{\"type\":\"histogram2d\",\"colorbar\":{\"outlinewidth\":0,\"ticks\":\"\"},\"colorscale\":[[0.0,\"#0d0887\"],[0.1111111111111111,\"#46039f\"],[0.2222222222222222,\"#7201a8\"],[0.3333333333333333,\"#9c179e\"],[0.4444444444444444,\"#bd3786\"],[0.5555555555555556,\"#d8576b\"],[0.6666666666666666,\"#ed7953\"],[0.7777777777777778,\"#fb9f3a\"],[0.8888888888888888,\"#fdca26\"],[1.0,\"#f0f921\"]]}],\"heatmap\":[{\"type\":\"heatmap\",\"colorbar\":{\"outlinewidth\":0,\"ticks\":\"\"},\"colorscale\":[[0.0,\"#0d0887\"],[0.1111111111111111,\"#46039f\"],[0.2222222222222222,\"#7201a8\"],[0.3333333333333333,\"#9c179e\"],[0.4444444444444444,\"#bd3786\"],[0.5555555555555556,\"#d8576b\"],[0.6666666666666666,\"#ed7953\"],[0.7777777777777778,\"#fb9f3a\"],[0.8888888888888888,\"#fdca26\"],[1.0,\"#f0f921\"]]}],\"heatmapgl\":[{\"type\":\"heatmapgl\",\"colorbar\":{\"outlinewidth\":0,\"ticks\":\"\"},\"colorscale\":[[0.0,\"#0d0887\"],[0.1111111111111111,\"#46039f\"],[0.2222222222222222,\"#7201a8\"],[0.3333333333333333,\"#9c179e\"],[0.4444444444444444,\"#bd3786\"],[0.5555555555555556,\"#d8576b\"],[0.6666666666666666,\"#ed7953\"],[0.7777777777777778,\"#fb9f3a\"],[0.8888888888888888,\"#fdca26\"],[1.0,\"#f0f921\"]]}],\"contourcarpet\":[{\"type\":\"contourcarpet\",\"colorbar\":{\"outlinewidth\":0,\"ticks\":\"\"}}],\"contour\":[{\"type\":\"contour\",\"colorbar\":{\"outlinewidth\":0,\"ticks\":\"\"},\"colorscale\":[[0.0,\"#0d0887\"],[0.1111111111111111,\"#46039f\"],[0.2222222222222222,\"#7201a8\"],[0.3333333333333333,\"#9c179e\"],[0.4444444444444444,\"#bd3786\"],[0.5555555555555556,\"#d8576b\"],[0.6666666666666666,\"#ed7953\"],[0.7777777777777778,\"#fb9f3a\"],[0.8888888888888888,\"#fdca26\"],[1.0,\"#f0f921\"]]}],\"surface\":[{\"type\":\"surface\",\"colorbar\":{\"outlinewidth\":0,\"ticks\":\"\"},\"colorscale\":[[0.0,\"#0d0887\"],[0.1111111111111111,\"#46039f\"],[0.2222222222222222,\"#7201a8\"],[0.3333333333333333,\"#9c179e\"],[0.4444444444444444,\"#bd3786\"],[0.5555555555555556,\"#d8576b\"],[0.6666666666666666,\"#ed7953\"],[0.7777777777777778,\"#fb9f3a\"],[0.8888888888888888,\"#fdca26\"],[1.0,\"#f0f921\"]]}],\"mesh3d\":[{\"type\":\"mesh3d\",\"colorbar\":{\"outlinewidth\":0,\"ticks\":\"\"}}],\"scatter\":[{\"fillpattern\":{\"fillmode\":\"overlay\",\"size\":10,\"solidity\":0.2},\"type\":\"scatter\"}],\"parcoords\":[{\"type\":\"parcoords\",\"line\":{\"colorbar\":{\"outlinewidth\":0,\"ticks\":\"\"}}}],\"scatterpolargl\":[{\"type\":\"scatterpolargl\",\"marker\":{\"colorbar\":{\"outlinewidth\":0,\"ticks\":\"\"}}}],\"bar\":[{\"error_x\":{\"color\":\"#2a3f5f\"},\"error_y\":{\"color\":\"#2a3f5f\"},\"marker\":{\"line\":{\"color\":\"#E5ECF6\",\"width\":0.5},\"pattern\":{\"fillmode\":\"overlay\",\"size\":10,\"solidity\":0.2}},\"type\":\"bar\"}],\"scattergeo\":[{\"type\":\"scattergeo\",\"marker\":{\"colorbar\":{\"outlinewidth\":0,\"ticks\":\"\"}}}],\"scatterpolar\":[{\"type\":\"scatterpolar\",\"marker\":{\"colorbar\":{\"outlinewidth\":0,\"ticks\":\"\"}}}],\"histogram\":[{\"marker\":{\"pattern\":{\"fillmode\":\"overlay\",\"size\":10,\"solidity\":0.2}},\"type\":\"histogram\"}],\"scattergl\":[{\"type\":\"scattergl\",\"marker\":{\"colorbar\":{\"outlinewidth\":0,\"ticks\":\"\"}}}],\"scatter3d\":[{\"type\":\"scatter3d\",\"line\":{\"colorbar\":{\"outlinewidth\":0,\"ticks\":\"\"}},\"marker\":{\"colorbar\":{\"outlinewidth\":0,\"ticks\":\"\"}}}],\"scattermapbox\":[{\"type\":\"scattermapbox\",\"marker\":{\"colorbar\":{\"outlinewidth\":0,\"ticks\":\"\"}}}],\"scatterternary\":[{\"type\":\"scatterternary\",\"marker\":{\"colorbar\":{\"outlinewidth\":0,\"ticks\":\"\"}}}],\"scattercarpet\":[{\"type\":\"scattercarpet\",\"marker\":{\"colorbar\":{\"outlinewidth\":0,\"ticks\":\"\"}}}],\"carpet\":[{\"aaxis\":{\"endlinecolor\":\"#2a3f5f\",\"gridcolor\":\"white\",\"linecolor\":\"white\",\"minorgridcolor\":\"white\",\"startlinecolor\":\"#2a3f5f\"},\"baxis\":{\"endlinecolor\":\"#2a3f5f\",\"gridcolor\":\"white\",\"linecolor\":\"white\",\"minorgridcolor\":\"white\",\"startlinecolor\":\"#2a3f5f\"},\"type\":\"carpet\"}],\"table\":[{\"cells\":{\"fill\":{\"color\":\"#EBF0F8\"},\"line\":{\"color\":\"white\"}},\"header\":{\"fill\":{\"color\":\"#C8D4E3\"},\"line\":{\"color\":\"white\"}},\"type\":\"table\"}],\"barpolar\":[{\"marker\":{\"line\":{\"color\":\"#E5ECF6\",\"width\":0.5},\"pattern\":{\"fillmode\":\"overlay\",\"size\":10,\"solidity\":0.2}},\"type\":\"barpolar\"}],\"pie\":[{\"automargin\":true,\"type\":\"pie\"}]},\"layout\":{\"autotypenumbers\":\"strict\",\"colorway\":[\"#636efa\",\"#EF553B\",\"#00cc96\",\"#ab63fa\",\"#FFA15A\",\"#19d3f3\",\"#FF6692\",\"#B6E880\",\"#FF97FF\",\"#FECB52\"],\"font\":{\"color\":\"#2a3f5f\"},\"hovermode\":\"closest\",\"hoverlabel\":{\"align\":\"left\"},\"paper_bgcolor\":\"white\",\"plot_bgcolor\":\"#E5ECF6\",\"polar\":{\"bgcolor\":\"#E5ECF6\",\"angularaxis\":{\"gridcolor\":\"white\",\"linecolor\":\"white\",\"ticks\":\"\"},\"radialaxis\":{\"gridcolor\":\"white\",\"linecolor\":\"white\",\"ticks\":\"\"}},\"ternary\":{\"bgcolor\":\"#E5ECF6\",\"aaxis\":{\"gridcolor\":\"white\",\"linecolor\":\"white\",\"ticks\":\"\"},\"baxis\":{\"gridcolor\":\"white\",\"linecolor\":\"white\",\"ticks\":\"\"},\"caxis\":{\"gridcolor\":\"white\",\"linecolor\":\"white\",\"ticks\":\"\"}},\"coloraxis\":{\"colorbar\":{\"outlinewidth\":0,\"ticks\":\"\"}},\"colorscale\":{\"sequential\":[[0.0,\"#0d0887\"],[0.1111111111111111,\"#46039f\"],[0.2222222222222222,\"#7201a8\"],[0.3333333333333333,\"#9c179e\"],[0.4444444444444444,\"#bd3786\"],[0.5555555555555556,\"#d8576b\"],[0.6666666666666666,\"#ed7953\"],[0.7777777777777778,\"#fb9f3a\"],[0.8888888888888888,\"#fdca26\"],[1.0,\"#f0f921\"]],\"sequentialminus\":[[0.0,\"#0d0887\"],[0.1111111111111111,\"#46039f\"],[0.2222222222222222,\"#7201a8\"],[0.3333333333333333,\"#9c179e\"],[0.4444444444444444,\"#bd3786\"],[0.5555555555555556,\"#d8576b\"],[0.6666666666666666,\"#ed7953\"],[0.7777777777777778,\"#fb9f3a\"],[0.8888888888888888,\"#fdca26\"],[1.0,\"#f0f921\"]],\"diverging\":[[0,\"#8e0152\"],[0.1,\"#c51b7d\"],[0.2,\"#de77ae\"],[0.3,\"#f1b6da\"],[0.4,\"#fde0ef\"],[0.5,\"#f7f7f7\"],[0.6,\"#e6f5d0\"],[0.7,\"#b8e186\"],[0.8,\"#7fbc41\"],[0.9,\"#4d9221\"],[1,\"#276419\"]]},\"xaxis\":{\"gridcolor\":\"white\",\"linecolor\":\"white\",\"ticks\":\"\",\"title\":{\"standoff\":15},\"zerolinecolor\":\"white\",\"automargin\":true,\"zerolinewidth\":2},\"yaxis\":{\"gridcolor\":\"white\",\"linecolor\":\"white\",\"ticks\":\"\",\"title\":{\"standoff\":15},\"zerolinecolor\":\"white\",\"automargin\":true,\"zerolinewidth\":2},\"scene\":{\"xaxis\":{\"backgroundcolor\":\"#E5ECF6\",\"gridcolor\":\"white\",\"linecolor\":\"white\",\"showbackground\":true,\"ticks\":\"\",\"zerolinecolor\":\"white\",\"gridwidth\":2},\"yaxis\":{\"backgroundcolor\":\"#E5ECF6\",\"gridcolor\":\"white\",\"linecolor\":\"white\",\"showbackground\":true,\"ticks\":\"\",\"zerolinecolor\":\"white\",\"gridwidth\":2},\"zaxis\":{\"backgroundcolor\":\"#E5ECF6\",\"gridcolor\":\"white\",\"linecolor\":\"white\",\"showbackground\":true,\"ticks\":\"\",\"zerolinecolor\":\"white\",\"gridwidth\":2}},\"shapedefaults\":{\"line\":{\"color\":\"#2a3f5f\"}},\"annotationdefaults\":{\"arrowcolor\":\"#2a3f5f\",\"arrowhead\":0,\"arrowwidth\":1},\"geo\":{\"bgcolor\":\"white\",\"landcolor\":\"#E5ECF6\",\"subunitcolor\":\"white\",\"showland\":true,\"showlakes\":true,\"lakecolor\":\"white\"},\"title\":{\"x\":0.05},\"mapbox\":{\"style\":\"light\"}}},\"geo\":{\"domain\":{\"x\":[0.0,1.0],\"y\":[0.0,1.0]},\"projection\":{\"type\":\"natural earth\"},\"center\":{}},\"coloraxis\":{\"colorbar\":{\"title\":{\"text\":\"Funding rate in %\"}},\"colorscale\":[[0.0,\"rgb(165,0,38)\"],[0.1,\"rgb(215,48,39)\"],[0.2,\"rgb(244,109,67)\"],[0.3,\"rgb(253,174,97)\"],[0.4,\"rgb(254,224,139)\"],[0.5,\"rgb(255,255,191)\"],[0.6,\"rgb(217,239,139)\"],[0.7,\"rgb(166,217,106)\"],[0.8,\"rgb(102,189,99)\"],[0.9,\"rgb(26,152,80)\"],[1.0,\"rgb(0,104,55)\"]]},\"legend\":{\"tracegroupgap\":0,\"itemsizing\":\"constant\"},\"title\":{\"text\":\"# projects and funding rate by country\",\"x\":0.45}},                        {\"responsive\": true}                    ).then(function(){\n",
       "                            \n",
       "var gd = document.getElementById('2155a7d7-ffe1-4b3f-a9b4-362a38f8fb6a');\n",
       "var x = new MutationObserver(function (mutations, observer) {{\n",
       "        var display = window.getComputedStyle(gd).display;\n",
       "        if (!display || display === 'none') {{\n",
       "            console.log([gd, 'removed!']);\n",
       "            Plotly.purge(gd);\n",
       "            observer.disconnect();\n",
       "        }}\n",
       "}});\n",
       "\n",
       "// Listen for the removal of the full notebook cells\n",
       "var notebookContainer = gd.closest('#notebook-container');\n",
       "if (notebookContainer) {{\n",
       "    x.observe(notebookContainer, {childList: true});\n",
       "}}\n",
       "\n",
       "// Listen for the clearing of the current output cell\n",
       "var outputEl = gd.closest('.output');\n",
       "if (outputEl) {{\n",
       "    x.observe(outputEl, {childList: true});\n",
       "}}\n",
       "\n",
       "                        })                };                });            </script>        </div>"
      ]
     },
     "metadata": {},
     "output_type": "display_data"
    }
   ],
   "source": [
    "# Overview of project locations\n",
    "fig_sucess = px.scatter_geo(\n",
    "                        round(df_group_perc_funded.loc[df_group_perc_funded['%funded']>0.1, :],2), \n",
    "                        locations=\"country\",\n",
    "                        locationmode=\"country names\",\n",
    "                        color=\"%funded\",\n",
    "                        color_continuous_scale=\"RdYlGn\",\n",
    "                        hover_name=\"country\", \n",
    "                        size=\"funded_amount\", \n",
    "                        projection=\"natural earth\",\n",
    "                        title=\"# projects and funding rate by country\",\n",
    "                        labels={\"%funded\":\"Funding rate in %\", \"funded_amount\":\"# projects\", \"country\":\"Country\"}\n",
    "                        )\n",
    "\n",
    "fig_sucess.update_layout(title_x=0.45) \n",
    "fig_sucess.show()"
   ]
  },
  {
   "cell_type": "markdown",
   "id": "418671a6",
   "metadata": {},
   "source": [
    "**To note**\n",
    "\n",
    "- investements are spread out over multiple continents, Australia is not present in the data\n",
    "- based on unusually low funding rate and # of projects, USA fall a bit out of line; also considering their other characteristics, which are not contained in the dataset, e.g., GDP\n",
    "- most projects are in the Philippines and Kenya\n",
    "- Philippines mean % of funding is 99%\n"
   ]
  },
  {
   "cell_type": "markdown",
   "id": "23286d08",
   "metadata": {},
   "source": [
    "### How successful is the company in connecting lenders and borrowers?\n",
    "The company is the intermediate between lenders that want to invest and strive to support a good cause and borrowers who need funding for their business or their personal development goals. Thereby, the crowdfunding company profits from each investment placed on their website. As an audit conducted by the lending platform is a prerequiste for borrowers to be able to place their investment on the website, it is assumed that borrowers are more likely to make use of the platform and go through the audit process if their chances of getting funded are high. Hence, it is assumed that the higher the percentage of successfully funded projects, the better is the company's position in the market and the more attractive the company becomes for potential borrowers. The company has therefore an internal motivation to ensure that the right lenders and borrowers are connected and that projects that are published on the website not only support borrowers but also have a fair chance of getting fully funded."
   ]
  },
  {
   "cell_type": "markdown",
   "id": "68d7de6b",
   "metadata": {},
   "source": [
    "Preparing the data to analyse (visualize) how many investments get fully funded vs how many do not get fully funded, incl. levels of funding level."
   ]
  },
  {
   "cell_type": "code",
   "execution_count": 6,
   "id": "3d6624f1",
   "metadata": {},
   "outputs": [],
   "source": [
    "# create new dataframe\n",
    "df_group_funding_status = df.groupby(by='funding_status', as_index=False).agg(count=('funding_status','count'))\n",
    "\n",
    "# format column\n",
    "df_group_funding_status['%status']  = round((df_group_funding_status['count'] / df_group_funding_status['count'].sum())*100,2).astype(str)+'%'"
   ]
  },
  {
   "cell_type": "code",
   "execution_count": 7,
   "id": "dc7000d0",
   "metadata": {
    "scrolled": true
   },
   "outputs": [
    {
     "data": {
      "application/vnd.plotly.v1+json": {
       "config": {
        "plotlyServerURL": "https://plot.ly"
       },
       "data": [
        {
         "branchvalues": "total",
         "customdata": [
          [
           ">20% funded",
           "1.57%"
          ],
          [
           ">40% funded",
           "1.81%"
          ],
          [
           ">60% funded",
           "1.57%"
          ],
          [
           ">80% funded",
           "0.41%"
          ],
          [
           "fully funded",
           "92.64%"
          ],
          [
           "not funded",
           "0.72%"
          ],
          [
           "overfunded",
           "0.0%"
          ],
          [
           "up to 20% funded",
           "1.29%"
          ]
         ],
         "domain": {
          "x": [
           0,
           1
          ],
          "y": [
           0,
           1
          ]
         },
         "hovertemplate": "<b>%{customdata[1]}</b> of loans <br>were <b>%{customdata[0]}.</b><br><br>",
         "ids": [
          ">20% funded",
          ">40% funded",
          ">60% funded",
          ">80% funded",
          "fully funded",
          "not funded",
          "overfunded",
          "up to 20% funded"
         ],
         "labels": [
          ">20% funded",
          ">40% funded",
          ">60% funded",
          ">80% funded",
          "fully funded",
          "not funded",
          "overfunded",
          "up to 20% funded"
         ],
         "marker": {
          "colors": [
           "moccasin",
           "palegoldenrod",
           "darkkhaki",
           "olivedrab",
           "darkseagreen",
           "salmon",
           "darkolivegreen",
           "peachpuff"
          ]
         },
         "name": "",
         "parents": [
          "",
          "",
          "",
          "",
          "",
          "",
          "",
          ""
         ],
         "root": {
          "color": "white"
         },
         "type": "treemap",
         "values": [
          10178,
          11722,
          10130,
          2632,
          599196,
          4642,
          2,
          8331
         ]
        }
       ],
       "layout": {
        "annotations": [
         {
          "font": {
           "size": 8
          },
          "showarrow": false,
          "x": 1.0051,
          "y": -0.045
         }
        ],
        "hoverlabel": {
         "font": {
          "family": "Calibri",
          "size": 13
         }
        },
        "legend": {
         "tracegroupgap": 0
        },
        "margin": {
         "b": 25,
         "l": 25,
         "r": 25,
         "t": 50
        },
        "paper_bgcolor": "#d6dbdf",
        "template": {
         "data": {
          "bar": [
           {
            "error_x": {
             "color": "#2a3f5f"
            },
            "error_y": {
             "color": "#2a3f5f"
            },
            "marker": {
             "line": {
              "color": "#E5ECF6",
              "width": 0.5
             },
             "pattern": {
              "fillmode": "overlay",
              "size": 10,
              "solidity": 0.2
             }
            },
            "type": "bar"
           }
          ],
          "barpolar": [
           {
            "marker": {
             "line": {
              "color": "#E5ECF6",
              "width": 0.5
             },
             "pattern": {
              "fillmode": "overlay",
              "size": 10,
              "solidity": 0.2
             }
            },
            "type": "barpolar"
           }
          ],
          "carpet": [
           {
            "aaxis": {
             "endlinecolor": "#2a3f5f",
             "gridcolor": "white",
             "linecolor": "white",
             "minorgridcolor": "white",
             "startlinecolor": "#2a3f5f"
            },
            "baxis": {
             "endlinecolor": "#2a3f5f",
             "gridcolor": "white",
             "linecolor": "white",
             "minorgridcolor": "white",
             "startlinecolor": "#2a3f5f"
            },
            "type": "carpet"
           }
          ],
          "choropleth": [
           {
            "colorbar": {
             "outlinewidth": 0,
             "ticks": ""
            },
            "type": "choropleth"
           }
          ],
          "contour": [
           {
            "colorbar": {
             "outlinewidth": 0,
             "ticks": ""
            },
            "colorscale": [
             [
              0,
              "#0d0887"
             ],
             [
              0.1111111111111111,
              "#46039f"
             ],
             [
              0.2222222222222222,
              "#7201a8"
             ],
             [
              0.3333333333333333,
              "#9c179e"
             ],
             [
              0.4444444444444444,
              "#bd3786"
             ],
             [
              0.5555555555555556,
              "#d8576b"
             ],
             [
              0.6666666666666666,
              "#ed7953"
             ],
             [
              0.7777777777777778,
              "#fb9f3a"
             ],
             [
              0.8888888888888888,
              "#fdca26"
             ],
             [
              1,
              "#f0f921"
             ]
            ],
            "type": "contour"
           }
          ],
          "contourcarpet": [
           {
            "colorbar": {
             "outlinewidth": 0,
             "ticks": ""
            },
            "type": "contourcarpet"
           }
          ],
          "heatmap": [
           {
            "colorbar": {
             "outlinewidth": 0,
             "ticks": ""
            },
            "colorscale": [
             [
              0,
              "#0d0887"
             ],
             [
              0.1111111111111111,
              "#46039f"
             ],
             [
              0.2222222222222222,
              "#7201a8"
             ],
             [
              0.3333333333333333,
              "#9c179e"
             ],
             [
              0.4444444444444444,
              "#bd3786"
             ],
             [
              0.5555555555555556,
              "#d8576b"
             ],
             [
              0.6666666666666666,
              "#ed7953"
             ],
             [
              0.7777777777777778,
              "#fb9f3a"
             ],
             [
              0.8888888888888888,
              "#fdca26"
             ],
             [
              1,
              "#f0f921"
             ]
            ],
            "type": "heatmap"
           }
          ],
          "heatmapgl": [
           {
            "colorbar": {
             "outlinewidth": 0,
             "ticks": ""
            },
            "colorscale": [
             [
              0,
              "#0d0887"
             ],
             [
              0.1111111111111111,
              "#46039f"
             ],
             [
              0.2222222222222222,
              "#7201a8"
             ],
             [
              0.3333333333333333,
              "#9c179e"
             ],
             [
              0.4444444444444444,
              "#bd3786"
             ],
             [
              0.5555555555555556,
              "#d8576b"
             ],
             [
              0.6666666666666666,
              "#ed7953"
             ],
             [
              0.7777777777777778,
              "#fb9f3a"
             ],
             [
              0.8888888888888888,
              "#fdca26"
             ],
             [
              1,
              "#f0f921"
             ]
            ],
            "type": "heatmapgl"
           }
          ],
          "histogram": [
           {
            "marker": {
             "pattern": {
              "fillmode": "overlay",
              "size": 10,
              "solidity": 0.2
             }
            },
            "type": "histogram"
           }
          ],
          "histogram2d": [
           {
            "colorbar": {
             "outlinewidth": 0,
             "ticks": ""
            },
            "colorscale": [
             [
              0,
              "#0d0887"
             ],
             [
              0.1111111111111111,
              "#46039f"
             ],
             [
              0.2222222222222222,
              "#7201a8"
             ],
             [
              0.3333333333333333,
              "#9c179e"
             ],
             [
              0.4444444444444444,
              "#bd3786"
             ],
             [
              0.5555555555555556,
              "#d8576b"
             ],
             [
              0.6666666666666666,
              "#ed7953"
             ],
             [
              0.7777777777777778,
              "#fb9f3a"
             ],
             [
              0.8888888888888888,
              "#fdca26"
             ],
             [
              1,
              "#f0f921"
             ]
            ],
            "type": "histogram2d"
           }
          ],
          "histogram2dcontour": [
           {
            "colorbar": {
             "outlinewidth": 0,
             "ticks": ""
            },
            "colorscale": [
             [
              0,
              "#0d0887"
             ],
             [
              0.1111111111111111,
              "#46039f"
             ],
             [
              0.2222222222222222,
              "#7201a8"
             ],
             [
              0.3333333333333333,
              "#9c179e"
             ],
             [
              0.4444444444444444,
              "#bd3786"
             ],
             [
              0.5555555555555556,
              "#d8576b"
             ],
             [
              0.6666666666666666,
              "#ed7953"
             ],
             [
              0.7777777777777778,
              "#fb9f3a"
             ],
             [
              0.8888888888888888,
              "#fdca26"
             ],
             [
              1,
              "#f0f921"
             ]
            ],
            "type": "histogram2dcontour"
           }
          ],
          "mesh3d": [
           {
            "colorbar": {
             "outlinewidth": 0,
             "ticks": ""
            },
            "type": "mesh3d"
           }
          ],
          "parcoords": [
           {
            "line": {
             "colorbar": {
              "outlinewidth": 0,
              "ticks": ""
             }
            },
            "type": "parcoords"
           }
          ],
          "pie": [
           {
            "automargin": true,
            "type": "pie"
           }
          ],
          "scatter": [
           {
            "fillpattern": {
             "fillmode": "overlay",
             "size": 10,
             "solidity": 0.2
            },
            "type": "scatter"
           }
          ],
          "scatter3d": [
           {
            "line": {
             "colorbar": {
              "outlinewidth": 0,
              "ticks": ""
             }
            },
            "marker": {
             "colorbar": {
              "outlinewidth": 0,
              "ticks": ""
             }
            },
            "type": "scatter3d"
           }
          ],
          "scattercarpet": [
           {
            "marker": {
             "colorbar": {
              "outlinewidth": 0,
              "ticks": ""
             }
            },
            "type": "scattercarpet"
           }
          ],
          "scattergeo": [
           {
            "marker": {
             "colorbar": {
              "outlinewidth": 0,
              "ticks": ""
             }
            },
            "type": "scattergeo"
           }
          ],
          "scattergl": [
           {
            "marker": {
             "colorbar": {
              "outlinewidth": 0,
              "ticks": ""
             }
            },
            "type": "scattergl"
           }
          ],
          "scattermapbox": [
           {
            "marker": {
             "colorbar": {
              "outlinewidth": 0,
              "ticks": ""
             }
            },
            "type": "scattermapbox"
           }
          ],
          "scatterpolar": [
           {
            "marker": {
             "colorbar": {
              "outlinewidth": 0,
              "ticks": ""
             }
            },
            "type": "scatterpolar"
           }
          ],
          "scatterpolargl": [
           {
            "marker": {
             "colorbar": {
              "outlinewidth": 0,
              "ticks": ""
             }
            },
            "type": "scatterpolargl"
           }
          ],
          "scatterternary": [
           {
            "marker": {
             "colorbar": {
              "outlinewidth": 0,
              "ticks": ""
             }
            },
            "type": "scatterternary"
           }
          ],
          "surface": [
           {
            "colorbar": {
             "outlinewidth": 0,
             "ticks": ""
            },
            "colorscale": [
             [
              0,
              "#0d0887"
             ],
             [
              0.1111111111111111,
              "#46039f"
             ],
             [
              0.2222222222222222,
              "#7201a8"
             ],
             [
              0.3333333333333333,
              "#9c179e"
             ],
             [
              0.4444444444444444,
              "#bd3786"
             ],
             [
              0.5555555555555556,
              "#d8576b"
             ],
             [
              0.6666666666666666,
              "#ed7953"
             ],
             [
              0.7777777777777778,
              "#fb9f3a"
             ],
             [
              0.8888888888888888,
              "#fdca26"
             ],
             [
              1,
              "#f0f921"
             ]
            ],
            "type": "surface"
           }
          ],
          "table": [
           {
            "cells": {
             "fill": {
              "color": "#EBF0F8"
             },
             "line": {
              "color": "white"
             }
            },
            "header": {
             "fill": {
              "color": "#C8D4E3"
             },
             "line": {
              "color": "white"
             }
            },
            "type": "table"
           }
          ]
         },
         "layout": {
          "annotationdefaults": {
           "arrowcolor": "#2a3f5f",
           "arrowhead": 0,
           "arrowwidth": 1
          },
          "autotypenumbers": "strict",
          "coloraxis": {
           "colorbar": {
            "outlinewidth": 0,
            "ticks": ""
           }
          },
          "colorscale": {
           "diverging": [
            [
             0,
             "#8e0152"
            ],
            [
             0.1,
             "#c51b7d"
            ],
            [
             0.2,
             "#de77ae"
            ],
            [
             0.3,
             "#f1b6da"
            ],
            [
             0.4,
             "#fde0ef"
            ],
            [
             0.5,
             "#f7f7f7"
            ],
            [
             0.6,
             "#e6f5d0"
            ],
            [
             0.7,
             "#b8e186"
            ],
            [
             0.8,
             "#7fbc41"
            ],
            [
             0.9,
             "#4d9221"
            ],
            [
             1,
             "#276419"
            ]
           ],
           "sequential": [
            [
             0,
             "#0d0887"
            ],
            [
             0.1111111111111111,
             "#46039f"
            ],
            [
             0.2222222222222222,
             "#7201a8"
            ],
            [
             0.3333333333333333,
             "#9c179e"
            ],
            [
             0.4444444444444444,
             "#bd3786"
            ],
            [
             0.5555555555555556,
             "#d8576b"
            ],
            [
             0.6666666666666666,
             "#ed7953"
            ],
            [
             0.7777777777777778,
             "#fb9f3a"
            ],
            [
             0.8888888888888888,
             "#fdca26"
            ],
            [
             1,
             "#f0f921"
            ]
           ],
           "sequentialminus": [
            [
             0,
             "#0d0887"
            ],
            [
             0.1111111111111111,
             "#46039f"
            ],
            [
             0.2222222222222222,
             "#7201a8"
            ],
            [
             0.3333333333333333,
             "#9c179e"
            ],
            [
             0.4444444444444444,
             "#bd3786"
            ],
            [
             0.5555555555555556,
             "#d8576b"
            ],
            [
             0.6666666666666666,
             "#ed7953"
            ],
            [
             0.7777777777777778,
             "#fb9f3a"
            ],
            [
             0.8888888888888888,
             "#fdca26"
            ],
            [
             1,
             "#f0f921"
            ]
           ]
          },
          "colorway": [
           "#636efa",
           "#EF553B",
           "#00cc96",
           "#ab63fa",
           "#FFA15A",
           "#19d3f3",
           "#FF6692",
           "#B6E880",
           "#FF97FF",
           "#FECB52"
          ],
          "font": {
           "color": "#2a3f5f"
          },
          "geo": {
           "bgcolor": "white",
           "lakecolor": "white",
           "landcolor": "#E5ECF6",
           "showlakes": true,
           "showland": true,
           "subunitcolor": "white"
          },
          "hoverlabel": {
           "align": "left"
          },
          "hovermode": "closest",
          "mapbox": {
           "style": "light"
          },
          "paper_bgcolor": "white",
          "plot_bgcolor": "#E5ECF6",
          "polar": {
           "angularaxis": {
            "gridcolor": "white",
            "linecolor": "white",
            "ticks": ""
           },
           "bgcolor": "#E5ECF6",
           "radialaxis": {
            "gridcolor": "white",
            "linecolor": "white",
            "ticks": ""
           }
          },
          "scene": {
           "xaxis": {
            "backgroundcolor": "#E5ECF6",
            "gridcolor": "white",
            "gridwidth": 2,
            "linecolor": "white",
            "showbackground": true,
            "ticks": "",
            "zerolinecolor": "white"
           },
           "yaxis": {
            "backgroundcolor": "#E5ECF6",
            "gridcolor": "white",
            "gridwidth": 2,
            "linecolor": "white",
            "showbackground": true,
            "ticks": "",
            "zerolinecolor": "white"
           },
           "zaxis": {
            "backgroundcolor": "#E5ECF6",
            "gridcolor": "white",
            "gridwidth": 2,
            "linecolor": "white",
            "showbackground": true,
            "ticks": "",
            "zerolinecolor": "white"
           }
          },
          "shapedefaults": {
           "line": {
            "color": "#2a3f5f"
           }
          },
          "ternary": {
           "aaxis": {
            "gridcolor": "white",
            "linecolor": "white",
            "ticks": ""
           },
           "baxis": {
            "gridcolor": "white",
            "linecolor": "white",
            "ticks": ""
           },
           "bgcolor": "#E5ECF6",
           "caxis": {
            "gridcolor": "white",
            "linecolor": "white",
            "ticks": ""
           }
          },
          "title": {
           "x": 0.05
          },
          "xaxis": {
           "automargin": true,
           "gridcolor": "white",
           "linecolor": "white",
           "ticks": "",
           "title": {
            "standoff": 15
           },
           "zerolinecolor": "white",
           "zerolinewidth": 2
          },
          "yaxis": {
           "automargin": true,
           "gridcolor": "white",
           "linecolor": "white",
           "ticks": "",
           "title": {
            "standoff": 15
           },
           "zerolinecolor": "white",
           "zerolinewidth": 2
          }
         }
        },
        "title": {
         "font": {
          "color": "#283747 "
         },
         "text": "<b>Status of loans in 2016<b>",
         "x": 0.03,
         "y": 0.95
        }
       }
      },
      "text/html": [
       "<div>                            <div id=\"0b8fb628-6fce-4c8f-a7c1-58369ff1f134\" class=\"plotly-graph-div\" style=\"height:525px; width:100%;\"></div>            <script type=\"text/javascript\">                require([\"plotly\"], function(Plotly) {                    window.PLOTLYENV=window.PLOTLYENV || {};                                    if (document.getElementById(\"0b8fb628-6fce-4c8f-a7c1-58369ff1f134\")) {                    Plotly.newPlot(                        \"0b8fb628-6fce-4c8f-a7c1-58369ff1f134\",                        [{\"branchvalues\":\"total\",\"customdata\":[[\">20% funded\",\"1.57%\"],[\">40% funded\",\"1.81%\"],[\">60% funded\",\"1.57%\"],[\">80% funded\",\"0.41%\"],[\"fully funded\",\"92.64%\"],[\"not funded\",\"0.72%\"],[\"overfunded\",\"0.0%\"],[\"up to 20% funded\",\"1.29%\"]],\"domain\":{\"x\":[0.0,1.0],\"y\":[0.0,1.0]},\"hovertemplate\":\"<b>%{customdata[1]}</b> of loans <br>were <b>%{customdata[0]}.</b><br><br>\",\"ids\":[\">20% funded\",\">40% funded\",\">60% funded\",\">80% funded\",\"fully funded\",\"not funded\",\"overfunded\",\"up to 20% funded\"],\"labels\":[\">20% funded\",\">40% funded\",\">60% funded\",\">80% funded\",\"fully funded\",\"not funded\",\"overfunded\",\"up to 20% funded\"],\"marker\":{\"colors\":[\"moccasin\",\"palegoldenrod\",\"darkkhaki\",\"olivedrab\",\"darkseagreen\",\"salmon\",\"darkolivegreen\",\"peachpuff\"]},\"name\":\"\",\"parents\":[\"\",\"\",\"\",\"\",\"\",\"\",\"\",\"\"],\"values\":[10178,11722,10130,2632,599196,4642,2,8331],\"type\":\"treemap\",\"root\":{\"color\":\"white\"}}],                        {\"template\":{\"data\":{\"histogram2dcontour\":[{\"type\":\"histogram2dcontour\",\"colorbar\":{\"outlinewidth\":0,\"ticks\":\"\"},\"colorscale\":[[0.0,\"#0d0887\"],[0.1111111111111111,\"#46039f\"],[0.2222222222222222,\"#7201a8\"],[0.3333333333333333,\"#9c179e\"],[0.4444444444444444,\"#bd3786\"],[0.5555555555555556,\"#d8576b\"],[0.6666666666666666,\"#ed7953\"],[0.7777777777777778,\"#fb9f3a\"],[0.8888888888888888,\"#fdca26\"],[1.0,\"#f0f921\"]]}],\"choropleth\":[{\"type\":\"choropleth\",\"colorbar\":{\"outlinewidth\":0,\"ticks\":\"\"}}],\"histogram2d\":[{\"type\":\"histogram2d\",\"colorbar\":{\"outlinewidth\":0,\"ticks\":\"\"},\"colorscale\":[[0.0,\"#0d0887\"],[0.1111111111111111,\"#46039f\"],[0.2222222222222222,\"#7201a8\"],[0.3333333333333333,\"#9c179e\"],[0.4444444444444444,\"#bd3786\"],[0.5555555555555556,\"#d8576b\"],[0.6666666666666666,\"#ed7953\"],[0.7777777777777778,\"#fb9f3a\"],[0.8888888888888888,\"#fdca26\"],[1.0,\"#f0f921\"]]}],\"heatmap\":[{\"type\":\"heatmap\",\"colorbar\":{\"outlinewidth\":0,\"ticks\":\"\"},\"colorscale\":[[0.0,\"#0d0887\"],[0.1111111111111111,\"#46039f\"],[0.2222222222222222,\"#7201a8\"],[0.3333333333333333,\"#9c179e\"],[0.4444444444444444,\"#bd3786\"],[0.5555555555555556,\"#d8576b\"],[0.6666666666666666,\"#ed7953\"],[0.7777777777777778,\"#fb9f3a\"],[0.8888888888888888,\"#fdca26\"],[1.0,\"#f0f921\"]]}],\"heatmapgl\":[{\"type\":\"heatmapgl\",\"colorbar\":{\"outlinewidth\":0,\"ticks\":\"\"},\"colorscale\":[[0.0,\"#0d0887\"],[0.1111111111111111,\"#46039f\"],[0.2222222222222222,\"#7201a8\"],[0.3333333333333333,\"#9c179e\"],[0.4444444444444444,\"#bd3786\"],[0.5555555555555556,\"#d8576b\"],[0.6666666666666666,\"#ed7953\"],[0.7777777777777778,\"#fb9f3a\"],[0.8888888888888888,\"#fdca26\"],[1.0,\"#f0f921\"]]}],\"contourcarpet\":[{\"type\":\"contourcarpet\",\"colorbar\":{\"outlinewidth\":0,\"ticks\":\"\"}}],\"contour\":[{\"type\":\"contour\",\"colorbar\":{\"outlinewidth\":0,\"ticks\":\"\"},\"colorscale\":[[0.0,\"#0d0887\"],[0.1111111111111111,\"#46039f\"],[0.2222222222222222,\"#7201a8\"],[0.3333333333333333,\"#9c179e\"],[0.4444444444444444,\"#bd3786\"],[0.5555555555555556,\"#d8576b\"],[0.6666666666666666,\"#ed7953\"],[0.7777777777777778,\"#fb9f3a\"],[0.8888888888888888,\"#fdca26\"],[1.0,\"#f0f921\"]]}],\"surface\":[{\"type\":\"surface\",\"colorbar\":{\"outlinewidth\":0,\"ticks\":\"\"},\"colorscale\":[[0.0,\"#0d0887\"],[0.1111111111111111,\"#46039f\"],[0.2222222222222222,\"#7201a8\"],[0.3333333333333333,\"#9c179e\"],[0.4444444444444444,\"#bd3786\"],[0.5555555555555556,\"#d8576b\"],[0.6666666666666666,\"#ed7953\"],[0.7777777777777778,\"#fb9f3a\"],[0.8888888888888888,\"#fdca26\"],[1.0,\"#f0f921\"]]}],\"mesh3d\":[{\"type\":\"mesh3d\",\"colorbar\":{\"outlinewidth\":0,\"ticks\":\"\"}}],\"scatter\":[{\"fillpattern\":{\"fillmode\":\"overlay\",\"size\":10,\"solidity\":0.2},\"type\":\"scatter\"}],\"parcoords\":[{\"type\":\"parcoords\",\"line\":{\"colorbar\":{\"outlinewidth\":0,\"ticks\":\"\"}}}],\"scatterpolargl\":[{\"type\":\"scatterpolargl\",\"marker\":{\"colorbar\":{\"outlinewidth\":0,\"ticks\":\"\"}}}],\"bar\":[{\"error_x\":{\"color\":\"#2a3f5f\"},\"error_y\":{\"color\":\"#2a3f5f\"},\"marker\":{\"line\":{\"color\":\"#E5ECF6\",\"width\":0.5},\"pattern\":{\"fillmode\":\"overlay\",\"size\":10,\"solidity\":0.2}},\"type\":\"bar\"}],\"scattergeo\":[{\"type\":\"scattergeo\",\"marker\":{\"colorbar\":{\"outlinewidth\":0,\"ticks\":\"\"}}}],\"scatterpolar\":[{\"type\":\"scatterpolar\",\"marker\":{\"colorbar\":{\"outlinewidth\":0,\"ticks\":\"\"}}}],\"histogram\":[{\"marker\":{\"pattern\":{\"fillmode\":\"overlay\",\"size\":10,\"solidity\":0.2}},\"type\":\"histogram\"}],\"scattergl\":[{\"type\":\"scattergl\",\"marker\":{\"colorbar\":{\"outlinewidth\":0,\"ticks\":\"\"}}}],\"scatter3d\":[{\"type\":\"scatter3d\",\"line\":{\"colorbar\":{\"outlinewidth\":0,\"ticks\":\"\"}},\"marker\":{\"colorbar\":{\"outlinewidth\":0,\"ticks\":\"\"}}}],\"scattermapbox\":[{\"type\":\"scattermapbox\",\"marker\":{\"colorbar\":{\"outlinewidth\":0,\"ticks\":\"\"}}}],\"scatterternary\":[{\"type\":\"scatterternary\",\"marker\":{\"colorbar\":{\"outlinewidth\":0,\"ticks\":\"\"}}}],\"scattercarpet\":[{\"type\":\"scattercarpet\",\"marker\":{\"colorbar\":{\"outlinewidth\":0,\"ticks\":\"\"}}}],\"carpet\":[{\"aaxis\":{\"endlinecolor\":\"#2a3f5f\",\"gridcolor\":\"white\",\"linecolor\":\"white\",\"minorgridcolor\":\"white\",\"startlinecolor\":\"#2a3f5f\"},\"baxis\":{\"endlinecolor\":\"#2a3f5f\",\"gridcolor\":\"white\",\"linecolor\":\"white\",\"minorgridcolor\":\"white\",\"startlinecolor\":\"#2a3f5f\"},\"type\":\"carpet\"}],\"table\":[{\"cells\":{\"fill\":{\"color\":\"#EBF0F8\"},\"line\":{\"color\":\"white\"}},\"header\":{\"fill\":{\"color\":\"#C8D4E3\"},\"line\":{\"color\":\"white\"}},\"type\":\"table\"}],\"barpolar\":[{\"marker\":{\"line\":{\"color\":\"#E5ECF6\",\"width\":0.5},\"pattern\":{\"fillmode\":\"overlay\",\"size\":10,\"solidity\":0.2}},\"type\":\"barpolar\"}],\"pie\":[{\"automargin\":true,\"type\":\"pie\"}]},\"layout\":{\"autotypenumbers\":\"strict\",\"colorway\":[\"#636efa\",\"#EF553B\",\"#00cc96\",\"#ab63fa\",\"#FFA15A\",\"#19d3f3\",\"#FF6692\",\"#B6E880\",\"#FF97FF\",\"#FECB52\"],\"font\":{\"color\":\"#2a3f5f\"},\"hovermode\":\"closest\",\"hoverlabel\":{\"align\":\"left\"},\"paper_bgcolor\":\"white\",\"plot_bgcolor\":\"#E5ECF6\",\"polar\":{\"bgcolor\":\"#E5ECF6\",\"angularaxis\":{\"gridcolor\":\"white\",\"linecolor\":\"white\",\"ticks\":\"\"},\"radialaxis\":{\"gridcolor\":\"white\",\"linecolor\":\"white\",\"ticks\":\"\"}},\"ternary\":{\"bgcolor\":\"#E5ECF6\",\"aaxis\":{\"gridcolor\":\"white\",\"linecolor\":\"white\",\"ticks\":\"\"},\"baxis\":{\"gridcolor\":\"white\",\"linecolor\":\"white\",\"ticks\":\"\"},\"caxis\":{\"gridcolor\":\"white\",\"linecolor\":\"white\",\"ticks\":\"\"}},\"coloraxis\":{\"colorbar\":{\"outlinewidth\":0,\"ticks\":\"\"}},\"colorscale\":{\"sequential\":[[0.0,\"#0d0887\"],[0.1111111111111111,\"#46039f\"],[0.2222222222222222,\"#7201a8\"],[0.3333333333333333,\"#9c179e\"],[0.4444444444444444,\"#bd3786\"],[0.5555555555555556,\"#d8576b\"],[0.6666666666666666,\"#ed7953\"],[0.7777777777777778,\"#fb9f3a\"],[0.8888888888888888,\"#fdca26\"],[1.0,\"#f0f921\"]],\"sequentialminus\":[[0.0,\"#0d0887\"],[0.1111111111111111,\"#46039f\"],[0.2222222222222222,\"#7201a8\"],[0.3333333333333333,\"#9c179e\"],[0.4444444444444444,\"#bd3786\"],[0.5555555555555556,\"#d8576b\"],[0.6666666666666666,\"#ed7953\"],[0.7777777777777778,\"#fb9f3a\"],[0.8888888888888888,\"#fdca26\"],[1.0,\"#f0f921\"]],\"diverging\":[[0,\"#8e0152\"],[0.1,\"#c51b7d\"],[0.2,\"#de77ae\"],[0.3,\"#f1b6da\"],[0.4,\"#fde0ef\"],[0.5,\"#f7f7f7\"],[0.6,\"#e6f5d0\"],[0.7,\"#b8e186\"],[0.8,\"#7fbc41\"],[0.9,\"#4d9221\"],[1,\"#276419\"]]},\"xaxis\":{\"gridcolor\":\"white\",\"linecolor\":\"white\",\"ticks\":\"\",\"title\":{\"standoff\":15},\"zerolinecolor\":\"white\",\"automargin\":true,\"zerolinewidth\":2},\"yaxis\":{\"gridcolor\":\"white\",\"linecolor\":\"white\",\"ticks\":\"\",\"title\":{\"standoff\":15},\"zerolinecolor\":\"white\",\"automargin\":true,\"zerolinewidth\":2},\"scene\":{\"xaxis\":{\"backgroundcolor\":\"#E5ECF6\",\"gridcolor\":\"white\",\"linecolor\":\"white\",\"showbackground\":true,\"ticks\":\"\",\"zerolinecolor\":\"white\",\"gridwidth\":2},\"yaxis\":{\"backgroundcolor\":\"#E5ECF6\",\"gridcolor\":\"white\",\"linecolor\":\"white\",\"showbackground\":true,\"ticks\":\"\",\"zerolinecolor\":\"white\",\"gridwidth\":2},\"zaxis\":{\"backgroundcolor\":\"#E5ECF6\",\"gridcolor\":\"white\",\"linecolor\":\"white\",\"showbackground\":true,\"ticks\":\"\",\"zerolinecolor\":\"white\",\"gridwidth\":2}},\"shapedefaults\":{\"line\":{\"color\":\"#2a3f5f\"}},\"annotationdefaults\":{\"arrowcolor\":\"#2a3f5f\",\"arrowhead\":0,\"arrowwidth\":1},\"geo\":{\"bgcolor\":\"white\",\"landcolor\":\"#E5ECF6\",\"subunitcolor\":\"white\",\"showland\":true,\"showlakes\":true,\"lakecolor\":\"white\"},\"title\":{\"x\":0.05},\"mapbox\":{\"style\":\"light\"}}},\"legend\":{\"tracegroupgap\":0},\"title\":{\"text\":\"<b>Status of loans in 2016<b>\",\"x\":0.03,\"y\":0.95,\"font\":{\"color\":\"#283747 \"}},\"hoverlabel\":{\"font\":{\"size\":13,\"family\":\"Calibri\"}},\"margin\":{\"t\":50,\"l\":25,\"r\":25,\"b\":25},\"paper_bgcolor\":\"#d6dbdf\",\"annotations\":[{\"font\":{\"size\":8},\"showarrow\":false,\"x\":1.0051,\"y\":-0.045}]},                        {\"responsive\": true}                    ).then(function(){\n",
       "                            \n",
       "var gd = document.getElementById('0b8fb628-6fce-4c8f-a7c1-58369ff1f134');\n",
       "var x = new MutationObserver(function (mutations, observer) {{\n",
       "        var display = window.getComputedStyle(gd).display;\n",
       "        if (!display || display === 'none') {{\n",
       "            console.log([gd, 'removed!']);\n",
       "            Plotly.purge(gd);\n",
       "            observer.disconnect();\n",
       "        }}\n",
       "}});\n",
       "\n",
       "// Listen for the removal of the full notebook cells\n",
       "var notebookContainer = gd.closest('#notebook-container');\n",
       "if (notebookContainer) {{\n",
       "    x.observe(notebookContainer, {childList: true});\n",
       "}}\n",
       "\n",
       "// Listen for the clearing of the current output cell\n",
       "var outputEl = gd.closest('.output');\n",
       "if (outputEl) {{\n",
       "    x.observe(outputEl, {childList: true});\n",
       "}}\n",
       "\n",
       "                        })                };                });            </script>        </div>"
      ]
     },
     "metadata": {},
     "output_type": "display_data"
    }
   ],
   "source": [
    "#define treemap plot\n",
    "funding_status_treemap = px.treemap(\n",
    "    data_frame=df_group_funding_status,\n",
    "    path=['funding_status'],\n",
    "    values='count',\n",
    "    color='funding_status',\n",
    "    color_discrete_map={\n",
    "        'fully funded': 'darkseagreen',\n",
    "        'not funded': 'salmon',\n",
    "        'up to 20% funded': 'peachpuff',\n",
    "        '>20% funded': 'moccasin',\n",
    "        '>40% funded': 'palegoldenrod',\n",
    "        '>60% funded': 'darkkhaki',\n",
    "        '>80% funded': 'olivedrab',\n",
    "        'overfunded': 'darkolivegreen'\n",
    "    },\n",
    "    custom_data=df_group_funding_status[['funding_status', '%status']],\n",
    "    title='Overview of funding status')\n",
    "\n",
    "# set plots background color\n",
    "funding_status_treemap.update_traces(root_color='white')\n",
    "\n",
    "# adjust treemap layout\n",
    "funding_status_treemap.update_layout(title='<b>Status of loans in 2016<b>',\n",
    "                                     title_x=0.03,\n",
    "                                     title_y=0.95,\n",
    "                                     title_font_color='#283747 ',\n",
    "                                     hoverlabel=dict(font_size=13,\n",
    "                                                     font_family=\"Calibri\"),\n",
    "                                     paper_bgcolor=\"#d6dbdf\",\n",
    "                                     margin=dict(t=50, l=25, r=25, b=25))\n",
    "\n",
    "# adjust hover text\n",
    "funding_status_treemap.data[0].hovertemplate = (\n",
    "    '<b>%{customdata[1]}</b> of loans <br>were <b>%{customdata[0]}.</b>'\n",
    "    '<br>' + '<br>')\n",
    "\n",
    "# add annotation\n",
    "funding_status_treemap.add_annotation(x=1.0051,\n",
    "                                      y=-0.045,\n",
    "                                      showarrow=False,\n",
    "                                      font_size=8)\n",
    "\n",
    "#display graph\n",
    "funding_status_treemap.show()"
   ]
  },
  {
   "cell_type": "markdown",
   "id": "0117b959",
   "metadata": {},
   "source": [
    "#### To note\n",
    "The treemap graph shows that overall company's business model in 2016, seems to be healthy as approx. 93% investments published on the website were fully funded. This indicates that the company is successful in their attempt to connect borrowers to the right lenders that are willing to invest their money to support another person or group.\n",
    "\n",
    "Potential areas to look into are differences in project success \n",
    "- by location\n",
    "- by gender\n",
    "- by project category (agriculture vs retail etc.)"
   ]
  },
  {
   "cell_type": "markdown",
   "id": "24198ef9",
   "metadata": {},
   "source": [
    "### Project success rate by location"
   ]
  },
  {
   "cell_type": "markdown",
   "id": "dde154f4",
   "metadata": {},
   "source": [
    "To get a better overview of the projects and the borrowers' locations, the data will be visualized geographically."
   ]
  },
  {
   "cell_type": "code",
   "execution_count": 8,
   "id": "63394667",
   "metadata": {},
   "outputs": [],
   "source": [
    "df_country_funding = df.groupby(by='country', as_index=False).agg(mean_fulfilled=('%funded', 'mean'))\n",
    "\n",
    "# Adjust numbers for label in next visual\n",
    "df_country_funding['mean_fulfilled'] = df_country_funding['mean_fulfilled']*100\n"
   ]
  },
  {
   "cell_type": "code",
   "execution_count": 9,
   "id": "9c2ebf08",
   "metadata": {},
   "outputs": [
    {
     "data": {
      "application/vnd.plotly.v1+json": {
       "config": {
        "plotlyServerURL": "https://plot.ly"
       },
       "data": [
        {
         "coloraxis": "coloraxis",
         "geo": "geo",
         "hovertemplate": "country=%{location}<br>Funding rate [%]=%{z}<extra></extra>",
         "locationmode": "country names",
         "locations": [
          "Afghanistan",
          "Albania",
          "Armenia",
          "Azerbaijan",
          "Belize",
          "Benin",
          "Bhutan",
          "Bolivia",
          "Brazil",
          "Burkina Faso",
          "Burundi",
          "Cambodia",
          "Cameroon",
          "Chile",
          "China",
          "Colombia",
          "Congo",
          "Costa Rica",
          "Cote D'Ivoire",
          "Dominican Republic",
          "Ecuador",
          "Egypt",
          "El Salvador",
          "Georgia",
          "Ghana",
          "Guam",
          "Guatemala",
          "Haiti",
          "Honduras",
          "India",
          "Indonesia",
          "Iraq",
          "Israel",
          "Jordan",
          "Kenya",
          "Kosovo",
          "Kyrgyzstan",
          "Lao People's Democratic Republic",
          "Lebanon",
          "Lesotho",
          "Liberia",
          "Madagascar",
          "Malawi",
          "Mali",
          "Mauritania",
          "Mexico",
          "Moldova",
          "Mongolia",
          "Mozambique",
          "Myanmar (Burma)",
          "Namibia",
          "Nepal",
          "Nicaragua",
          "Nigeria",
          "Pakistan",
          "Palestine",
          "Panama",
          "Paraguay",
          "Peru",
          "Philippines",
          "Puerto Rico",
          "Rwanda",
          "Saint Vincent and the Grenadines",
          "Samoa",
          "Senegal",
          "Sierra Leone",
          "Solomon Islands",
          "Somalia",
          "South Africa",
          "South Sudan",
          "Suriname",
          "Tajikistan",
          "Tanzania",
          "Thailand",
          "The Democratic Republic of the Congo",
          "Timor-Leste",
          "Togo",
          "Turkey",
          "Uganda",
          "Ukraine",
          "United States",
          "Vanuatu",
          "Vietnam",
          "Virgin Islands",
          "Yemen",
          "Zambia",
          "Zimbabwe"
         ],
         "name": "",
         "type": "choropleth",
         "z": [
          100,
          94.45191313340227,
          88.4610035925368,
          93.19258496395469,
          100,
          99.81891348088531,
          80,
          93.09466984884645,
          99.85915492957747,
          98.26688364524003,
          96.98863636363636,
          96.66605091070306,
          95.51258992805755,
          90.99999999999999,
          99.32835820895521,
          90.43622785847639,
          100,
          95.15384615384616,
          100,
          98.18548387096774,
          97.58792105653657,
          97.96482412060301,
          90.84025599196889,
          95.71191365711913,
          98.4606427573358,
          10,
          96.5357778081817,
          98.65543735224587,
          95.9175572519084,
          98.60562482934377,
          94.68186290587077,
          99.34343434343434,
          100,
          96.08894230769232,
          95.71009054572151,
          93.36856941508105,
          95.89245446660884,
          99.84474241354975,
          96.04589483394834,
          100,
          97.82548857693367,
          99.16972236773181,
          98.18481848184818,
          96.35471698113207,
          100,
          97.2165312610385,
          96.78160919540231,
          97.5103734439834,
          94.11883472743006,
          89.56149732620321,
          100,
          100,
          94.98641073551894,
          90.45542126466982,
          95.69745042492919,
          93.3296568627451,
          100,
          98.76526572896488,
          98.70764523241687,
          99.0804351911251,
          78.52941176470588,
          95.70212107137327,
          100,
          94.69257854821235,
          95.75451484542394,
          95.86513523527232,
          96.87725631768954,
          100,
          100,
          100,
          98.56502242152467,
          94.31843746804375,
          97.40889911775987,
          99.52941176470588,
          97.80344939798242,
          96.21923937360178,
          98.03723681921002,
          99.96445497630332,
          94.39259186864739,
          97.35202492211839,
          70.05745239658569,
          100,
          94.3801132787917,
          0,
          97.12926934716818,
          96,
          98.69871633526303
         ]
        }
       ],
       "layout": {
        "coloraxis": {
         "cmax": 100,
         "cmin": 70,
         "colorbar": {
          "title": {
           "text": "Funding rate [%]"
          }
         },
         "colorscale": [
          [
           0,
           "rgb(165,0,38)"
          ],
          [
           0.1,
           "rgb(215,48,39)"
          ],
          [
           0.2,
           "rgb(244,109,67)"
          ],
          [
           0.3,
           "rgb(253,174,97)"
          ],
          [
           0.4,
           "rgb(254,224,139)"
          ],
          [
           0.5,
           "rgb(255,255,191)"
          ],
          [
           0.6,
           "rgb(217,239,139)"
          ],
          [
           0.7,
           "rgb(166,217,106)"
          ],
          [
           0.8,
           "rgb(102,189,99)"
          ],
          [
           0.9,
           "rgb(26,152,80)"
          ],
          [
           1,
           "rgb(0,104,55)"
          ]
         ]
        },
        "geo": {
         "center": {},
         "domain": {
          "x": [
           0,
           1
          ],
          "y": [
           0,
           1
          ]
         }
        },
        "legend": {
         "tracegroupgap": 0
        },
        "template": {
         "data": {
          "bar": [
           {
            "error_x": {
             "color": "#2a3f5f"
            },
            "error_y": {
             "color": "#2a3f5f"
            },
            "marker": {
             "line": {
              "color": "#E5ECF6",
              "width": 0.5
             },
             "pattern": {
              "fillmode": "overlay",
              "size": 10,
              "solidity": 0.2
             }
            },
            "type": "bar"
           }
          ],
          "barpolar": [
           {
            "marker": {
             "line": {
              "color": "#E5ECF6",
              "width": 0.5
             },
             "pattern": {
              "fillmode": "overlay",
              "size": 10,
              "solidity": 0.2
             }
            },
            "type": "barpolar"
           }
          ],
          "carpet": [
           {
            "aaxis": {
             "endlinecolor": "#2a3f5f",
             "gridcolor": "white",
             "linecolor": "white",
             "minorgridcolor": "white",
             "startlinecolor": "#2a3f5f"
            },
            "baxis": {
             "endlinecolor": "#2a3f5f",
             "gridcolor": "white",
             "linecolor": "white",
             "minorgridcolor": "white",
             "startlinecolor": "#2a3f5f"
            },
            "type": "carpet"
           }
          ],
          "choropleth": [
           {
            "colorbar": {
             "outlinewidth": 0,
             "ticks": ""
            },
            "type": "choropleth"
           }
          ],
          "contour": [
           {
            "colorbar": {
             "outlinewidth": 0,
             "ticks": ""
            },
            "colorscale": [
             [
              0,
              "#0d0887"
             ],
             [
              0.1111111111111111,
              "#46039f"
             ],
             [
              0.2222222222222222,
              "#7201a8"
             ],
             [
              0.3333333333333333,
              "#9c179e"
             ],
             [
              0.4444444444444444,
              "#bd3786"
             ],
             [
              0.5555555555555556,
              "#d8576b"
             ],
             [
              0.6666666666666666,
              "#ed7953"
             ],
             [
              0.7777777777777778,
              "#fb9f3a"
             ],
             [
              0.8888888888888888,
              "#fdca26"
             ],
             [
              1,
              "#f0f921"
             ]
            ],
            "type": "contour"
           }
          ],
          "contourcarpet": [
           {
            "colorbar": {
             "outlinewidth": 0,
             "ticks": ""
            },
            "type": "contourcarpet"
           }
          ],
          "heatmap": [
           {
            "colorbar": {
             "outlinewidth": 0,
             "ticks": ""
            },
            "colorscale": [
             [
              0,
              "#0d0887"
             ],
             [
              0.1111111111111111,
              "#46039f"
             ],
             [
              0.2222222222222222,
              "#7201a8"
             ],
             [
              0.3333333333333333,
              "#9c179e"
             ],
             [
              0.4444444444444444,
              "#bd3786"
             ],
             [
              0.5555555555555556,
              "#d8576b"
             ],
             [
              0.6666666666666666,
              "#ed7953"
             ],
             [
              0.7777777777777778,
              "#fb9f3a"
             ],
             [
              0.8888888888888888,
              "#fdca26"
             ],
             [
              1,
              "#f0f921"
             ]
            ],
            "type": "heatmap"
           }
          ],
          "heatmapgl": [
           {
            "colorbar": {
             "outlinewidth": 0,
             "ticks": ""
            },
            "colorscale": [
             [
              0,
              "#0d0887"
             ],
             [
              0.1111111111111111,
              "#46039f"
             ],
             [
              0.2222222222222222,
              "#7201a8"
             ],
             [
              0.3333333333333333,
              "#9c179e"
             ],
             [
              0.4444444444444444,
              "#bd3786"
             ],
             [
              0.5555555555555556,
              "#d8576b"
             ],
             [
              0.6666666666666666,
              "#ed7953"
             ],
             [
              0.7777777777777778,
              "#fb9f3a"
             ],
             [
              0.8888888888888888,
              "#fdca26"
             ],
             [
              1,
              "#f0f921"
             ]
            ],
            "type": "heatmapgl"
           }
          ],
          "histogram": [
           {
            "marker": {
             "pattern": {
              "fillmode": "overlay",
              "size": 10,
              "solidity": 0.2
             }
            },
            "type": "histogram"
           }
          ],
          "histogram2d": [
           {
            "colorbar": {
             "outlinewidth": 0,
             "ticks": ""
            },
            "colorscale": [
             [
              0,
              "#0d0887"
             ],
             [
              0.1111111111111111,
              "#46039f"
             ],
             [
              0.2222222222222222,
              "#7201a8"
             ],
             [
              0.3333333333333333,
              "#9c179e"
             ],
             [
              0.4444444444444444,
              "#bd3786"
             ],
             [
              0.5555555555555556,
              "#d8576b"
             ],
             [
              0.6666666666666666,
              "#ed7953"
             ],
             [
              0.7777777777777778,
              "#fb9f3a"
             ],
             [
              0.8888888888888888,
              "#fdca26"
             ],
             [
              1,
              "#f0f921"
             ]
            ],
            "type": "histogram2d"
           }
          ],
          "histogram2dcontour": [
           {
            "colorbar": {
             "outlinewidth": 0,
             "ticks": ""
            },
            "colorscale": [
             [
              0,
              "#0d0887"
             ],
             [
              0.1111111111111111,
              "#46039f"
             ],
             [
              0.2222222222222222,
              "#7201a8"
             ],
             [
              0.3333333333333333,
              "#9c179e"
             ],
             [
              0.4444444444444444,
              "#bd3786"
             ],
             [
              0.5555555555555556,
              "#d8576b"
             ],
             [
              0.6666666666666666,
              "#ed7953"
             ],
             [
              0.7777777777777778,
              "#fb9f3a"
             ],
             [
              0.8888888888888888,
              "#fdca26"
             ],
             [
              1,
              "#f0f921"
             ]
            ],
            "type": "histogram2dcontour"
           }
          ],
          "mesh3d": [
           {
            "colorbar": {
             "outlinewidth": 0,
             "ticks": ""
            },
            "type": "mesh3d"
           }
          ],
          "parcoords": [
           {
            "line": {
             "colorbar": {
              "outlinewidth": 0,
              "ticks": ""
             }
            },
            "type": "parcoords"
           }
          ],
          "pie": [
           {
            "automargin": true,
            "type": "pie"
           }
          ],
          "scatter": [
           {
            "fillpattern": {
             "fillmode": "overlay",
             "size": 10,
             "solidity": 0.2
            },
            "type": "scatter"
           }
          ],
          "scatter3d": [
           {
            "line": {
             "colorbar": {
              "outlinewidth": 0,
              "ticks": ""
             }
            },
            "marker": {
             "colorbar": {
              "outlinewidth": 0,
              "ticks": ""
             }
            },
            "type": "scatter3d"
           }
          ],
          "scattercarpet": [
           {
            "marker": {
             "colorbar": {
              "outlinewidth": 0,
              "ticks": ""
             }
            },
            "type": "scattercarpet"
           }
          ],
          "scattergeo": [
           {
            "marker": {
             "colorbar": {
              "outlinewidth": 0,
              "ticks": ""
             }
            },
            "type": "scattergeo"
           }
          ],
          "scattergl": [
           {
            "marker": {
             "colorbar": {
              "outlinewidth": 0,
              "ticks": ""
             }
            },
            "type": "scattergl"
           }
          ],
          "scattermapbox": [
           {
            "marker": {
             "colorbar": {
              "outlinewidth": 0,
              "ticks": ""
             }
            },
            "type": "scattermapbox"
           }
          ],
          "scatterpolar": [
           {
            "marker": {
             "colorbar": {
              "outlinewidth": 0,
              "ticks": ""
             }
            },
            "type": "scatterpolar"
           }
          ],
          "scatterpolargl": [
           {
            "marker": {
             "colorbar": {
              "outlinewidth": 0,
              "ticks": ""
             }
            },
            "type": "scatterpolargl"
           }
          ],
          "scatterternary": [
           {
            "marker": {
             "colorbar": {
              "outlinewidth": 0,
              "ticks": ""
             }
            },
            "type": "scatterternary"
           }
          ],
          "surface": [
           {
            "colorbar": {
             "outlinewidth": 0,
             "ticks": ""
            },
            "colorscale": [
             [
              0,
              "#0d0887"
             ],
             [
              0.1111111111111111,
              "#46039f"
             ],
             [
              0.2222222222222222,
              "#7201a8"
             ],
             [
              0.3333333333333333,
              "#9c179e"
             ],
             [
              0.4444444444444444,
              "#bd3786"
             ],
             [
              0.5555555555555556,
              "#d8576b"
             ],
             [
              0.6666666666666666,
              "#ed7953"
             ],
             [
              0.7777777777777778,
              "#fb9f3a"
             ],
             [
              0.8888888888888888,
              "#fdca26"
             ],
             [
              1,
              "#f0f921"
             ]
            ],
            "type": "surface"
           }
          ],
          "table": [
           {
            "cells": {
             "fill": {
              "color": "#EBF0F8"
             },
             "line": {
              "color": "white"
             }
            },
            "header": {
             "fill": {
              "color": "#C8D4E3"
             },
             "line": {
              "color": "white"
             }
            },
            "type": "table"
           }
          ]
         },
         "layout": {
          "annotationdefaults": {
           "arrowcolor": "#2a3f5f",
           "arrowhead": 0,
           "arrowwidth": 1
          },
          "autotypenumbers": "strict",
          "coloraxis": {
           "colorbar": {
            "outlinewidth": 0,
            "ticks": ""
           }
          },
          "colorscale": {
           "diverging": [
            [
             0,
             "#8e0152"
            ],
            [
             0.1,
             "#c51b7d"
            ],
            [
             0.2,
             "#de77ae"
            ],
            [
             0.3,
             "#f1b6da"
            ],
            [
             0.4,
             "#fde0ef"
            ],
            [
             0.5,
             "#f7f7f7"
            ],
            [
             0.6,
             "#e6f5d0"
            ],
            [
             0.7,
             "#b8e186"
            ],
            [
             0.8,
             "#7fbc41"
            ],
            [
             0.9,
             "#4d9221"
            ],
            [
             1,
             "#276419"
            ]
           ],
           "sequential": [
            [
             0,
             "#0d0887"
            ],
            [
             0.1111111111111111,
             "#46039f"
            ],
            [
             0.2222222222222222,
             "#7201a8"
            ],
            [
             0.3333333333333333,
             "#9c179e"
            ],
            [
             0.4444444444444444,
             "#bd3786"
            ],
            [
             0.5555555555555556,
             "#d8576b"
            ],
            [
             0.6666666666666666,
             "#ed7953"
            ],
            [
             0.7777777777777778,
             "#fb9f3a"
            ],
            [
             0.8888888888888888,
             "#fdca26"
            ],
            [
             1,
             "#f0f921"
            ]
           ],
           "sequentialminus": [
            [
             0,
             "#0d0887"
            ],
            [
             0.1111111111111111,
             "#46039f"
            ],
            [
             0.2222222222222222,
             "#7201a8"
            ],
            [
             0.3333333333333333,
             "#9c179e"
            ],
            [
             0.4444444444444444,
             "#bd3786"
            ],
            [
             0.5555555555555556,
             "#d8576b"
            ],
            [
             0.6666666666666666,
             "#ed7953"
            ],
            [
             0.7777777777777778,
             "#fb9f3a"
            ],
            [
             0.8888888888888888,
             "#fdca26"
            ],
            [
             1,
             "#f0f921"
            ]
           ]
          },
          "colorway": [
           "#636efa",
           "#EF553B",
           "#00cc96",
           "#ab63fa",
           "#FFA15A",
           "#19d3f3",
           "#FF6692",
           "#B6E880",
           "#FF97FF",
           "#FECB52"
          ],
          "font": {
           "color": "#2a3f5f"
          },
          "geo": {
           "bgcolor": "white",
           "lakecolor": "white",
           "landcolor": "#E5ECF6",
           "showlakes": true,
           "showland": true,
           "subunitcolor": "white"
          },
          "hoverlabel": {
           "align": "left"
          },
          "hovermode": "closest",
          "mapbox": {
           "style": "light"
          },
          "paper_bgcolor": "white",
          "plot_bgcolor": "#E5ECF6",
          "polar": {
           "angularaxis": {
            "gridcolor": "white",
            "linecolor": "white",
            "ticks": ""
           },
           "bgcolor": "#E5ECF6",
           "radialaxis": {
            "gridcolor": "white",
            "linecolor": "white",
            "ticks": ""
           }
          },
          "scene": {
           "xaxis": {
            "backgroundcolor": "#E5ECF6",
            "gridcolor": "white",
            "gridwidth": 2,
            "linecolor": "white",
            "showbackground": true,
            "ticks": "",
            "zerolinecolor": "white"
           },
           "yaxis": {
            "backgroundcolor": "#E5ECF6",
            "gridcolor": "white",
            "gridwidth": 2,
            "linecolor": "white",
            "showbackground": true,
            "ticks": "",
            "zerolinecolor": "white"
           },
           "zaxis": {
            "backgroundcolor": "#E5ECF6",
            "gridcolor": "white",
            "gridwidth": 2,
            "linecolor": "white",
            "showbackground": true,
            "ticks": "",
            "zerolinecolor": "white"
           }
          },
          "shapedefaults": {
           "line": {
            "color": "#2a3f5f"
           }
          },
          "ternary": {
           "aaxis": {
            "gridcolor": "white",
            "linecolor": "white",
            "ticks": ""
           },
           "baxis": {
            "gridcolor": "white",
            "linecolor": "white",
            "ticks": ""
           },
           "bgcolor": "#E5ECF6",
           "caxis": {
            "gridcolor": "white",
            "linecolor": "white",
            "ticks": ""
           }
          },
          "title": {
           "x": 0.05
          },
          "xaxis": {
           "automargin": true,
           "gridcolor": "white",
           "linecolor": "white",
           "ticks": "",
           "title": {
            "standoff": 15
           },
           "zerolinecolor": "white",
           "zerolinewidth": 2
          },
          "yaxis": {
           "automargin": true,
           "gridcolor": "white",
           "linecolor": "white",
           "ticks": "",
           "title": {
            "standoff": 15
           },
           "zerolinecolor": "white",
           "zerolinewidth": 2
          }
         }
        },
        "title": {
         "text": "Mean of funding rate in % by country"
        },
        "width": 1000
       }
      },
      "text/html": [
       "<div>                            <div id=\"1296ca9b-2dfe-4f0e-902c-bbb900baad74\" class=\"plotly-graph-div\" style=\"height:525px; width:1000px;\"></div>            <script type=\"text/javascript\">                require([\"plotly\"], function(Plotly) {                    window.PLOTLYENV=window.PLOTLYENV || {};                                    if (document.getElementById(\"1296ca9b-2dfe-4f0e-902c-bbb900baad74\")) {                    Plotly.newPlot(                        \"1296ca9b-2dfe-4f0e-902c-bbb900baad74\",                        [{\"coloraxis\":\"coloraxis\",\"geo\":\"geo\",\"hovertemplate\":\"country=%{location}<br>Funding rate [%]=%{z}<extra></extra>\",\"locationmode\":\"country names\",\"locations\":[\"Afghanistan\",\"Albania\",\"Armenia\",\"Azerbaijan\",\"Belize\",\"Benin\",\"Bhutan\",\"Bolivia\",\"Brazil\",\"Burkina Faso\",\"Burundi\",\"Cambodia\",\"Cameroon\",\"Chile\",\"China\",\"Colombia\",\"Congo\",\"Costa Rica\",\"Cote D'Ivoire\",\"Dominican Republic\",\"Ecuador\",\"Egypt\",\"El Salvador\",\"Georgia\",\"Ghana\",\"Guam\",\"Guatemala\",\"Haiti\",\"Honduras\",\"India\",\"Indonesia\",\"Iraq\",\"Israel\",\"Jordan\",\"Kenya\",\"Kosovo\",\"Kyrgyzstan\",\"Lao People's Democratic Republic\",\"Lebanon\",\"Lesotho\",\"Liberia\",\"Madagascar\",\"Malawi\",\"Mali\",\"Mauritania\",\"Mexico\",\"Moldova\",\"Mongolia\",\"Mozambique\",\"Myanmar (Burma)\",\"Namibia\",\"Nepal\",\"Nicaragua\",\"Nigeria\",\"Pakistan\",\"Palestine\",\"Panama\",\"Paraguay\",\"Peru\",\"Philippines\",\"Puerto Rico\",\"Rwanda\",\"Saint Vincent and the Grenadines\",\"Samoa\",\"Senegal\",\"Sierra Leone\",\"Solomon Islands\",\"Somalia\",\"South Africa\",\"South Sudan\",\"Suriname\",\"Tajikistan\",\"Tanzania\",\"Thailand\",\"The Democratic Republic of the Congo\",\"Timor-Leste\",\"Togo\",\"Turkey\",\"Uganda\",\"Ukraine\",\"United States\",\"Vanuatu\",\"Vietnam\",\"Virgin Islands\",\"Yemen\",\"Zambia\",\"Zimbabwe\"],\"name\":\"\",\"z\":[100.0,94.45191313340227,88.4610035925368,93.19258496395469,100.0,99.81891348088531,80.0,93.09466984884645,99.85915492957747,98.26688364524003,96.98863636363636,96.66605091070306,95.51258992805755,90.99999999999999,99.32835820895521,90.43622785847639,100.0,95.15384615384616,100.0,98.18548387096774,97.58792105653657,97.96482412060301,90.84025599196889,95.71191365711913,98.4606427573358,10.0,96.5357778081817,98.65543735224587,95.9175572519084,98.60562482934377,94.68186290587077,99.34343434343434,100.0,96.08894230769232,95.71009054572151,93.36856941508105,95.89245446660884,99.84474241354975,96.04589483394834,100.0,97.82548857693367,99.16972236773181,98.18481848184818,96.35471698113207,100.0,97.2165312610385,96.78160919540231,97.5103734439834,94.11883472743006,89.56149732620321,100.0,100.0,94.98641073551894,90.45542126466982,95.69745042492919,93.3296568627451,100.0,98.76526572896488,98.70764523241687,99.0804351911251,78.52941176470588,95.70212107137327,100.0,94.69257854821235,95.75451484542394,95.86513523527232,96.87725631768954,100.0,100.0,100.0,98.56502242152467,94.31843746804375,97.40889911775987,99.52941176470588,97.80344939798242,96.21923937360178,98.03723681921002,99.96445497630332,94.39259186864739,97.35202492211839,70.05745239658569,100.0,94.3801132787917,0.0,97.12926934716818,96.0,98.69871633526303],\"type\":\"choropleth\"}],                        {\"template\":{\"data\":{\"histogram2dcontour\":[{\"type\":\"histogram2dcontour\",\"colorbar\":{\"outlinewidth\":0,\"ticks\":\"\"},\"colorscale\":[[0.0,\"#0d0887\"],[0.1111111111111111,\"#46039f\"],[0.2222222222222222,\"#7201a8\"],[0.3333333333333333,\"#9c179e\"],[0.4444444444444444,\"#bd3786\"],[0.5555555555555556,\"#d8576b\"],[0.6666666666666666,\"#ed7953\"],[0.7777777777777778,\"#fb9f3a\"],[0.8888888888888888,\"#fdca26\"],[1.0,\"#f0f921\"]]}],\"choropleth\":[{\"type\":\"choropleth\",\"colorbar\":{\"outlinewidth\":0,\"ticks\":\"\"}}],\"histogram2d\":[{\"type\":\"histogram2d\",\"colorbar\":{\"outlinewidth\":0,\"ticks\":\"\"},\"colorscale\":[[0.0,\"#0d0887\"],[0.1111111111111111,\"#46039f\"],[0.2222222222222222,\"#7201a8\"],[0.3333333333333333,\"#9c179e\"],[0.4444444444444444,\"#bd3786\"],[0.5555555555555556,\"#d8576b\"],[0.6666666666666666,\"#ed7953\"],[0.7777777777777778,\"#fb9f3a\"],[0.8888888888888888,\"#fdca26\"],[1.0,\"#f0f921\"]]}],\"heatmap\":[{\"type\":\"heatmap\",\"colorbar\":{\"outlinewidth\":0,\"ticks\":\"\"},\"colorscale\":[[0.0,\"#0d0887\"],[0.1111111111111111,\"#46039f\"],[0.2222222222222222,\"#7201a8\"],[0.3333333333333333,\"#9c179e\"],[0.4444444444444444,\"#bd3786\"],[0.5555555555555556,\"#d8576b\"],[0.6666666666666666,\"#ed7953\"],[0.7777777777777778,\"#fb9f3a\"],[0.8888888888888888,\"#fdca26\"],[1.0,\"#f0f921\"]]}],\"heatmapgl\":[{\"type\":\"heatmapgl\",\"colorbar\":{\"outlinewidth\":0,\"ticks\":\"\"},\"colorscale\":[[0.0,\"#0d0887\"],[0.1111111111111111,\"#46039f\"],[0.2222222222222222,\"#7201a8\"],[0.3333333333333333,\"#9c179e\"],[0.4444444444444444,\"#bd3786\"],[0.5555555555555556,\"#d8576b\"],[0.6666666666666666,\"#ed7953\"],[0.7777777777777778,\"#fb9f3a\"],[0.8888888888888888,\"#fdca26\"],[1.0,\"#f0f921\"]]}],\"contourcarpet\":[{\"type\":\"contourcarpet\",\"colorbar\":{\"outlinewidth\":0,\"ticks\":\"\"}}],\"contour\":[{\"type\":\"contour\",\"colorbar\":{\"outlinewidth\":0,\"ticks\":\"\"},\"colorscale\":[[0.0,\"#0d0887\"],[0.1111111111111111,\"#46039f\"],[0.2222222222222222,\"#7201a8\"],[0.3333333333333333,\"#9c179e\"],[0.4444444444444444,\"#bd3786\"],[0.5555555555555556,\"#d8576b\"],[0.6666666666666666,\"#ed7953\"],[0.7777777777777778,\"#fb9f3a\"],[0.8888888888888888,\"#fdca26\"],[1.0,\"#f0f921\"]]}],\"surface\":[{\"type\":\"surface\",\"colorbar\":{\"outlinewidth\":0,\"ticks\":\"\"},\"colorscale\":[[0.0,\"#0d0887\"],[0.1111111111111111,\"#46039f\"],[0.2222222222222222,\"#7201a8\"],[0.3333333333333333,\"#9c179e\"],[0.4444444444444444,\"#bd3786\"],[0.5555555555555556,\"#d8576b\"],[0.6666666666666666,\"#ed7953\"],[0.7777777777777778,\"#fb9f3a\"],[0.8888888888888888,\"#fdca26\"],[1.0,\"#f0f921\"]]}],\"mesh3d\":[{\"type\":\"mesh3d\",\"colorbar\":{\"outlinewidth\":0,\"ticks\":\"\"}}],\"scatter\":[{\"fillpattern\":{\"fillmode\":\"overlay\",\"size\":10,\"solidity\":0.2},\"type\":\"scatter\"}],\"parcoords\":[{\"type\":\"parcoords\",\"line\":{\"colorbar\":{\"outlinewidth\":0,\"ticks\":\"\"}}}],\"scatterpolargl\":[{\"type\":\"scatterpolargl\",\"marker\":{\"colorbar\":{\"outlinewidth\":0,\"ticks\":\"\"}}}],\"bar\":[{\"error_x\":{\"color\":\"#2a3f5f\"},\"error_y\":{\"color\":\"#2a3f5f\"},\"marker\":{\"line\":{\"color\":\"#E5ECF6\",\"width\":0.5},\"pattern\":{\"fillmode\":\"overlay\",\"size\":10,\"solidity\":0.2}},\"type\":\"bar\"}],\"scattergeo\":[{\"type\":\"scattergeo\",\"marker\":{\"colorbar\":{\"outlinewidth\":0,\"ticks\":\"\"}}}],\"scatterpolar\":[{\"type\":\"scatterpolar\",\"marker\":{\"colorbar\":{\"outlinewidth\":0,\"ticks\":\"\"}}}],\"histogram\":[{\"marker\":{\"pattern\":{\"fillmode\":\"overlay\",\"size\":10,\"solidity\":0.2}},\"type\":\"histogram\"}],\"scattergl\":[{\"type\":\"scattergl\",\"marker\":{\"colorbar\":{\"outlinewidth\":0,\"ticks\":\"\"}}}],\"scatter3d\":[{\"type\":\"scatter3d\",\"line\":{\"colorbar\":{\"outlinewidth\":0,\"ticks\":\"\"}},\"marker\":{\"colorbar\":{\"outlinewidth\":0,\"ticks\":\"\"}}}],\"scattermapbox\":[{\"type\":\"scattermapbox\",\"marker\":{\"colorbar\":{\"outlinewidth\":0,\"ticks\":\"\"}}}],\"scatterternary\":[{\"type\":\"scatterternary\",\"marker\":{\"colorbar\":{\"outlinewidth\":0,\"ticks\":\"\"}}}],\"scattercarpet\":[{\"type\":\"scattercarpet\",\"marker\":{\"colorbar\":{\"outlinewidth\":0,\"ticks\":\"\"}}}],\"carpet\":[{\"aaxis\":{\"endlinecolor\":\"#2a3f5f\",\"gridcolor\":\"white\",\"linecolor\":\"white\",\"minorgridcolor\":\"white\",\"startlinecolor\":\"#2a3f5f\"},\"baxis\":{\"endlinecolor\":\"#2a3f5f\",\"gridcolor\":\"white\",\"linecolor\":\"white\",\"minorgridcolor\":\"white\",\"startlinecolor\":\"#2a3f5f\"},\"type\":\"carpet\"}],\"table\":[{\"cells\":{\"fill\":{\"color\":\"#EBF0F8\"},\"line\":{\"color\":\"white\"}},\"header\":{\"fill\":{\"color\":\"#C8D4E3\"},\"line\":{\"color\":\"white\"}},\"type\":\"table\"}],\"barpolar\":[{\"marker\":{\"line\":{\"color\":\"#E5ECF6\",\"width\":0.5},\"pattern\":{\"fillmode\":\"overlay\",\"size\":10,\"solidity\":0.2}},\"type\":\"barpolar\"}],\"pie\":[{\"automargin\":true,\"type\":\"pie\"}]},\"layout\":{\"autotypenumbers\":\"strict\",\"colorway\":[\"#636efa\",\"#EF553B\",\"#00cc96\",\"#ab63fa\",\"#FFA15A\",\"#19d3f3\",\"#FF6692\",\"#B6E880\",\"#FF97FF\",\"#FECB52\"],\"font\":{\"color\":\"#2a3f5f\"},\"hovermode\":\"closest\",\"hoverlabel\":{\"align\":\"left\"},\"paper_bgcolor\":\"white\",\"plot_bgcolor\":\"#E5ECF6\",\"polar\":{\"bgcolor\":\"#E5ECF6\",\"angularaxis\":{\"gridcolor\":\"white\",\"linecolor\":\"white\",\"ticks\":\"\"},\"radialaxis\":{\"gridcolor\":\"white\",\"linecolor\":\"white\",\"ticks\":\"\"}},\"ternary\":{\"bgcolor\":\"#E5ECF6\",\"aaxis\":{\"gridcolor\":\"white\",\"linecolor\":\"white\",\"ticks\":\"\"},\"baxis\":{\"gridcolor\":\"white\",\"linecolor\":\"white\",\"ticks\":\"\"},\"caxis\":{\"gridcolor\":\"white\",\"linecolor\":\"white\",\"ticks\":\"\"}},\"coloraxis\":{\"colorbar\":{\"outlinewidth\":0,\"ticks\":\"\"}},\"colorscale\":{\"sequential\":[[0.0,\"#0d0887\"],[0.1111111111111111,\"#46039f\"],[0.2222222222222222,\"#7201a8\"],[0.3333333333333333,\"#9c179e\"],[0.4444444444444444,\"#bd3786\"],[0.5555555555555556,\"#d8576b\"],[0.6666666666666666,\"#ed7953\"],[0.7777777777777778,\"#fb9f3a\"],[0.8888888888888888,\"#fdca26\"],[1.0,\"#f0f921\"]],\"sequentialminus\":[[0.0,\"#0d0887\"],[0.1111111111111111,\"#46039f\"],[0.2222222222222222,\"#7201a8\"],[0.3333333333333333,\"#9c179e\"],[0.4444444444444444,\"#bd3786\"],[0.5555555555555556,\"#d8576b\"],[0.6666666666666666,\"#ed7953\"],[0.7777777777777778,\"#fb9f3a\"],[0.8888888888888888,\"#fdca26\"],[1.0,\"#f0f921\"]],\"diverging\":[[0,\"#8e0152\"],[0.1,\"#c51b7d\"],[0.2,\"#de77ae\"],[0.3,\"#f1b6da\"],[0.4,\"#fde0ef\"],[0.5,\"#f7f7f7\"],[0.6,\"#e6f5d0\"],[0.7,\"#b8e186\"],[0.8,\"#7fbc41\"],[0.9,\"#4d9221\"],[1,\"#276419\"]]},\"xaxis\":{\"gridcolor\":\"white\",\"linecolor\":\"white\",\"ticks\":\"\",\"title\":{\"standoff\":15},\"zerolinecolor\":\"white\",\"automargin\":true,\"zerolinewidth\":2},\"yaxis\":{\"gridcolor\":\"white\",\"linecolor\":\"white\",\"ticks\":\"\",\"title\":{\"standoff\":15},\"zerolinecolor\":\"white\",\"automargin\":true,\"zerolinewidth\":2},\"scene\":{\"xaxis\":{\"backgroundcolor\":\"#E5ECF6\",\"gridcolor\":\"white\",\"linecolor\":\"white\",\"showbackground\":true,\"ticks\":\"\",\"zerolinecolor\":\"white\",\"gridwidth\":2},\"yaxis\":{\"backgroundcolor\":\"#E5ECF6\",\"gridcolor\":\"white\",\"linecolor\":\"white\",\"showbackground\":true,\"ticks\":\"\",\"zerolinecolor\":\"white\",\"gridwidth\":2},\"zaxis\":{\"backgroundcolor\":\"#E5ECF6\",\"gridcolor\":\"white\",\"linecolor\":\"white\",\"showbackground\":true,\"ticks\":\"\",\"zerolinecolor\":\"white\",\"gridwidth\":2}},\"shapedefaults\":{\"line\":{\"color\":\"#2a3f5f\"}},\"annotationdefaults\":{\"arrowcolor\":\"#2a3f5f\",\"arrowhead\":0,\"arrowwidth\":1},\"geo\":{\"bgcolor\":\"white\",\"landcolor\":\"#E5ECF6\",\"subunitcolor\":\"white\",\"showland\":true,\"showlakes\":true,\"lakecolor\":\"white\"},\"title\":{\"x\":0.05},\"mapbox\":{\"style\":\"light\"}}},\"geo\":{\"domain\":{\"x\":[0.0,1.0],\"y\":[0.0,1.0]},\"center\":{}},\"coloraxis\":{\"colorbar\":{\"title\":{\"text\":\"Funding rate [%]\"}},\"colorscale\":[[0.0,\"rgb(165,0,38)\"],[0.1,\"rgb(215,48,39)\"],[0.2,\"rgb(244,109,67)\"],[0.3,\"rgb(253,174,97)\"],[0.4,\"rgb(254,224,139)\"],[0.5,\"rgb(255,255,191)\"],[0.6,\"rgb(217,239,139)\"],[0.7,\"rgb(166,217,106)\"],[0.8,\"rgb(102,189,99)\"],[0.9,\"rgb(26,152,80)\"],[1.0,\"rgb(0,104,55)\"]],\"cmin\":70,\"cmax\":100},\"legend\":{\"tracegroupgap\":0},\"title\":{\"text\":\"Mean of funding rate in % by country\"},\"width\":1000},                        {\"responsive\": true}                    ).then(function(){\n",
       "                            \n",
       "var gd = document.getElementById('1296ca9b-2dfe-4f0e-902c-bbb900baad74');\n",
       "var x = new MutationObserver(function (mutations, observer) {{\n",
       "        var display = window.getComputedStyle(gd).display;\n",
       "        if (!display || display === 'none') {{\n",
       "            console.log([gd, 'removed!']);\n",
       "            Plotly.purge(gd);\n",
       "            observer.disconnect();\n",
       "        }}\n",
       "}});\n",
       "\n",
       "// Listen for the removal of the full notebook cells\n",
       "var notebookContainer = gd.closest('#notebook-container');\n",
       "if (notebookContainer) {{\n",
       "    x.observe(notebookContainer, {childList: true});\n",
       "}}\n",
       "\n",
       "// Listen for the clearing of the current output cell\n",
       "var outputEl = gd.closest('.output');\n",
       "if (outputEl) {{\n",
       "    x.observe(outputEl, {childList: true});\n",
       "}}\n",
       "\n",
       "                        })                };                });            </script>        </div>"
      ]
     },
     "metadata": {},
     "output_type": "display_data"
    }
   ],
   "source": [
    "# choropleth-Plot für Darstellung der Erfolgsquoten bei der Finanzierung\n",
    "fig = px.choropleth(df_country_funding, \n",
    "                    locations=\"country\",\n",
    "                    locationmode=\"country names\", \n",
    "                    labels={'mean_fulfilled':'Funding rate [%]'}, \n",
    "                    color=\"mean_fulfilled\",\n",
    "                    color_continuous_scale=\"RdYlGn\",\n",
    "                    title='Mean of funding rate in % by country',\n",
    "                    range_color=(70,100),\n",
    "                    width=1000\n",
    "                    )\n",
    "# Grafik anzeigen\n",
    "fig.show()"
   ]
  },
  {
   "cell_type": "markdown",
   "id": "38d9e785",
   "metadata": {},
   "source": [
    "**To note**\n",
    "\n",
    "- average funding rate in the US (approx. 70%) is significantly lower than in other countries (> 85%)\n",
    "\n",
    "Usually, one should now dive deeper into the potential reasons. However, in this project I will instead focus on  differences in funding rate by borrower type."
   ]
  },
  {
   "cell_type": "markdown",
   "id": "766d1b93",
   "metadata": {},
   "source": [
    "### Who is receiving how much funding? \n",
    "\n",
    "Knowing that most investment requests on the platform receive the entire amount that they applied for, the next graph aims to derive some insights into the type of borrower on the platform. This includes the division of borrowers into categories to better understand what type (based on gender and number of borrower) receives how much funding.\n",
    "\n",
    "The borrower dimension 'borrower gender' was picked as the company mentions that part of their mission is to support female owned businesses and by focusing on this dimension it can be assessed if their claim is also supported by their data. Moreover, lenders on the platform can choose which investment they want to support. If there are differences between the achieved funding amount and/or rate between the sexes, it could indicate that the gender of the borrower influences the success rate of funding for an investment.\n",
    "\n",
    "In the following graph \n",
    "- 'small group' is defined as 2 to 5 individuals\n",
    "- 'large group' is defined as more than 5 individuals.\n",
    "\n",
    "\n",
    "Please note, it is not possible to prove a causal relationship between gender and funding rate nor is it aimed for in the following visualization. Other factors such as country, sector or a factor that is not documented in this dataset might be the real cause of differences in the success rate.  "
   ]
  },
  {
   "cell_type": "code",
   "execution_count": 10,
   "id": "54a5ebfb",
   "metadata": {},
   "outputs": [],
   "source": [
    "# prepare the data\n",
    "\n",
    "df_group_loanamount = df.groupby(by=['borrower_type','borrower_type_general'],as_index=False).agg(sum_funded=('funded_amount','sum'),count_borrower=('borrower_type','count'))"
   ]
  },
  {
   "cell_type": "code",
   "execution_count": 11,
   "id": "12b13595",
   "metadata": {},
   "outputs": [
    {
     "data": {
      "application/vnd.plotly.v1+json": {
       "config": {
        "plotlyServerURL": "https://plot.ly"
       },
       "data": [
        {
         "customdata": [
          [
           417945,
           238899000,
           "female",
           "Individual Female"
          ]
         ],
         "hovertemplate": "Gender=female<br>Type of borrower=Individual Female<br>Total amount funded=%{x}<br># borrowers=%{y}<extra></extra>",
         "legendgroup": "female, Individual Female",
         "marker": {
          "color": "deeppink",
          "size": 8,
          "symbol": "circle"
         },
         "mode": "markers",
         "name": "female, Individual Female",
         "orientation": "v",
         "showlegend": true,
         "type": "scatter",
         "x": [
          238899000
         ],
         "xaxis": "x",
         "y": [
          417945
         ],
         "yaxis": "y"
        },
        {
         "customdata": [
          [
           21134,
           62184150,
           "female",
           "Large female group"
          ]
         ],
         "hovertemplate": "Gender=female<br>Type of borrower=Large female group<br>Total amount funded=%{x}<br># borrowers=%{y}<extra></extra>",
         "legendgroup": "female, Large female group",
         "marker": {
          "color": "deeppink",
          "size": 8,
          "symbol": "square"
         },
         "mode": "markers",
         "name": "female, Large female group",
         "orientation": "v",
         "showlegend": true,
         "type": "scatter",
         "x": [
          62184150
         ],
         "xaxis": "x",
         "y": [
          21134
         ],
         "yaxis": "y"
        },
        {
         "customdata": [
          [
           34865,
           37728575,
           "female",
           "Small female group"
          ]
         ],
         "hovertemplate": "Gender=female<br>Type of borrower=Small female group<br>Total amount funded=%{x}<br># borrowers=%{y}<extra></extra>",
         "legendgroup": "female, Small female group",
         "marker": {
          "color": "deeppink",
          "size": 8,
          "symbol": "diamond"
         },
         "mode": "markers",
         "name": "female, Small female group",
         "orientation": "v",
         "showlegend": true,
         "type": "scatter",
         "x": [
          37728575
         ],
         "xaxis": "x",
         "y": [
          34865
         ],
         "yaxis": "y"
        },
        {
         "customdata": [
          [
           130706,
           105522615,
           "male",
           "Individual Male"
          ]
         ],
         "hovertemplate": "Gender=male<br>Type of borrower=Individual Male<br>Total amount funded=%{x}<br># borrowers=%{y}<extra></extra>",
         "legendgroup": "male, Individual Male",
         "marker": {
          "color": "blue",
          "size": 8,
          "symbol": "circle"
         },
         "mode": "markers",
         "name": "male, Individual Male",
         "orientation": "v",
         "showlegend": true,
         "type": "scatter",
         "x": [
          105522615
         ],
         "xaxis": "x",
         "y": [
          130706
         ],
         "yaxis": "y"
        },
        {
         "customdata": [
          [
           884,
           1838075,
           "male",
           "Large male group"
          ]
         ],
         "hovertemplate": "Gender=male<br>Type of borrower=Large male group<br>Total amount funded=%{x}<br># borrowers=%{y}<extra></extra>",
         "legendgroup": "male, Large male group",
         "marker": {
          "color": "blue",
          "size": 8,
          "symbol": "square"
         },
         "mode": "markers",
         "name": "male, Large male group",
         "orientation": "v",
         "showlegend": true,
         "type": "scatter",
         "x": [
          1838075
         ],
         "xaxis": "x",
         "y": [
          884
         ],
         "yaxis": "y"
        },
        {
         "customdata": [
          [
           2700,
           3105575,
           "male",
           "Small male group"
          ]
         ],
         "hovertemplate": "Gender=male<br>Type of borrower=Small male group<br>Total amount funded=%{x}<br># borrowers=%{y}<extra></extra>",
         "legendgroup": "male, Small male group",
         "marker": {
          "color": "blue",
          "size": 8,
          "symbol": "diamond"
         },
         "mode": "markers",
         "name": "male, Small male group",
         "orientation": "v",
         "showlegend": true,
         "type": "scatter",
         "x": [
          3105575
         ],
         "xaxis": "x",
         "y": [
          2700
         ],
         "yaxis": "y"
        },
        {
         "customdata": [
          [
           24327,
           60074525,
           "female and male",
           "Large mixed group"
          ]
         ],
         "hovertemplate": "Gender=female and male<br>Type of borrower=Large mixed group<br>Total amount funded=%{x}<br># borrowers=%{y}<extra></extra>",
         "legendgroup": "female and male, Large mixed group",
         "marker": {
          "color": "darkorange",
          "size": 8,
          "symbol": "square"
         },
         "mode": "markers",
         "name": "female and male, Large mixed group",
         "orientation": "v",
         "showlegend": true,
         "type": "scatter",
         "x": [
          60074525
         ],
         "xaxis": "x",
         "y": [
          24327
         ],
         "yaxis": "y"
        },
        {
         "customdata": [
          [
           14272,
           13188400,
           "female and male",
           "Small mixed group"
          ]
         ],
         "hovertemplate": "Gender=female and male<br>Type of borrower=Small mixed group<br>Total amount funded=%{x}<br># borrowers=%{y}<extra></extra>",
         "legendgroup": "female and male, Small mixed group",
         "marker": {
          "color": "darkorange",
          "size": 8,
          "symbol": "diamond"
         },
         "mode": "markers",
         "name": "female and male, Small mixed group",
         "orientation": "v",
         "showlegend": true,
         "type": "scatter",
         "x": [
          13188400
         ],
         "xaxis": "x",
         "y": [
          14272
         ],
         "yaxis": "y"
        }
       ],
       "layout": {
        "font": {
         "size": 10
        },
        "hoverlabel": {
         "font": {
          "family": "Calibri",
          "size": 13
         }
        },
        "legend": {
         "title": {
          "text": "Gender, Type of borrower"
         },
         "tracegroupgap": 0
        },
        "margin": {
         "b": 25,
         "l": 25,
         "r": 25,
         "t": 50
        },
        "paper_bgcolor": "#d6dbdf",
        "template": {
         "data": {
          "bar": [
           {
            "error_x": {
             "color": "rgb(36,36,36)"
            },
            "error_y": {
             "color": "rgb(36,36,36)"
            },
            "marker": {
             "line": {
              "color": "white",
              "width": 0.5
             },
             "pattern": {
              "fillmode": "overlay",
              "size": 10,
              "solidity": 0.2
             }
            },
            "type": "bar"
           }
          ],
          "barpolar": [
           {
            "marker": {
             "line": {
              "color": "white",
              "width": 0.5
             },
             "pattern": {
              "fillmode": "overlay",
              "size": 10,
              "solidity": 0.2
             }
            },
            "type": "barpolar"
           }
          ],
          "carpet": [
           {
            "aaxis": {
             "endlinecolor": "rgb(36,36,36)",
             "gridcolor": "white",
             "linecolor": "white",
             "minorgridcolor": "white",
             "startlinecolor": "rgb(36,36,36)"
            },
            "baxis": {
             "endlinecolor": "rgb(36,36,36)",
             "gridcolor": "white",
             "linecolor": "white",
             "minorgridcolor": "white",
             "startlinecolor": "rgb(36,36,36)"
            },
            "type": "carpet"
           }
          ],
          "choropleth": [
           {
            "colorbar": {
             "outlinewidth": 1,
             "tickcolor": "rgb(36,36,36)",
             "ticks": "outside"
            },
            "type": "choropleth"
           }
          ],
          "contour": [
           {
            "colorbar": {
             "outlinewidth": 1,
             "tickcolor": "rgb(36,36,36)",
             "ticks": "outside"
            },
            "colorscale": [
             [
              0,
              "#440154"
             ],
             [
              0.1111111111111111,
              "#482878"
             ],
             [
              0.2222222222222222,
              "#3e4989"
             ],
             [
              0.3333333333333333,
              "#31688e"
             ],
             [
              0.4444444444444444,
              "#26828e"
             ],
             [
              0.5555555555555556,
              "#1f9e89"
             ],
             [
              0.6666666666666666,
              "#35b779"
             ],
             [
              0.7777777777777778,
              "#6ece58"
             ],
             [
              0.8888888888888888,
              "#b5de2b"
             ],
             [
              1,
              "#fde725"
             ]
            ],
            "type": "contour"
           }
          ],
          "contourcarpet": [
           {
            "colorbar": {
             "outlinewidth": 1,
             "tickcolor": "rgb(36,36,36)",
             "ticks": "outside"
            },
            "type": "contourcarpet"
           }
          ],
          "heatmap": [
           {
            "colorbar": {
             "outlinewidth": 1,
             "tickcolor": "rgb(36,36,36)",
             "ticks": "outside"
            },
            "colorscale": [
             [
              0,
              "#440154"
             ],
             [
              0.1111111111111111,
              "#482878"
             ],
             [
              0.2222222222222222,
              "#3e4989"
             ],
             [
              0.3333333333333333,
              "#31688e"
             ],
             [
              0.4444444444444444,
              "#26828e"
             ],
             [
              0.5555555555555556,
              "#1f9e89"
             ],
             [
              0.6666666666666666,
              "#35b779"
             ],
             [
              0.7777777777777778,
              "#6ece58"
             ],
             [
              0.8888888888888888,
              "#b5de2b"
             ],
             [
              1,
              "#fde725"
             ]
            ],
            "type": "heatmap"
           }
          ],
          "heatmapgl": [
           {
            "colorbar": {
             "outlinewidth": 1,
             "tickcolor": "rgb(36,36,36)",
             "ticks": "outside"
            },
            "colorscale": [
             [
              0,
              "#440154"
             ],
             [
              0.1111111111111111,
              "#482878"
             ],
             [
              0.2222222222222222,
              "#3e4989"
             ],
             [
              0.3333333333333333,
              "#31688e"
             ],
             [
              0.4444444444444444,
              "#26828e"
             ],
             [
              0.5555555555555556,
              "#1f9e89"
             ],
             [
              0.6666666666666666,
              "#35b779"
             ],
             [
              0.7777777777777778,
              "#6ece58"
             ],
             [
              0.8888888888888888,
              "#b5de2b"
             ],
             [
              1,
              "#fde725"
             ]
            ],
            "type": "heatmapgl"
           }
          ],
          "histogram": [
           {
            "marker": {
             "line": {
              "color": "white",
              "width": 0.6
             }
            },
            "type": "histogram"
           }
          ],
          "histogram2d": [
           {
            "colorbar": {
             "outlinewidth": 1,
             "tickcolor": "rgb(36,36,36)",
             "ticks": "outside"
            },
            "colorscale": [
             [
              0,
              "#440154"
             ],
             [
              0.1111111111111111,
              "#482878"
             ],
             [
              0.2222222222222222,
              "#3e4989"
             ],
             [
              0.3333333333333333,
              "#31688e"
             ],
             [
              0.4444444444444444,
              "#26828e"
             ],
             [
              0.5555555555555556,
              "#1f9e89"
             ],
             [
              0.6666666666666666,
              "#35b779"
             ],
             [
              0.7777777777777778,
              "#6ece58"
             ],
             [
              0.8888888888888888,
              "#b5de2b"
             ],
             [
              1,
              "#fde725"
             ]
            ],
            "type": "histogram2d"
           }
          ],
          "histogram2dcontour": [
           {
            "colorbar": {
             "outlinewidth": 1,
             "tickcolor": "rgb(36,36,36)",
             "ticks": "outside"
            },
            "colorscale": [
             [
              0,
              "#440154"
             ],
             [
              0.1111111111111111,
              "#482878"
             ],
             [
              0.2222222222222222,
              "#3e4989"
             ],
             [
              0.3333333333333333,
              "#31688e"
             ],
             [
              0.4444444444444444,
              "#26828e"
             ],
             [
              0.5555555555555556,
              "#1f9e89"
             ],
             [
              0.6666666666666666,
              "#35b779"
             ],
             [
              0.7777777777777778,
              "#6ece58"
             ],
             [
              0.8888888888888888,
              "#b5de2b"
             ],
             [
              1,
              "#fde725"
             ]
            ],
            "type": "histogram2dcontour"
           }
          ],
          "mesh3d": [
           {
            "colorbar": {
             "outlinewidth": 1,
             "tickcolor": "rgb(36,36,36)",
             "ticks": "outside"
            },
            "type": "mesh3d"
           }
          ],
          "parcoords": [
           {
            "line": {
             "colorbar": {
              "outlinewidth": 1,
              "tickcolor": "rgb(36,36,36)",
              "ticks": "outside"
             }
            },
            "type": "parcoords"
           }
          ],
          "pie": [
           {
            "automargin": true,
            "type": "pie"
           }
          ],
          "scatter": [
           {
            "fillpattern": {
             "fillmode": "overlay",
             "size": 10,
             "solidity": 0.2
            },
            "type": "scatter"
           }
          ],
          "scatter3d": [
           {
            "line": {
             "colorbar": {
              "outlinewidth": 1,
              "tickcolor": "rgb(36,36,36)",
              "ticks": "outside"
             }
            },
            "marker": {
             "colorbar": {
              "outlinewidth": 1,
              "tickcolor": "rgb(36,36,36)",
              "ticks": "outside"
             }
            },
            "type": "scatter3d"
           }
          ],
          "scattercarpet": [
           {
            "marker": {
             "colorbar": {
              "outlinewidth": 1,
              "tickcolor": "rgb(36,36,36)",
              "ticks": "outside"
             }
            },
            "type": "scattercarpet"
           }
          ],
          "scattergeo": [
           {
            "marker": {
             "colorbar": {
              "outlinewidth": 1,
              "tickcolor": "rgb(36,36,36)",
              "ticks": "outside"
             }
            },
            "type": "scattergeo"
           }
          ],
          "scattergl": [
           {
            "marker": {
             "colorbar": {
              "outlinewidth": 1,
              "tickcolor": "rgb(36,36,36)",
              "ticks": "outside"
             }
            },
            "type": "scattergl"
           }
          ],
          "scattermapbox": [
           {
            "marker": {
             "colorbar": {
              "outlinewidth": 1,
              "tickcolor": "rgb(36,36,36)",
              "ticks": "outside"
             }
            },
            "type": "scattermapbox"
           }
          ],
          "scatterpolar": [
           {
            "marker": {
             "colorbar": {
              "outlinewidth": 1,
              "tickcolor": "rgb(36,36,36)",
              "ticks": "outside"
             }
            },
            "type": "scatterpolar"
           }
          ],
          "scatterpolargl": [
           {
            "marker": {
             "colorbar": {
              "outlinewidth": 1,
              "tickcolor": "rgb(36,36,36)",
              "ticks": "outside"
             }
            },
            "type": "scatterpolargl"
           }
          ],
          "scatterternary": [
           {
            "marker": {
             "colorbar": {
              "outlinewidth": 1,
              "tickcolor": "rgb(36,36,36)",
              "ticks": "outside"
             }
            },
            "type": "scatterternary"
           }
          ],
          "surface": [
           {
            "colorbar": {
             "outlinewidth": 1,
             "tickcolor": "rgb(36,36,36)",
             "ticks": "outside"
            },
            "colorscale": [
             [
              0,
              "#440154"
             ],
             [
              0.1111111111111111,
              "#482878"
             ],
             [
              0.2222222222222222,
              "#3e4989"
             ],
             [
              0.3333333333333333,
              "#31688e"
             ],
             [
              0.4444444444444444,
              "#26828e"
             ],
             [
              0.5555555555555556,
              "#1f9e89"
             ],
             [
              0.6666666666666666,
              "#35b779"
             ],
             [
              0.7777777777777778,
              "#6ece58"
             ],
             [
              0.8888888888888888,
              "#b5de2b"
             ],
             [
              1,
              "#fde725"
             ]
            ],
            "type": "surface"
           }
          ],
          "table": [
           {
            "cells": {
             "fill": {
              "color": "rgb(237,237,237)"
             },
             "line": {
              "color": "white"
             }
            },
            "header": {
             "fill": {
              "color": "rgb(217,217,217)"
             },
             "line": {
              "color": "white"
             }
            },
            "type": "table"
           }
          ]
         },
         "layout": {
          "annotationdefaults": {
           "arrowhead": 0,
           "arrowwidth": 1
          },
          "autotypenumbers": "strict",
          "coloraxis": {
           "colorbar": {
            "outlinewidth": 1,
            "tickcolor": "rgb(36,36,36)",
            "ticks": "outside"
           }
          },
          "colorscale": {
           "diverging": [
            [
             0,
             "rgb(103,0,31)"
            ],
            [
             0.1,
             "rgb(178,24,43)"
            ],
            [
             0.2,
             "rgb(214,96,77)"
            ],
            [
             0.3,
             "rgb(244,165,130)"
            ],
            [
             0.4,
             "rgb(253,219,199)"
            ],
            [
             0.5,
             "rgb(247,247,247)"
            ],
            [
             0.6,
             "rgb(209,229,240)"
            ],
            [
             0.7,
             "rgb(146,197,222)"
            ],
            [
             0.8,
             "rgb(67,147,195)"
            ],
            [
             0.9,
             "rgb(33,102,172)"
            ],
            [
             1,
             "rgb(5,48,97)"
            ]
           ],
           "sequential": [
            [
             0,
             "#440154"
            ],
            [
             0.1111111111111111,
             "#482878"
            ],
            [
             0.2222222222222222,
             "#3e4989"
            ],
            [
             0.3333333333333333,
             "#31688e"
            ],
            [
             0.4444444444444444,
             "#26828e"
            ],
            [
             0.5555555555555556,
             "#1f9e89"
            ],
            [
             0.6666666666666666,
             "#35b779"
            ],
            [
             0.7777777777777778,
             "#6ece58"
            ],
            [
             0.8888888888888888,
             "#b5de2b"
            ],
            [
             1,
             "#fde725"
            ]
           ],
           "sequentialminus": [
            [
             0,
             "#440154"
            ],
            [
             0.1111111111111111,
             "#482878"
            ],
            [
             0.2222222222222222,
             "#3e4989"
            ],
            [
             0.3333333333333333,
             "#31688e"
            ],
            [
             0.4444444444444444,
             "#26828e"
            ],
            [
             0.5555555555555556,
             "#1f9e89"
            ],
            [
             0.6666666666666666,
             "#35b779"
            ],
            [
             0.7777777777777778,
             "#6ece58"
            ],
            [
             0.8888888888888888,
             "#b5de2b"
            ],
            [
             1,
             "#fde725"
            ]
           ]
          },
          "colorway": [
           "#1F77B4",
           "#FF7F0E",
           "#2CA02C",
           "#D62728",
           "#9467BD",
           "#8C564B",
           "#E377C2",
           "#7F7F7F",
           "#BCBD22",
           "#17BECF"
          ],
          "font": {
           "color": "rgb(36,36,36)"
          },
          "geo": {
           "bgcolor": "white",
           "lakecolor": "white",
           "landcolor": "white",
           "showlakes": true,
           "showland": true,
           "subunitcolor": "white"
          },
          "hoverlabel": {
           "align": "left"
          },
          "hovermode": "closest",
          "mapbox": {
           "style": "light"
          },
          "paper_bgcolor": "white",
          "plot_bgcolor": "white",
          "polar": {
           "angularaxis": {
            "gridcolor": "rgb(232,232,232)",
            "linecolor": "rgb(36,36,36)",
            "showgrid": false,
            "showline": true,
            "ticks": "outside"
           },
           "bgcolor": "white",
           "radialaxis": {
            "gridcolor": "rgb(232,232,232)",
            "linecolor": "rgb(36,36,36)",
            "showgrid": false,
            "showline": true,
            "ticks": "outside"
           }
          },
          "scene": {
           "xaxis": {
            "backgroundcolor": "white",
            "gridcolor": "rgb(232,232,232)",
            "gridwidth": 2,
            "linecolor": "rgb(36,36,36)",
            "showbackground": true,
            "showgrid": false,
            "showline": true,
            "ticks": "outside",
            "zeroline": false,
            "zerolinecolor": "rgb(36,36,36)"
           },
           "yaxis": {
            "backgroundcolor": "white",
            "gridcolor": "rgb(232,232,232)",
            "gridwidth": 2,
            "linecolor": "rgb(36,36,36)",
            "showbackground": true,
            "showgrid": false,
            "showline": true,
            "ticks": "outside",
            "zeroline": false,
            "zerolinecolor": "rgb(36,36,36)"
           },
           "zaxis": {
            "backgroundcolor": "white",
            "gridcolor": "rgb(232,232,232)",
            "gridwidth": 2,
            "linecolor": "rgb(36,36,36)",
            "showbackground": true,
            "showgrid": false,
            "showline": true,
            "ticks": "outside",
            "zeroline": false,
            "zerolinecolor": "rgb(36,36,36)"
           }
          },
          "shapedefaults": {
           "fillcolor": "black",
           "line": {
            "width": 0
           },
           "opacity": 0.3
          },
          "ternary": {
           "aaxis": {
            "gridcolor": "rgb(232,232,232)",
            "linecolor": "rgb(36,36,36)",
            "showgrid": false,
            "showline": true,
            "ticks": "outside"
           },
           "baxis": {
            "gridcolor": "rgb(232,232,232)",
            "linecolor": "rgb(36,36,36)",
            "showgrid": false,
            "showline": true,
            "ticks": "outside"
           },
           "bgcolor": "white",
           "caxis": {
            "gridcolor": "rgb(232,232,232)",
            "linecolor": "rgb(36,36,36)",
            "showgrid": false,
            "showline": true,
            "ticks": "outside"
           }
          },
          "title": {
           "x": 0.05
          },
          "xaxis": {
           "automargin": true,
           "gridcolor": "rgb(232,232,232)",
           "linecolor": "rgb(36,36,36)",
           "showgrid": false,
           "showline": true,
           "ticks": "outside",
           "title": {
            "standoff": 15
           },
           "zeroline": false,
           "zerolinecolor": "rgb(36,36,36)"
          },
          "yaxis": {
           "automargin": true,
           "gridcolor": "rgb(232,232,232)",
           "linecolor": "rgb(36,36,36)",
           "showgrid": false,
           "showline": true,
           "ticks": "outside",
           "title": {
            "standoff": 15
           },
           "zeroline": false,
           "zerolinecolor": "rgb(36,36,36)"
          }
         }
        },
        "title": {
         "font": {
          "color": "#283747 "
         },
         "text": "<b>Number of loans and funding amount per borrower type in 2016<b>",
         "x": 0.06,
         "y": 0.95
        },
        "xaxis": {
         "anchor": "y",
         "domain": [
          0,
          1
         ],
         "title": {
          "text": "Total funding in USD"
         }
        },
        "yaxis": {
         "anchor": "x",
         "domain": [
          0,
          1
         ],
         "title": {
          "text": "# of borrowers"
         }
        }
       }
      },
      "text/html": [
       "<div>                            <div id=\"350b2c36-4d7e-4821-9c6b-a44ae838f626\" class=\"plotly-graph-div\" style=\"height:525px; width:100%;\"></div>            <script type=\"text/javascript\">                require([\"plotly\"], function(Plotly) {                    window.PLOTLYENV=window.PLOTLYENV || {};                                    if (document.getElementById(\"350b2c36-4d7e-4821-9c6b-a44ae838f626\")) {                    Plotly.newPlot(                        \"350b2c36-4d7e-4821-9c6b-a44ae838f626\",                        [{\"customdata\":[[417945,238899000.0,\"female\",\"Individual Female\"]],\"hovertemplate\":\"Gender=female<br>Type of borrower=Individual Female<br>Total amount funded=%{x}<br># borrowers=%{y}<extra></extra>\",\"legendgroup\":\"female, Individual Female\",\"marker\":{\"color\":\"deeppink\",\"symbol\":\"circle\",\"size\":8},\"mode\":\"markers\",\"name\":\"female, Individual Female\",\"orientation\":\"v\",\"showlegend\":true,\"x\":[238899000.0],\"xaxis\":\"x\",\"y\":[417945],\"yaxis\":\"y\",\"type\":\"scatter\"},{\"customdata\":[[21134,62184150.0,\"female\",\"Large female group\"]],\"hovertemplate\":\"Gender=female<br>Type of borrower=Large female group<br>Total amount funded=%{x}<br># borrowers=%{y}<extra></extra>\",\"legendgroup\":\"female, Large female group\",\"marker\":{\"color\":\"deeppink\",\"symbol\":\"square\",\"size\":8},\"mode\":\"markers\",\"name\":\"female, Large female group\",\"orientation\":\"v\",\"showlegend\":true,\"x\":[62184150.0],\"xaxis\":\"x\",\"y\":[21134],\"yaxis\":\"y\",\"type\":\"scatter\"},{\"customdata\":[[34865,37728575.0,\"female\",\"Small female group\"]],\"hovertemplate\":\"Gender=female<br>Type of borrower=Small female group<br>Total amount funded=%{x}<br># borrowers=%{y}<extra></extra>\",\"legendgroup\":\"female, Small female group\",\"marker\":{\"color\":\"deeppink\",\"symbol\":\"diamond\",\"size\":8},\"mode\":\"markers\",\"name\":\"female, Small female group\",\"orientation\":\"v\",\"showlegend\":true,\"x\":[37728575.0],\"xaxis\":\"x\",\"y\":[34865],\"yaxis\":\"y\",\"type\":\"scatter\"},{\"customdata\":[[130706,105522615.0,\"male\",\"Individual Male\"]],\"hovertemplate\":\"Gender=male<br>Type of borrower=Individual Male<br>Total amount funded=%{x}<br># borrowers=%{y}<extra></extra>\",\"legendgroup\":\"male, Individual Male\",\"marker\":{\"color\":\"blue\",\"symbol\":\"circle\",\"size\":8},\"mode\":\"markers\",\"name\":\"male, Individual Male\",\"orientation\":\"v\",\"showlegend\":true,\"x\":[105522615.0],\"xaxis\":\"x\",\"y\":[130706],\"yaxis\":\"y\",\"type\":\"scatter\"},{\"customdata\":[[884,1838075.0,\"male\",\"Large male group\"]],\"hovertemplate\":\"Gender=male<br>Type of borrower=Large male group<br>Total amount funded=%{x}<br># borrowers=%{y}<extra></extra>\",\"legendgroup\":\"male, Large male group\",\"marker\":{\"color\":\"blue\",\"symbol\":\"square\",\"size\":8},\"mode\":\"markers\",\"name\":\"male, Large male group\",\"orientation\":\"v\",\"showlegend\":true,\"x\":[1838075.0],\"xaxis\":\"x\",\"y\":[884],\"yaxis\":\"y\",\"type\":\"scatter\"},{\"customdata\":[[2700,3105575.0,\"male\",\"Small male group\"]],\"hovertemplate\":\"Gender=male<br>Type of borrower=Small male group<br>Total amount funded=%{x}<br># borrowers=%{y}<extra></extra>\",\"legendgroup\":\"male, Small male group\",\"marker\":{\"color\":\"blue\",\"symbol\":\"diamond\",\"size\":8},\"mode\":\"markers\",\"name\":\"male, Small male group\",\"orientation\":\"v\",\"showlegend\":true,\"x\":[3105575.0],\"xaxis\":\"x\",\"y\":[2700],\"yaxis\":\"y\",\"type\":\"scatter\"},{\"customdata\":[[24327,60074525.0,\"female and male\",\"Large mixed group\"]],\"hovertemplate\":\"Gender=female and male<br>Type of borrower=Large mixed group<br>Total amount funded=%{x}<br># borrowers=%{y}<extra></extra>\",\"legendgroup\":\"female and male, Large mixed group\",\"marker\":{\"color\":\"darkorange\",\"symbol\":\"square\",\"size\":8},\"mode\":\"markers\",\"name\":\"female and male, Large mixed group\",\"orientation\":\"v\",\"showlegend\":true,\"x\":[60074525.0],\"xaxis\":\"x\",\"y\":[24327],\"yaxis\":\"y\",\"type\":\"scatter\"},{\"customdata\":[[14272,13188400.0,\"female and male\",\"Small mixed group\"]],\"hovertemplate\":\"Gender=female and male<br>Type of borrower=Small mixed group<br>Total amount funded=%{x}<br># borrowers=%{y}<extra></extra>\",\"legendgroup\":\"female and male, Small mixed group\",\"marker\":{\"color\":\"darkorange\",\"symbol\":\"diamond\",\"size\":8},\"mode\":\"markers\",\"name\":\"female and male, Small mixed group\",\"orientation\":\"v\",\"showlegend\":true,\"x\":[13188400.0],\"xaxis\":\"x\",\"y\":[14272],\"yaxis\":\"y\",\"type\":\"scatter\"}],                        {\"template\":{\"data\":{\"barpolar\":[{\"marker\":{\"line\":{\"color\":\"white\",\"width\":0.5},\"pattern\":{\"fillmode\":\"overlay\",\"size\":10,\"solidity\":0.2}},\"type\":\"barpolar\"}],\"bar\":[{\"error_x\":{\"color\":\"rgb(36,36,36)\"},\"error_y\":{\"color\":\"rgb(36,36,36)\"},\"marker\":{\"line\":{\"color\":\"white\",\"width\":0.5},\"pattern\":{\"fillmode\":\"overlay\",\"size\":10,\"solidity\":0.2}},\"type\":\"bar\"}],\"carpet\":[{\"aaxis\":{\"endlinecolor\":\"rgb(36,36,36)\",\"gridcolor\":\"white\",\"linecolor\":\"white\",\"minorgridcolor\":\"white\",\"startlinecolor\":\"rgb(36,36,36)\"},\"baxis\":{\"endlinecolor\":\"rgb(36,36,36)\",\"gridcolor\":\"white\",\"linecolor\":\"white\",\"minorgridcolor\":\"white\",\"startlinecolor\":\"rgb(36,36,36)\"},\"type\":\"carpet\"}],\"choropleth\":[{\"colorbar\":{\"outlinewidth\":1,\"tickcolor\":\"rgb(36,36,36)\",\"ticks\":\"outside\"},\"type\":\"choropleth\"}],\"contourcarpet\":[{\"colorbar\":{\"outlinewidth\":1,\"tickcolor\":\"rgb(36,36,36)\",\"ticks\":\"outside\"},\"type\":\"contourcarpet\"}],\"contour\":[{\"colorbar\":{\"outlinewidth\":1,\"tickcolor\":\"rgb(36,36,36)\",\"ticks\":\"outside\"},\"colorscale\":[[0.0,\"#440154\"],[0.1111111111111111,\"#482878\"],[0.2222222222222222,\"#3e4989\"],[0.3333333333333333,\"#31688e\"],[0.4444444444444444,\"#26828e\"],[0.5555555555555556,\"#1f9e89\"],[0.6666666666666666,\"#35b779\"],[0.7777777777777778,\"#6ece58\"],[0.8888888888888888,\"#b5de2b\"],[1.0,\"#fde725\"]],\"type\":\"contour\"}],\"heatmapgl\":[{\"colorbar\":{\"outlinewidth\":1,\"tickcolor\":\"rgb(36,36,36)\",\"ticks\":\"outside\"},\"colorscale\":[[0.0,\"#440154\"],[0.1111111111111111,\"#482878\"],[0.2222222222222222,\"#3e4989\"],[0.3333333333333333,\"#31688e\"],[0.4444444444444444,\"#26828e\"],[0.5555555555555556,\"#1f9e89\"],[0.6666666666666666,\"#35b779\"],[0.7777777777777778,\"#6ece58\"],[0.8888888888888888,\"#b5de2b\"],[1.0,\"#fde725\"]],\"type\":\"heatmapgl\"}],\"heatmap\":[{\"colorbar\":{\"outlinewidth\":1,\"tickcolor\":\"rgb(36,36,36)\",\"ticks\":\"outside\"},\"colorscale\":[[0.0,\"#440154\"],[0.1111111111111111,\"#482878\"],[0.2222222222222222,\"#3e4989\"],[0.3333333333333333,\"#31688e\"],[0.4444444444444444,\"#26828e\"],[0.5555555555555556,\"#1f9e89\"],[0.6666666666666666,\"#35b779\"],[0.7777777777777778,\"#6ece58\"],[0.8888888888888888,\"#b5de2b\"],[1.0,\"#fde725\"]],\"type\":\"heatmap\"}],\"histogram2dcontour\":[{\"colorbar\":{\"outlinewidth\":1,\"tickcolor\":\"rgb(36,36,36)\",\"ticks\":\"outside\"},\"colorscale\":[[0.0,\"#440154\"],[0.1111111111111111,\"#482878\"],[0.2222222222222222,\"#3e4989\"],[0.3333333333333333,\"#31688e\"],[0.4444444444444444,\"#26828e\"],[0.5555555555555556,\"#1f9e89\"],[0.6666666666666666,\"#35b779\"],[0.7777777777777778,\"#6ece58\"],[0.8888888888888888,\"#b5de2b\"],[1.0,\"#fde725\"]],\"type\":\"histogram2dcontour\"}],\"histogram2d\":[{\"colorbar\":{\"outlinewidth\":1,\"tickcolor\":\"rgb(36,36,36)\",\"ticks\":\"outside\"},\"colorscale\":[[0.0,\"#440154\"],[0.1111111111111111,\"#482878\"],[0.2222222222222222,\"#3e4989\"],[0.3333333333333333,\"#31688e\"],[0.4444444444444444,\"#26828e\"],[0.5555555555555556,\"#1f9e89\"],[0.6666666666666666,\"#35b779\"],[0.7777777777777778,\"#6ece58\"],[0.8888888888888888,\"#b5de2b\"],[1.0,\"#fde725\"]],\"type\":\"histogram2d\"}],\"histogram\":[{\"marker\":{\"line\":{\"color\":\"white\",\"width\":0.6}},\"type\":\"histogram\"}],\"mesh3d\":[{\"colorbar\":{\"outlinewidth\":1,\"tickcolor\":\"rgb(36,36,36)\",\"ticks\":\"outside\"},\"type\":\"mesh3d\"}],\"parcoords\":[{\"line\":{\"colorbar\":{\"outlinewidth\":1,\"tickcolor\":\"rgb(36,36,36)\",\"ticks\":\"outside\"}},\"type\":\"parcoords\"}],\"pie\":[{\"automargin\":true,\"type\":\"pie\"}],\"scatter3d\":[{\"line\":{\"colorbar\":{\"outlinewidth\":1,\"tickcolor\":\"rgb(36,36,36)\",\"ticks\":\"outside\"}},\"marker\":{\"colorbar\":{\"outlinewidth\":1,\"tickcolor\":\"rgb(36,36,36)\",\"ticks\":\"outside\"}},\"type\":\"scatter3d\"}],\"scattercarpet\":[{\"marker\":{\"colorbar\":{\"outlinewidth\":1,\"tickcolor\":\"rgb(36,36,36)\",\"ticks\":\"outside\"}},\"type\":\"scattercarpet\"}],\"scattergeo\":[{\"marker\":{\"colorbar\":{\"outlinewidth\":1,\"tickcolor\":\"rgb(36,36,36)\",\"ticks\":\"outside\"}},\"type\":\"scattergeo\"}],\"scattergl\":[{\"marker\":{\"colorbar\":{\"outlinewidth\":1,\"tickcolor\":\"rgb(36,36,36)\",\"ticks\":\"outside\"}},\"type\":\"scattergl\"}],\"scattermapbox\":[{\"marker\":{\"colorbar\":{\"outlinewidth\":1,\"tickcolor\":\"rgb(36,36,36)\",\"ticks\":\"outside\"}},\"type\":\"scattermapbox\"}],\"scatterpolargl\":[{\"marker\":{\"colorbar\":{\"outlinewidth\":1,\"tickcolor\":\"rgb(36,36,36)\",\"ticks\":\"outside\"}},\"type\":\"scatterpolargl\"}],\"scatterpolar\":[{\"marker\":{\"colorbar\":{\"outlinewidth\":1,\"tickcolor\":\"rgb(36,36,36)\",\"ticks\":\"outside\"}},\"type\":\"scatterpolar\"}],\"scatter\":[{\"fillpattern\":{\"fillmode\":\"overlay\",\"size\":10,\"solidity\":0.2},\"type\":\"scatter\"}],\"scatterternary\":[{\"marker\":{\"colorbar\":{\"outlinewidth\":1,\"tickcolor\":\"rgb(36,36,36)\",\"ticks\":\"outside\"}},\"type\":\"scatterternary\"}],\"surface\":[{\"colorbar\":{\"outlinewidth\":1,\"tickcolor\":\"rgb(36,36,36)\",\"ticks\":\"outside\"},\"colorscale\":[[0.0,\"#440154\"],[0.1111111111111111,\"#482878\"],[0.2222222222222222,\"#3e4989\"],[0.3333333333333333,\"#31688e\"],[0.4444444444444444,\"#26828e\"],[0.5555555555555556,\"#1f9e89\"],[0.6666666666666666,\"#35b779\"],[0.7777777777777778,\"#6ece58\"],[0.8888888888888888,\"#b5de2b\"],[1.0,\"#fde725\"]],\"type\":\"surface\"}],\"table\":[{\"cells\":{\"fill\":{\"color\":\"rgb(237,237,237)\"},\"line\":{\"color\":\"white\"}},\"header\":{\"fill\":{\"color\":\"rgb(217,217,217)\"},\"line\":{\"color\":\"white\"}},\"type\":\"table\"}]},\"layout\":{\"annotationdefaults\":{\"arrowhead\":0,\"arrowwidth\":1},\"autotypenumbers\":\"strict\",\"coloraxis\":{\"colorbar\":{\"outlinewidth\":1,\"tickcolor\":\"rgb(36,36,36)\",\"ticks\":\"outside\"}},\"colorscale\":{\"diverging\":[[0.0,\"rgb(103,0,31)\"],[0.1,\"rgb(178,24,43)\"],[0.2,\"rgb(214,96,77)\"],[0.3,\"rgb(244,165,130)\"],[0.4,\"rgb(253,219,199)\"],[0.5,\"rgb(247,247,247)\"],[0.6,\"rgb(209,229,240)\"],[0.7,\"rgb(146,197,222)\"],[0.8,\"rgb(67,147,195)\"],[0.9,\"rgb(33,102,172)\"],[1.0,\"rgb(5,48,97)\"]],\"sequential\":[[0.0,\"#440154\"],[0.1111111111111111,\"#482878\"],[0.2222222222222222,\"#3e4989\"],[0.3333333333333333,\"#31688e\"],[0.4444444444444444,\"#26828e\"],[0.5555555555555556,\"#1f9e89\"],[0.6666666666666666,\"#35b779\"],[0.7777777777777778,\"#6ece58\"],[0.8888888888888888,\"#b5de2b\"],[1.0,\"#fde725\"]],\"sequentialminus\":[[0.0,\"#440154\"],[0.1111111111111111,\"#482878\"],[0.2222222222222222,\"#3e4989\"],[0.3333333333333333,\"#31688e\"],[0.4444444444444444,\"#26828e\"],[0.5555555555555556,\"#1f9e89\"],[0.6666666666666666,\"#35b779\"],[0.7777777777777778,\"#6ece58\"],[0.8888888888888888,\"#b5de2b\"],[1.0,\"#fde725\"]]},\"colorway\":[\"#1F77B4\",\"#FF7F0E\",\"#2CA02C\",\"#D62728\",\"#9467BD\",\"#8C564B\",\"#E377C2\",\"#7F7F7F\",\"#BCBD22\",\"#17BECF\"],\"font\":{\"color\":\"rgb(36,36,36)\"},\"geo\":{\"bgcolor\":\"white\",\"lakecolor\":\"white\",\"landcolor\":\"white\",\"showlakes\":true,\"showland\":true,\"subunitcolor\":\"white\"},\"hoverlabel\":{\"align\":\"left\"},\"hovermode\":\"closest\",\"mapbox\":{\"style\":\"light\"},\"paper_bgcolor\":\"white\",\"plot_bgcolor\":\"white\",\"polar\":{\"angularaxis\":{\"gridcolor\":\"rgb(232,232,232)\",\"linecolor\":\"rgb(36,36,36)\",\"showgrid\":false,\"showline\":true,\"ticks\":\"outside\"},\"bgcolor\":\"white\",\"radialaxis\":{\"gridcolor\":\"rgb(232,232,232)\",\"linecolor\":\"rgb(36,36,36)\",\"showgrid\":false,\"showline\":true,\"ticks\":\"outside\"}},\"scene\":{\"xaxis\":{\"backgroundcolor\":\"white\",\"gridcolor\":\"rgb(232,232,232)\",\"gridwidth\":2,\"linecolor\":\"rgb(36,36,36)\",\"showbackground\":true,\"showgrid\":false,\"showline\":true,\"ticks\":\"outside\",\"zeroline\":false,\"zerolinecolor\":\"rgb(36,36,36)\"},\"yaxis\":{\"backgroundcolor\":\"white\",\"gridcolor\":\"rgb(232,232,232)\",\"gridwidth\":2,\"linecolor\":\"rgb(36,36,36)\",\"showbackground\":true,\"showgrid\":false,\"showline\":true,\"ticks\":\"outside\",\"zeroline\":false,\"zerolinecolor\":\"rgb(36,36,36)\"},\"zaxis\":{\"backgroundcolor\":\"white\",\"gridcolor\":\"rgb(232,232,232)\",\"gridwidth\":2,\"linecolor\":\"rgb(36,36,36)\",\"showbackground\":true,\"showgrid\":false,\"showline\":true,\"ticks\":\"outside\",\"zeroline\":false,\"zerolinecolor\":\"rgb(36,36,36)\"}},\"shapedefaults\":{\"fillcolor\":\"black\",\"line\":{\"width\":0},\"opacity\":0.3},\"ternary\":{\"aaxis\":{\"gridcolor\":\"rgb(232,232,232)\",\"linecolor\":\"rgb(36,36,36)\",\"showgrid\":false,\"showline\":true,\"ticks\":\"outside\"},\"baxis\":{\"gridcolor\":\"rgb(232,232,232)\",\"linecolor\":\"rgb(36,36,36)\",\"showgrid\":false,\"showline\":true,\"ticks\":\"outside\"},\"bgcolor\":\"white\",\"caxis\":{\"gridcolor\":\"rgb(232,232,232)\",\"linecolor\":\"rgb(36,36,36)\",\"showgrid\":false,\"showline\":true,\"ticks\":\"outside\"}},\"title\":{\"x\":0.05},\"xaxis\":{\"automargin\":true,\"gridcolor\":\"rgb(232,232,232)\",\"linecolor\":\"rgb(36,36,36)\",\"showgrid\":false,\"showline\":true,\"ticks\":\"outside\",\"title\":{\"standoff\":15},\"zeroline\":false,\"zerolinecolor\":\"rgb(36,36,36)\"},\"yaxis\":{\"automargin\":true,\"gridcolor\":\"rgb(232,232,232)\",\"linecolor\":\"rgb(36,36,36)\",\"showgrid\":false,\"showline\":true,\"ticks\":\"outside\",\"title\":{\"standoff\":15},\"zeroline\":false,\"zerolinecolor\":\"rgb(36,36,36)\"}}},\"xaxis\":{\"anchor\":\"y\",\"domain\":[0.0,1.0],\"title\":{\"text\":\"Total funding in USD\"}},\"yaxis\":{\"anchor\":\"x\",\"domain\":[0.0,1.0],\"title\":{\"text\":\"# of borrowers\"}},\"legend\":{\"title\":{\"text\":\"Gender, Type of borrower\"},\"tracegroupgap\":0},\"margin\":{\"t\":50,\"l\":25,\"r\":25,\"b\":25},\"title\":{\"text\":\"<b>Number of loans and funding amount per borrower type in 2016<b>\",\"x\":0.06,\"y\":0.95,\"font\":{\"color\":\"#283747 \"}},\"font\":{\"size\":10},\"hoverlabel\":{\"font\":{\"size\":13,\"family\":\"Calibri\"}},\"paper_bgcolor\":\"#d6dbdf\"},                        {\"responsive\": true}                    ).then(function(){\n",
       "                            \n",
       "var gd = document.getElementById('350b2c36-4d7e-4821-9c6b-a44ae838f626');\n",
       "var x = new MutationObserver(function (mutations, observer) {{\n",
       "        var display = window.getComputedStyle(gd).display;\n",
       "        if (!display || display === 'none') {{\n",
       "            console.log([gd, 'removed!']);\n",
       "            Plotly.purge(gd);\n",
       "            observer.disconnect();\n",
       "        }}\n",
       "}});\n",
       "\n",
       "// Listen for the removal of the full notebook cells\n",
       "var notebookContainer = gd.closest('#notebook-container');\n",
       "if (notebookContainer) {{\n",
       "    x.observe(notebookContainer, {childList: true});\n",
       "}}\n",
       "\n",
       "// Listen for the clearing of the current output cell\n",
       "var outputEl = gd.closest('.output');\n",
       "if (outputEl) {{\n",
       "    x.observe(outputEl, {childList: true});\n",
       "}}\n",
       "\n",
       "                        })                };                });            </script>        </div>"
      ]
     },
     "metadata": {},
     "output_type": "display_data"
    }
   ],
   "source": [
    "\n",
    "#define scatter plot\n",
    "loan_group_scatter = px.scatter(\n",
    "    df_group_loanamount,\n",
    "    y=\"count_borrower\",\n",
    "    x=\"sum_funded\",\n",
    "    color=\"borrower_type_general\",\n",
    "    color_discrete_map={\n",
    "        'female': 'deeppink',\n",
    "        'male': 'blue',\n",
    "        'female and male': 'darkorange'\n",
    "    },\n",
    "    symbol=\"borrower_type\",\n",
    "    symbol_map={\n",
    "        'Individual Female': 'circle',\n",
    "        'Individual Male': 'circle',\n",
    "        'Large female group': 'square',\n",
    "        'Large male group': 'square',\n",
    "        'Large mixed group': 'square',\n",
    "        'Small female group': 'diamond',\n",
    "        'Small male group': 'diamond',\n",
    "        'Small mixed group': 'diamond'\n",
    "    },\n",
    "    labels={\n",
    "        'borrower_type': 'Type of borrower',\n",
    "        'count_borrower': '# borrowers',\n",
    "        'sum_funded': 'Total amount funded',\n",
    "        'borrower_type_general': 'Gender',\n",
    "        \n",
    "    },\n",
    "    \n",
    "    custom_data=df_group_loanamount[[\n",
    "        'count_borrower', 'sum_funded', 'borrower_type_general',\n",
    "        'borrower_type'\n",
    "    ]])\n",
    "\n",
    "# set marker size of the symbols\n",
    "loan_group_scatter.update_traces(marker_size=8)\n",
    "\n",
    "# adjust scatterplot's layout\n",
    "loan_group_scatter.update_layout(\n",
    "    title='<b>Number of loans and funding amount per borrower type in 2016<b>',\n",
    "    xaxis_title='Total funding in USD',\n",
    "    yaxis_title='# of borrowers',\n",
    "    title_x=0.06,\n",
    "    title_y=0.95,\n",
    "    template='simple_white',\n",
    "    font_size=10,\n",
    "    title_font_color='#283747 ',\n",
    "    hoverlabel=dict(font_size=13, font_family=\"Calibri\"),\n",
    "    paper_bgcolor=\"#d6dbdf\",\n",
    "    margin=dict(t=50, l=25, r=25, b=25))\n",
    "\n",
    "\n",
    "#display scatter plot\n",
    "loan_group_scatter.show()"
   ]
  },
  {
   "cell_type": "markdown",
   "id": "40273e6d",
   "metadata": {},
   "source": [
    "#### To note\n",
    "\n",
    "The scatterplot shows the number of borrowers and the total amount of funding in USD per borrower group. Based on the assumption that the company's revenue is a derivative of both the number of investments as well as their individual amount (the more investments, the higher their revenue and the higher the funding, the higher the revenue), the optimal point on the scatterplot is the far upper right corner. Borrower types in this corner not only place many investment requests on their website but also their individual investment amount was high.\n",
    "\n",
    "As can be seen in the scatterplot the borrower category with the by far highest funding amount and the highest amount of borrowers is the category ' individual female'. In contrast the the lowest funding amount and the highest amount of borrowers is the category ' large male group female'. This supports the company's claim that one of their target borrower groups is female owned businesses.\n",
    "\n",
    "It can also be observed that individuals are the most common borrowers group and also receive the highest chunk of the overall funding. Moreover, based on their position in the scatterplot it seems that on average male individuals receive more funding than individual women. \n",
    "\n",
    "Additionally, the average funded amount for large mixed and large female groups seems to be the highest.\n",
    "\n",
    "To summarize\n",
    "\n",
    "- individuals are the company's largest customer group\n",
    "- most borrowers are female\n",
    "- average funded sum (defined as the amount funded divided by number of borrowers) is highest for large female and large mixed groups. \n",
    "\n",
    "Based on the correlation table, displayed above, it can be derived that on average large mixed and large female groups also apply for the highest loans.\n",
    "\n",
    "\n",
    "\n",
    "If desired, there seems to be some more room for expansion for investments of male borrowers. For instance, if the company does not plan to expand their market geographically any further, the company could expand in regions where there are already borrowers present by targeting male borrowers and encouraging them to place an investment on their platform.\n",
    "\n",
    "However, to assess if this is an advisable step, next the funding success rate per gender category will be analyzed. If men have a lower funding rate (funding amount / loan amount) as women, it might be not advisable to include more male owned businesses on the platform as the current overall funding rate needs to be maintained, or if possible, increased in order to stay attractive for new borrowers."
   ]
  },
  {
   "cell_type": "markdown",
   "id": "184f74d7",
   "metadata": {},
   "source": [
    "### Is there a difference in funding rate between borrower types?\n",
    "\n",
    "To assess if there is a difference between the funding rate between men and women, their funding rate will be normalized / shown per borrower type as a percentage of the overall funded and loan amount. Normalizing the data is necessary as the number of female borrowers exceeds the number of male borrowers by far."
   ]
  },
  {
   "cell_type": "code",
   "execution_count": 12,
   "id": "c2a5fbc6",
   "metadata": {},
   "outputs": [
    {
     "name": "stderr",
     "output_type": "stream",
     "text": [
      "/var/folders/fr/k05gsxds7hb9lc7c_42k3h9m0000gn/T/ipykernel_9606/1139270810.py:6: FutureWarning:\n",
      "\n",
      "Not prepending group keys to the result index of transform-like apply. In the future, the group keys will be included in the index, regardless of whether the applied function returns a like-indexed object.\n",
      "To preserve the previous behavior, use\n",
      "\n",
      "\t>>> .groupby(..., group_keys=False)\n",
      "\n",
      "To adopt the future behavior and silence this warning, use \n",
      "\n",
      "\t>>> .groupby(..., group_keys=True)\n",
      "\n"
     ]
    }
   ],
   "source": [
    "#prepare the data\n",
    "\n",
    "df_funding_borrower_stacked = df.groupby(['borrower_type', 'funding_status'\n",
    "                                          ]).size().reset_index()\n",
    "\n",
    "df_funding_borrower_stacked['Percentage'] = df.groupby(['borrower_type', 'funding_status'\n",
    "]).size().groupby(level=0).apply(lambda x: 100 * x / float(x.sum())).values\n",
    "\n",
    "df_funding_borrower_stacked.columns = ['borrower_type', 'funding_status', \n",
    "                                       'Counts', 'Percentage']\n",
    "\n",
    "df_funding_borrower_stacked['Percentage'] = round(df_funding_borrower_stacked['Percentage'].astype(float), 2)"
   ]
  },
  {
   "cell_type": "code",
   "execution_count": 13,
   "id": "ec6812e7",
   "metadata": {},
   "outputs": [],
   "source": [
    "# sort values\n",
    "\n",
    "df_funding_borrower_stacked.sort_values('Percentage',ascending=False, inplace=True)"
   ]
  },
  {
   "cell_type": "code",
   "execution_count": 14,
   "id": "b4b0212b",
   "metadata": {
    "scrolled": false
   },
   "outputs": [
    {
     "data": {
      "application/vnd.plotly.v1+json": {
       "config": {
        "plotlyServerURL": "https://plot.ly"
       },
       "data": [
        {
         "alignmentgroup": "True",
         "customdata": [
          [
           "Large female group",
           95.43,
           "fully funded"
          ],
          [
           "Individual Female",
           95.17,
           "fully funded"
          ],
          [
           "Small female group",
           94.26,
           "fully funded"
          ],
          [
           "Small mixed group",
           93.18,
           "fully funded"
          ],
          [
           "Large mixed group",
           91.21,
           "fully funded"
          ],
          [
           "Small male group",
           84.63,
           "fully funded"
          ],
          [
           "Individual Male",
           84.11,
           "fully funded"
          ],
          [
           "Large male group",
           76.24,
           "fully funded"
          ]
         ],
         "hovertemplate": "<b>%{customdata[1]}</b>% of loans <br>were <b>%{customdata[2]}</b> for <b>%{customdata[0]}s.</b><br><br>",
         "legendgroup": "fully funded",
         "marker": {
          "color": "darkseagreen",
          "pattern": {
           "shape": ""
          }
         },
         "name": "fully funded",
         "offsetgroup": "fully funded",
         "orientation": "v",
         "showlegend": true,
         "text": [
          "95.43%",
          "95.17%",
          "94.26%",
          "93.18%",
          "91.21%",
          "84.63%",
          "84.11%",
          "76.24%"
         ],
         "textposition": "auto",
         "type": "bar",
         "x": [
          "Large female group",
          "Individual Female",
          "Small female group",
          "Small mixed group",
          "Large mixed group",
          "Small male group",
          "Individual Male",
          "Large male group"
         ],
         "xaxis": "x",
         "y": [
          95.43,
          95.17,
          94.26,
          93.18,
          91.21,
          84.63,
          84.11,
          76.24
         ],
         "yaxis": "y"
        },
        {
         "alignmentgroup": "True",
         "customdata": [
          [
           "Large male group",
           6.33,
           ">60% funded"
          ],
          [
           "Individual Male",
           3.37,
           ">60% funded"
          ],
          [
           "Small male group",
           3.26,
           ">60% funded"
          ],
          [
           "Large mixed group",
           2.34,
           ">60% funded"
          ],
          [
           "Small mixed group",
           1.66,
           ">60% funded"
          ],
          [
           "Small female group",
           1.43,
           ">60% funded"
          ],
          [
           "Large female group",
           1.24,
           ">60% funded"
          ],
          [
           "Individual Female",
           0.96,
           ">60% funded"
          ]
         ],
         "hovertemplate": "loan status=>60% funded<br>borrower_type=%{x}<br>Percentage=%{y}<br>text=%{text}<extra></extra>",
         "legendgroup": ">60% funded",
         "marker": {
          "color": "darkkhaki",
          "pattern": {
           "shape": ""
          }
         },
         "name": ">60% funded",
         "offsetgroup": ">60% funded",
         "orientation": "v",
         "showlegend": true,
         "text": [
          "6.33%",
          "3.37%",
          "3.26%",
          "2.34%",
          "1.66%",
          "1.43%",
          "1.24%",
          "0.96%"
         ],
         "textposition": "auto",
         "type": "bar",
         "x": [
          "Large male group",
          "Individual Male",
          "Small male group",
          "Large mixed group",
          "Small mixed group",
          "Small female group",
          "Large female group",
          "Individual Female"
         ],
         "xaxis": "x",
         "y": [
          6.33,
          3.37,
          3.26,
          2.34,
          1.66,
          1.43,
          1.24,
          0.96
         ],
         "yaxis": "y"
        },
        {
         "alignmentgroup": "True",
         "customdata": [
          [
           "Large male group",
           5.32,
           ">20% funded"
          ],
          [
           "Individual Male",
           3.52,
           ">20% funded"
          ],
          [
           "Small male group",
           3.3,
           ">20% funded"
          ],
          [
           "Large mixed group",
           1.98,
           ">20% funded"
          ],
          [
           "Small mixed group",
           1.5,
           ">20% funded"
          ],
          [
           "Individual Female",
           1.01,
           ">20% funded"
          ],
          [
           "Small female group",
           0.95,
           ">20% funded"
          ],
          [
           "Large female group",
           0.87,
           ">20% funded"
          ]
         ],
         "hovertemplate": "loan status=>20% funded<br>borrower_type=%{x}<br>Percentage=%{y}<br>text=%{text}<extra></extra>",
         "legendgroup": ">20% funded",
         "marker": {
          "color": "moccasin",
          "pattern": {
           "shape": ""
          }
         },
         "name": ">20% funded",
         "offsetgroup": ">20% funded",
         "orientation": "v",
         "showlegend": true,
         "text": [
          "5.32%",
          "3.52%",
          "3.3%",
          "1.98%",
          "1.5%",
          "1.01%",
          "0.95%",
          "0.87%"
         ],
         "textposition": "auto",
         "type": "bar",
         "x": [
          "Large male group",
          "Individual Male",
          "Small male group",
          "Large mixed group",
          "Small mixed group",
          "Individual Female",
          "Small female group",
          "Large female group"
         ],
         "xaxis": "x",
         "y": [
          5.32,
          3.52,
          3.3,
          1.98,
          1.5,
          1.01,
          0.95,
          0.87
         ],
         "yaxis": "y"
        },
        {
         "alignmentgroup": "True",
         "customdata": [
          [
           "Large male group",
           4.41,
           ">40% funded"
          ],
          [
           "Individual Male",
           4.07,
           ">40% funded"
          ],
          [
           "Small male group",
           3.96,
           ">40% funded"
          ],
          [
           "Large mixed group",
           2.28,
           ">40% funded"
          ],
          [
           "Small mixed group",
           1.51,
           ">40% funded"
          ],
          [
           "Small female group",
           1.28,
           ">40% funded"
          ],
          [
           "Large female group",
           1.18,
           ">40% funded"
          ],
          [
           "Individual Female",
           1.15,
           ">40% funded"
          ]
         ],
         "hovertemplate": "loan status=>40% funded<br>borrower_type=%{x}<br>Percentage=%{y}<br>text=%{text}<extra></extra>",
         "legendgroup": ">40% funded",
         "marker": {
          "color": "palegoldenrod",
          "pattern": {
           "shape": ""
          }
         },
         "name": ">40% funded",
         "offsetgroup": ">40% funded",
         "orientation": "v",
         "showlegend": true,
         "text": [
          "4.41%",
          "4.07%",
          "3.96%",
          "2.28%",
          "1.51%",
          "1.28%",
          "1.18%",
          "1.15%"
         ],
         "textposition": "auto",
         "type": "bar",
         "x": [
          "Large male group",
          "Individual Male",
          "Small male group",
          "Large mixed group",
          "Small mixed group",
          "Small female group",
          "Large female group",
          "Individual Female"
         ],
         "xaxis": "x",
         "y": [
          4.41,
          4.07,
          3.96,
          2.28,
          1.51,
          1.28,
          1.18,
          1.15
         ],
         "yaxis": "y"
        },
        {
         "alignmentgroup": "True",
         "customdata": [
          [
           "Large male group",
           3.96,
           "up to 20% funded"
          ],
          [
           "Small male group",
           3.37,
           "up to 20% funded"
          ],
          [
           "Individual Male",
           2.82,
           "up to 20% funded"
          ],
          [
           "Large mixed group",
           1.13,
           "up to 20% funded"
          ],
          [
           "Small mixed group",
           1.11,
           "up to 20% funded"
          ],
          [
           "Small female group",
           1,
           "up to 20% funded"
          ],
          [
           "Individual Female",
           0.86,
           "up to 20% funded"
          ],
          [
           "Large female group",
           0.63,
           "up to 20% funded"
          ]
         ],
         "hovertemplate": "loan status=up to 20% funded<br>borrower_type=%{x}<br>Percentage=%{y}<br>text=%{text}<extra></extra>",
         "legendgroup": "up to 20% funded",
         "marker": {
          "color": "peachpuff",
          "pattern": {
           "shape": ""
          }
         },
         "name": "up to 20% funded",
         "offsetgroup": "up to 20% funded",
         "orientation": "v",
         "showlegend": true,
         "text": [
          "3.96%",
          "3.37%",
          "2.82%",
          "1.13%",
          "1.11%",
          "1.0%",
          "0.86%",
          "0.63%"
         ],
         "textposition": "auto",
         "type": "bar",
         "x": [
          "Large male group",
          "Small male group",
          "Individual Male",
          "Large mixed group",
          "Small mixed group",
          "Small female group",
          "Individual Female",
          "Large female group"
         ],
         "xaxis": "x",
         "y": [
          3.96,
          3.37,
          2.82,
          1.13,
          1.11,
          1,
          0.86,
          0.63
         ],
         "yaxis": "y"
        },
        {
         "alignmentgroup": "True",
         "customdata": [
          [
           "Large male group",
           3.17,
           ">80% funded"
          ],
          [
           "Small male group",
           0.93,
           ">80% funded"
          ],
          [
           "Individual Male",
           0.83,
           ">80% funded"
          ],
          [
           "Large mixed group",
           0.69,
           ">80% funded"
          ],
          [
           "Small mixed group",
           0.41,
           ">80% funded"
          ],
          [
           "Small female group",
           0.38,
           ">80% funded"
          ],
          [
           "Large female group",
           0.36,
           ">80% funded"
          ],
          [
           "Individual Female",
           0.25,
           ">80% funded"
          ]
         ],
         "hovertemplate": "loan status=>80% funded<br>borrower_type=%{x}<br>Percentage=%{y}<br>text=%{text}<extra></extra>",
         "legendgroup": ">80% funded",
         "marker": {
          "color": "olivedrab",
          "pattern": {
           "shape": ""
          }
         },
         "name": ">80% funded",
         "offsetgroup": ">80% funded",
         "orientation": "v",
         "showlegend": true,
         "text": [
          "3.17%",
          "0.93%",
          "0.83%",
          "0.69%",
          "0.41%",
          "0.38%",
          "0.36%",
          "0.25%"
         ],
         "textposition": "auto",
         "type": "bar",
         "x": [
          "Large male group",
          "Small male group",
          "Individual Male",
          "Large mixed group",
          "Small mixed group",
          "Small female group",
          "Large female group",
          "Individual Female"
         ],
         "xaxis": "x",
         "y": [
          3.17,
          0.93,
          0.83,
          0.69,
          0.41,
          0.38,
          0.36,
          0.25
         ],
         "yaxis": "y"
        },
        {
         "alignmentgroup": "True",
         "customdata": [
          [
           "Individual Male",
           1.27,
           "not funded"
          ],
          [
           "Small female group",
           0.7,
           "not funded"
          ],
          [
           "Small mixed group",
           0.62,
           "not funded"
          ],
          [
           "Individual Female",
           0.59,
           "not funded"
          ],
          [
           "Large male group",
           0.57,
           "not funded"
          ],
          [
           "Small male group",
           0.56,
           "not funded"
          ],
          [
           "Large mixed group",
           0.37,
           "not funded"
          ],
          [
           "Large female group",
           0.28,
           "not funded"
          ]
         ],
         "hovertemplate": "loan status=not funded<br>borrower_type=%{x}<br>Percentage=%{y}<br>text=%{text}<extra></extra>",
         "legendgroup": "not funded",
         "marker": {
          "color": "salmon",
          "pattern": {
           "shape": ""
          }
         },
         "name": "not funded",
         "offsetgroup": "not funded",
         "orientation": "v",
         "showlegend": true,
         "text": [
          "1.27%",
          "0.7%",
          "0.62%",
          "0.59%",
          "0.57%",
          "0.56%",
          "0.37%",
          "0.28%"
         ],
         "textposition": "auto",
         "type": "bar",
         "x": [
          "Individual Male",
          "Small female group",
          "Small mixed group",
          "Individual Female",
          "Large male group",
          "Small male group",
          "Large mixed group",
          "Large female group"
         ],
         "xaxis": "x",
         "y": [
          1.27,
          0.7,
          0.62,
          0.59,
          0.57,
          0.56,
          0.37,
          0.28
         ],
         "yaxis": "y"
        },
        {
         "alignmentgroup": "True",
         "customdata": [
          [
           "Small female group",
           0,
           "overfunded"
          ],
          [
           "Large mixed group",
           0,
           "overfunded"
          ],
          [
           "Small male group",
           0,
           "overfunded"
          ],
          [
           "Large male group",
           0,
           "overfunded"
          ],
          [
           "Large female group",
           0,
           "overfunded"
          ],
          [
           "Individual Male",
           0,
           "overfunded"
          ],
          [
           "Individual Female",
           0,
           "overfunded"
          ],
          [
           "Small mixed group",
           0,
           "overfunded"
          ]
         ],
         "hovertemplate": "loan status=overfunded<br>borrower_type=%{x}<br>Percentage=%{y}<br>text=%{text}<extra></extra>",
         "legendgroup": "overfunded",
         "marker": {
          "color": "darkolivegreen",
          "pattern": {
           "shape": ""
          }
         },
         "name": "overfunded",
         "offsetgroup": "overfunded",
         "orientation": "v",
         "showlegend": true,
         "text": [
          "0.0%",
          "0.0%",
          "0.0%",
          "0.0%",
          "0.0%",
          "0.0%",
          "0.0%",
          "0.0%"
         ],
         "textposition": "auto",
         "type": "bar",
         "x": [
          "Small female group",
          "Large mixed group",
          "Small male group",
          "Large male group",
          "Large female group",
          "Individual Male",
          "Individual Female",
          "Small mixed group"
         ],
         "xaxis": "x",
         "y": [
          0,
          0,
          0,
          0,
          0,
          0,
          0,
          0
         ],
         "yaxis": "y"
        }
       ],
       "layout": {
        "barmode": "stack",
        "font": {
         "size": 9
        },
        "hoverlabel": {
         "font": {
          "family": "Calibri",
          "size": 13
         }
        },
        "legend": {
         "title": {
          "text": "loan status"
         },
         "tracegroupgap": 0
        },
        "margin": {
         "b": 25,
         "l": 25,
         "r": 25,
         "t": 50
        },
        "paper_bgcolor": "#d6dbdf",
        "template": {
         "data": {
          "bar": [
           {
            "error_x": {
             "color": "rgb(36,36,36)"
            },
            "error_y": {
             "color": "rgb(36,36,36)"
            },
            "marker": {
             "line": {
              "color": "white",
              "width": 0.5
             },
             "pattern": {
              "fillmode": "overlay",
              "size": 10,
              "solidity": 0.2
             }
            },
            "type": "bar"
           }
          ],
          "barpolar": [
           {
            "marker": {
             "line": {
              "color": "white",
              "width": 0.5
             },
             "pattern": {
              "fillmode": "overlay",
              "size": 10,
              "solidity": 0.2
             }
            },
            "type": "barpolar"
           }
          ],
          "carpet": [
           {
            "aaxis": {
             "endlinecolor": "rgb(36,36,36)",
             "gridcolor": "white",
             "linecolor": "white",
             "minorgridcolor": "white",
             "startlinecolor": "rgb(36,36,36)"
            },
            "baxis": {
             "endlinecolor": "rgb(36,36,36)",
             "gridcolor": "white",
             "linecolor": "white",
             "minorgridcolor": "white",
             "startlinecolor": "rgb(36,36,36)"
            },
            "type": "carpet"
           }
          ],
          "choropleth": [
           {
            "colorbar": {
             "outlinewidth": 1,
             "tickcolor": "rgb(36,36,36)",
             "ticks": "outside"
            },
            "type": "choropleth"
           }
          ],
          "contour": [
           {
            "colorbar": {
             "outlinewidth": 1,
             "tickcolor": "rgb(36,36,36)",
             "ticks": "outside"
            },
            "colorscale": [
             [
              0,
              "#440154"
             ],
             [
              0.1111111111111111,
              "#482878"
             ],
             [
              0.2222222222222222,
              "#3e4989"
             ],
             [
              0.3333333333333333,
              "#31688e"
             ],
             [
              0.4444444444444444,
              "#26828e"
             ],
             [
              0.5555555555555556,
              "#1f9e89"
             ],
             [
              0.6666666666666666,
              "#35b779"
             ],
             [
              0.7777777777777778,
              "#6ece58"
             ],
             [
              0.8888888888888888,
              "#b5de2b"
             ],
             [
              1,
              "#fde725"
             ]
            ],
            "type": "contour"
           }
          ],
          "contourcarpet": [
           {
            "colorbar": {
             "outlinewidth": 1,
             "tickcolor": "rgb(36,36,36)",
             "ticks": "outside"
            },
            "type": "contourcarpet"
           }
          ],
          "heatmap": [
           {
            "colorbar": {
             "outlinewidth": 1,
             "tickcolor": "rgb(36,36,36)",
             "ticks": "outside"
            },
            "colorscale": [
             [
              0,
              "#440154"
             ],
             [
              0.1111111111111111,
              "#482878"
             ],
             [
              0.2222222222222222,
              "#3e4989"
             ],
             [
              0.3333333333333333,
              "#31688e"
             ],
             [
              0.4444444444444444,
              "#26828e"
             ],
             [
              0.5555555555555556,
              "#1f9e89"
             ],
             [
              0.6666666666666666,
              "#35b779"
             ],
             [
              0.7777777777777778,
              "#6ece58"
             ],
             [
              0.8888888888888888,
              "#b5de2b"
             ],
             [
              1,
              "#fde725"
             ]
            ],
            "type": "heatmap"
           }
          ],
          "heatmapgl": [
           {
            "colorbar": {
             "outlinewidth": 1,
             "tickcolor": "rgb(36,36,36)",
             "ticks": "outside"
            },
            "colorscale": [
             [
              0,
              "#440154"
             ],
             [
              0.1111111111111111,
              "#482878"
             ],
             [
              0.2222222222222222,
              "#3e4989"
             ],
             [
              0.3333333333333333,
              "#31688e"
             ],
             [
              0.4444444444444444,
              "#26828e"
             ],
             [
              0.5555555555555556,
              "#1f9e89"
             ],
             [
              0.6666666666666666,
              "#35b779"
             ],
             [
              0.7777777777777778,
              "#6ece58"
             ],
             [
              0.8888888888888888,
              "#b5de2b"
             ],
             [
              1,
              "#fde725"
             ]
            ],
            "type": "heatmapgl"
           }
          ],
          "histogram": [
           {
            "marker": {
             "line": {
              "color": "white",
              "width": 0.6
             }
            },
            "type": "histogram"
           }
          ],
          "histogram2d": [
           {
            "colorbar": {
             "outlinewidth": 1,
             "tickcolor": "rgb(36,36,36)",
             "ticks": "outside"
            },
            "colorscale": [
             [
              0,
              "#440154"
             ],
             [
              0.1111111111111111,
              "#482878"
             ],
             [
              0.2222222222222222,
              "#3e4989"
             ],
             [
              0.3333333333333333,
              "#31688e"
             ],
             [
              0.4444444444444444,
              "#26828e"
             ],
             [
              0.5555555555555556,
              "#1f9e89"
             ],
             [
              0.6666666666666666,
              "#35b779"
             ],
             [
              0.7777777777777778,
              "#6ece58"
             ],
             [
              0.8888888888888888,
              "#b5de2b"
             ],
             [
              1,
              "#fde725"
             ]
            ],
            "type": "histogram2d"
           }
          ],
          "histogram2dcontour": [
           {
            "colorbar": {
             "outlinewidth": 1,
             "tickcolor": "rgb(36,36,36)",
             "ticks": "outside"
            },
            "colorscale": [
             [
              0,
              "#440154"
             ],
             [
              0.1111111111111111,
              "#482878"
             ],
             [
              0.2222222222222222,
              "#3e4989"
             ],
             [
              0.3333333333333333,
              "#31688e"
             ],
             [
              0.4444444444444444,
              "#26828e"
             ],
             [
              0.5555555555555556,
              "#1f9e89"
             ],
             [
              0.6666666666666666,
              "#35b779"
             ],
             [
              0.7777777777777778,
              "#6ece58"
             ],
             [
              0.8888888888888888,
              "#b5de2b"
             ],
             [
              1,
              "#fde725"
             ]
            ],
            "type": "histogram2dcontour"
           }
          ],
          "mesh3d": [
           {
            "colorbar": {
             "outlinewidth": 1,
             "tickcolor": "rgb(36,36,36)",
             "ticks": "outside"
            },
            "type": "mesh3d"
           }
          ],
          "parcoords": [
           {
            "line": {
             "colorbar": {
              "outlinewidth": 1,
              "tickcolor": "rgb(36,36,36)",
              "ticks": "outside"
             }
            },
            "type": "parcoords"
           }
          ],
          "pie": [
           {
            "automargin": true,
            "type": "pie"
           }
          ],
          "scatter": [
           {
            "fillpattern": {
             "fillmode": "overlay",
             "size": 10,
             "solidity": 0.2
            },
            "type": "scatter"
           }
          ],
          "scatter3d": [
           {
            "line": {
             "colorbar": {
              "outlinewidth": 1,
              "tickcolor": "rgb(36,36,36)",
              "ticks": "outside"
             }
            },
            "marker": {
             "colorbar": {
              "outlinewidth": 1,
              "tickcolor": "rgb(36,36,36)",
              "ticks": "outside"
             }
            },
            "type": "scatter3d"
           }
          ],
          "scattercarpet": [
           {
            "marker": {
             "colorbar": {
              "outlinewidth": 1,
              "tickcolor": "rgb(36,36,36)",
              "ticks": "outside"
             }
            },
            "type": "scattercarpet"
           }
          ],
          "scattergeo": [
           {
            "marker": {
             "colorbar": {
              "outlinewidth": 1,
              "tickcolor": "rgb(36,36,36)",
              "ticks": "outside"
             }
            },
            "type": "scattergeo"
           }
          ],
          "scattergl": [
           {
            "marker": {
             "colorbar": {
              "outlinewidth": 1,
              "tickcolor": "rgb(36,36,36)",
              "ticks": "outside"
             }
            },
            "type": "scattergl"
           }
          ],
          "scattermapbox": [
           {
            "marker": {
             "colorbar": {
              "outlinewidth": 1,
              "tickcolor": "rgb(36,36,36)",
              "ticks": "outside"
             }
            },
            "type": "scattermapbox"
           }
          ],
          "scatterpolar": [
           {
            "marker": {
             "colorbar": {
              "outlinewidth": 1,
              "tickcolor": "rgb(36,36,36)",
              "ticks": "outside"
             }
            },
            "type": "scatterpolar"
           }
          ],
          "scatterpolargl": [
           {
            "marker": {
             "colorbar": {
              "outlinewidth": 1,
              "tickcolor": "rgb(36,36,36)",
              "ticks": "outside"
             }
            },
            "type": "scatterpolargl"
           }
          ],
          "scatterternary": [
           {
            "marker": {
             "colorbar": {
              "outlinewidth": 1,
              "tickcolor": "rgb(36,36,36)",
              "ticks": "outside"
             }
            },
            "type": "scatterternary"
           }
          ],
          "surface": [
           {
            "colorbar": {
             "outlinewidth": 1,
             "tickcolor": "rgb(36,36,36)",
             "ticks": "outside"
            },
            "colorscale": [
             [
              0,
              "#440154"
             ],
             [
              0.1111111111111111,
              "#482878"
             ],
             [
              0.2222222222222222,
              "#3e4989"
             ],
             [
              0.3333333333333333,
              "#31688e"
             ],
             [
              0.4444444444444444,
              "#26828e"
             ],
             [
              0.5555555555555556,
              "#1f9e89"
             ],
             [
              0.6666666666666666,
              "#35b779"
             ],
             [
              0.7777777777777778,
              "#6ece58"
             ],
             [
              0.8888888888888888,
              "#b5de2b"
             ],
             [
              1,
              "#fde725"
             ]
            ],
            "type": "surface"
           }
          ],
          "table": [
           {
            "cells": {
             "fill": {
              "color": "rgb(237,237,237)"
             },
             "line": {
              "color": "white"
             }
            },
            "header": {
             "fill": {
              "color": "rgb(217,217,217)"
             },
             "line": {
              "color": "white"
             }
            },
            "type": "table"
           }
          ]
         },
         "layout": {
          "annotationdefaults": {
           "arrowhead": 0,
           "arrowwidth": 1
          },
          "autotypenumbers": "strict",
          "coloraxis": {
           "colorbar": {
            "outlinewidth": 1,
            "tickcolor": "rgb(36,36,36)",
            "ticks": "outside"
           }
          },
          "colorscale": {
           "diverging": [
            [
             0,
             "rgb(103,0,31)"
            ],
            [
             0.1,
             "rgb(178,24,43)"
            ],
            [
             0.2,
             "rgb(214,96,77)"
            ],
            [
             0.3,
             "rgb(244,165,130)"
            ],
            [
             0.4,
             "rgb(253,219,199)"
            ],
            [
             0.5,
             "rgb(247,247,247)"
            ],
            [
             0.6,
             "rgb(209,229,240)"
            ],
            [
             0.7,
             "rgb(146,197,222)"
            ],
            [
             0.8,
             "rgb(67,147,195)"
            ],
            [
             0.9,
             "rgb(33,102,172)"
            ],
            [
             1,
             "rgb(5,48,97)"
            ]
           ],
           "sequential": [
            [
             0,
             "#440154"
            ],
            [
             0.1111111111111111,
             "#482878"
            ],
            [
             0.2222222222222222,
             "#3e4989"
            ],
            [
             0.3333333333333333,
             "#31688e"
            ],
            [
             0.4444444444444444,
             "#26828e"
            ],
            [
             0.5555555555555556,
             "#1f9e89"
            ],
            [
             0.6666666666666666,
             "#35b779"
            ],
            [
             0.7777777777777778,
             "#6ece58"
            ],
            [
             0.8888888888888888,
             "#b5de2b"
            ],
            [
             1,
             "#fde725"
            ]
           ],
           "sequentialminus": [
            [
             0,
             "#440154"
            ],
            [
             0.1111111111111111,
             "#482878"
            ],
            [
             0.2222222222222222,
             "#3e4989"
            ],
            [
             0.3333333333333333,
             "#31688e"
            ],
            [
             0.4444444444444444,
             "#26828e"
            ],
            [
             0.5555555555555556,
             "#1f9e89"
            ],
            [
             0.6666666666666666,
             "#35b779"
            ],
            [
             0.7777777777777778,
             "#6ece58"
            ],
            [
             0.8888888888888888,
             "#b5de2b"
            ],
            [
             1,
             "#fde725"
            ]
           ]
          },
          "colorway": [
           "#1F77B4",
           "#FF7F0E",
           "#2CA02C",
           "#D62728",
           "#9467BD",
           "#8C564B",
           "#E377C2",
           "#7F7F7F",
           "#BCBD22",
           "#17BECF"
          ],
          "font": {
           "color": "rgb(36,36,36)"
          },
          "geo": {
           "bgcolor": "white",
           "lakecolor": "white",
           "landcolor": "white",
           "showlakes": true,
           "showland": true,
           "subunitcolor": "white"
          },
          "hoverlabel": {
           "align": "left"
          },
          "hovermode": "closest",
          "mapbox": {
           "style": "light"
          },
          "paper_bgcolor": "white",
          "plot_bgcolor": "white",
          "polar": {
           "angularaxis": {
            "gridcolor": "rgb(232,232,232)",
            "linecolor": "rgb(36,36,36)",
            "showgrid": false,
            "showline": true,
            "ticks": "outside"
           },
           "bgcolor": "white",
           "radialaxis": {
            "gridcolor": "rgb(232,232,232)",
            "linecolor": "rgb(36,36,36)",
            "showgrid": false,
            "showline": true,
            "ticks": "outside"
           }
          },
          "scene": {
           "xaxis": {
            "backgroundcolor": "white",
            "gridcolor": "rgb(232,232,232)",
            "gridwidth": 2,
            "linecolor": "rgb(36,36,36)",
            "showbackground": true,
            "showgrid": false,
            "showline": true,
            "ticks": "outside",
            "zeroline": false,
            "zerolinecolor": "rgb(36,36,36)"
           },
           "yaxis": {
            "backgroundcolor": "white",
            "gridcolor": "rgb(232,232,232)",
            "gridwidth": 2,
            "linecolor": "rgb(36,36,36)",
            "showbackground": true,
            "showgrid": false,
            "showline": true,
            "ticks": "outside",
            "zeroline": false,
            "zerolinecolor": "rgb(36,36,36)"
           },
           "zaxis": {
            "backgroundcolor": "white",
            "gridcolor": "rgb(232,232,232)",
            "gridwidth": 2,
            "linecolor": "rgb(36,36,36)",
            "showbackground": true,
            "showgrid": false,
            "showline": true,
            "ticks": "outside",
            "zeroline": false,
            "zerolinecolor": "rgb(36,36,36)"
           }
          },
          "shapedefaults": {
           "fillcolor": "black",
           "line": {
            "width": 0
           },
           "opacity": 0.3
          },
          "ternary": {
           "aaxis": {
            "gridcolor": "rgb(232,232,232)",
            "linecolor": "rgb(36,36,36)",
            "showgrid": false,
            "showline": true,
            "ticks": "outside"
           },
           "baxis": {
            "gridcolor": "rgb(232,232,232)",
            "linecolor": "rgb(36,36,36)",
            "showgrid": false,
            "showline": true,
            "ticks": "outside"
           },
           "bgcolor": "white",
           "caxis": {
            "gridcolor": "rgb(232,232,232)",
            "linecolor": "rgb(36,36,36)",
            "showgrid": false,
            "showline": true,
            "ticks": "outside"
           }
          },
          "title": {
           "x": 0.05
          },
          "xaxis": {
           "automargin": true,
           "gridcolor": "rgb(232,232,232)",
           "linecolor": "rgb(36,36,36)",
           "showgrid": false,
           "showline": true,
           "ticks": "outside",
           "title": {
            "standoff": 15
           },
           "zeroline": false,
           "zerolinecolor": "rgb(36,36,36)"
          },
          "yaxis": {
           "automargin": true,
           "gridcolor": "rgb(232,232,232)",
           "linecolor": "rgb(36,36,36)",
           "showgrid": false,
           "showline": true,
           "ticks": "outside",
           "title": {
            "standoff": 15
           },
           "zeroline": false,
           "zerolinecolor": "rgb(36,36,36)"
          }
         }
        },
        "title": {
         "font": {
          "color": "#283747 "
         },
         "text": "<b>Status of loans per borrower type in 2016<b>",
         "x": 0.03,
         "y": 0.95
        },
        "xaxis": {
         "anchor": "y",
         "domain": [
          0,
          1
         ],
         "title": {
          "text": "Type of borrower based on borrower count and gender"
         }
        },
        "yaxis": {
         "anchor": "x",
         "domain": [
          0,
          1
         ],
         "range": [
          60,
          103
         ],
         "title": {
          "text": "Percentage of loan status"
         }
        }
       }
      },
      "text/html": [
       "<div>                            <div id=\"60764283-15cd-4d75-9f8e-ff1613290fc4\" class=\"plotly-graph-div\" style=\"height:525px; width:100%;\"></div>            <script type=\"text/javascript\">                require([\"plotly\"], function(Plotly) {                    window.PLOTLYENV=window.PLOTLYENV || {};                                    if (document.getElementById(\"60764283-15cd-4d75-9f8e-ff1613290fc4\")) {                    Plotly.newPlot(                        \"60764283-15cd-4d75-9f8e-ff1613290fc4\",                        [{\"alignmentgroup\":\"True\",\"customdata\":[[\"Large female group\",95.43,\"fully funded\"],[\"Individual Female\",95.17,\"fully funded\"],[\"Small female group\",94.26,\"fully funded\"],[\"Small mixed group\",93.18,\"fully funded\"],[\"Large mixed group\",91.21,\"fully funded\"],[\"Small male group\",84.63,\"fully funded\"],[\"Individual Male\",84.11,\"fully funded\"],[\"Large male group\",76.24,\"fully funded\"]],\"hovertemplate\":\"<b>%{customdata[1]}</b>% of loans <br>were <b>%{customdata[2]}</b> for <b>%{customdata[0]}s.</b><br><br>\",\"legendgroup\":\"fully funded\",\"marker\":{\"color\":\"darkseagreen\",\"pattern\":{\"shape\":\"\"}},\"name\":\"fully funded\",\"offsetgroup\":\"fully funded\",\"orientation\":\"v\",\"showlegend\":true,\"text\":[\"95.43%\",\"95.17%\",\"94.26%\",\"93.18%\",\"91.21%\",\"84.63%\",\"84.11%\",\"76.24%\"],\"textposition\":\"auto\",\"x\":[\"Large female group\",\"Individual Female\",\"Small female group\",\"Small mixed group\",\"Large mixed group\",\"Small male group\",\"Individual Male\",\"Large male group\"],\"xaxis\":\"x\",\"y\":[95.43,95.17,94.26,93.18,91.21,84.63,84.11,76.24],\"yaxis\":\"y\",\"type\":\"bar\"},{\"alignmentgroup\":\"True\",\"customdata\":[[\"Large male group\",6.33,\">60% funded\"],[\"Individual Male\",3.37,\">60% funded\"],[\"Small male group\",3.26,\">60% funded\"],[\"Large mixed group\",2.34,\">60% funded\"],[\"Small mixed group\",1.66,\">60% funded\"],[\"Small female group\",1.43,\">60% funded\"],[\"Large female group\",1.24,\">60% funded\"],[\"Individual Female\",0.96,\">60% funded\"]],\"hovertemplate\":\"loan status=>60% funded<br>borrower_type=%{x}<br>Percentage=%{y}<br>text=%{text}<extra></extra>\",\"legendgroup\":\">60% funded\",\"marker\":{\"color\":\"darkkhaki\",\"pattern\":{\"shape\":\"\"}},\"name\":\">60% funded\",\"offsetgroup\":\">60% funded\",\"orientation\":\"v\",\"showlegend\":true,\"text\":[\"6.33%\",\"3.37%\",\"3.26%\",\"2.34%\",\"1.66%\",\"1.43%\",\"1.24%\",\"0.96%\"],\"textposition\":\"auto\",\"x\":[\"Large male group\",\"Individual Male\",\"Small male group\",\"Large mixed group\",\"Small mixed group\",\"Small female group\",\"Large female group\",\"Individual Female\"],\"xaxis\":\"x\",\"y\":[6.33,3.37,3.26,2.34,1.66,1.43,1.24,0.96],\"yaxis\":\"y\",\"type\":\"bar\"},{\"alignmentgroup\":\"True\",\"customdata\":[[\"Large male group\",5.32,\">20% funded\"],[\"Individual Male\",3.52,\">20% funded\"],[\"Small male group\",3.3,\">20% funded\"],[\"Large mixed group\",1.98,\">20% funded\"],[\"Small mixed group\",1.5,\">20% funded\"],[\"Individual Female\",1.01,\">20% funded\"],[\"Small female group\",0.95,\">20% funded\"],[\"Large female group\",0.87,\">20% funded\"]],\"hovertemplate\":\"loan status=>20% funded<br>borrower_type=%{x}<br>Percentage=%{y}<br>text=%{text}<extra></extra>\",\"legendgroup\":\">20% funded\",\"marker\":{\"color\":\"moccasin\",\"pattern\":{\"shape\":\"\"}},\"name\":\">20% funded\",\"offsetgroup\":\">20% funded\",\"orientation\":\"v\",\"showlegend\":true,\"text\":[\"5.32%\",\"3.52%\",\"3.3%\",\"1.98%\",\"1.5%\",\"1.01%\",\"0.95%\",\"0.87%\"],\"textposition\":\"auto\",\"x\":[\"Large male group\",\"Individual Male\",\"Small male group\",\"Large mixed group\",\"Small mixed group\",\"Individual Female\",\"Small female group\",\"Large female group\"],\"xaxis\":\"x\",\"y\":[5.32,3.52,3.3,1.98,1.5,1.01,0.95,0.87],\"yaxis\":\"y\",\"type\":\"bar\"},{\"alignmentgroup\":\"True\",\"customdata\":[[\"Large male group\",4.41,\">40% funded\"],[\"Individual Male\",4.07,\">40% funded\"],[\"Small male group\",3.96,\">40% funded\"],[\"Large mixed group\",2.28,\">40% funded\"],[\"Small mixed group\",1.51,\">40% funded\"],[\"Small female group\",1.28,\">40% funded\"],[\"Large female group\",1.18,\">40% funded\"],[\"Individual Female\",1.15,\">40% funded\"]],\"hovertemplate\":\"loan status=>40% funded<br>borrower_type=%{x}<br>Percentage=%{y}<br>text=%{text}<extra></extra>\",\"legendgroup\":\">40% funded\",\"marker\":{\"color\":\"palegoldenrod\",\"pattern\":{\"shape\":\"\"}},\"name\":\">40% funded\",\"offsetgroup\":\">40% funded\",\"orientation\":\"v\",\"showlegend\":true,\"text\":[\"4.41%\",\"4.07%\",\"3.96%\",\"2.28%\",\"1.51%\",\"1.28%\",\"1.18%\",\"1.15%\"],\"textposition\":\"auto\",\"x\":[\"Large male group\",\"Individual Male\",\"Small male group\",\"Large mixed group\",\"Small mixed group\",\"Small female group\",\"Large female group\",\"Individual Female\"],\"xaxis\":\"x\",\"y\":[4.41,4.07,3.96,2.28,1.51,1.28,1.18,1.15],\"yaxis\":\"y\",\"type\":\"bar\"},{\"alignmentgroup\":\"True\",\"customdata\":[[\"Large male group\",3.96,\"up to 20% funded\"],[\"Small male group\",3.37,\"up to 20% funded\"],[\"Individual Male\",2.82,\"up to 20% funded\"],[\"Large mixed group\",1.13,\"up to 20% funded\"],[\"Small mixed group\",1.11,\"up to 20% funded\"],[\"Small female group\",1.0,\"up to 20% funded\"],[\"Individual Female\",0.86,\"up to 20% funded\"],[\"Large female group\",0.63,\"up to 20% funded\"]],\"hovertemplate\":\"loan status=up to 20% funded<br>borrower_type=%{x}<br>Percentage=%{y}<br>text=%{text}<extra></extra>\",\"legendgroup\":\"up to 20% funded\",\"marker\":{\"color\":\"peachpuff\",\"pattern\":{\"shape\":\"\"}},\"name\":\"up to 20% funded\",\"offsetgroup\":\"up to 20% funded\",\"orientation\":\"v\",\"showlegend\":true,\"text\":[\"3.96%\",\"3.37%\",\"2.82%\",\"1.13%\",\"1.11%\",\"1.0%\",\"0.86%\",\"0.63%\"],\"textposition\":\"auto\",\"x\":[\"Large male group\",\"Small male group\",\"Individual Male\",\"Large mixed group\",\"Small mixed group\",\"Small female group\",\"Individual Female\",\"Large female group\"],\"xaxis\":\"x\",\"y\":[3.96,3.37,2.82,1.13,1.11,1.0,0.86,0.63],\"yaxis\":\"y\",\"type\":\"bar\"},{\"alignmentgroup\":\"True\",\"customdata\":[[\"Large male group\",3.17,\">80% funded\"],[\"Small male group\",0.93,\">80% funded\"],[\"Individual Male\",0.83,\">80% funded\"],[\"Large mixed group\",0.69,\">80% funded\"],[\"Small mixed group\",0.41,\">80% funded\"],[\"Small female group\",0.38,\">80% funded\"],[\"Large female group\",0.36,\">80% funded\"],[\"Individual Female\",0.25,\">80% funded\"]],\"hovertemplate\":\"loan status=>80% funded<br>borrower_type=%{x}<br>Percentage=%{y}<br>text=%{text}<extra></extra>\",\"legendgroup\":\">80% funded\",\"marker\":{\"color\":\"olivedrab\",\"pattern\":{\"shape\":\"\"}},\"name\":\">80% funded\",\"offsetgroup\":\">80% funded\",\"orientation\":\"v\",\"showlegend\":true,\"text\":[\"3.17%\",\"0.93%\",\"0.83%\",\"0.69%\",\"0.41%\",\"0.38%\",\"0.36%\",\"0.25%\"],\"textposition\":\"auto\",\"x\":[\"Large male group\",\"Small male group\",\"Individual Male\",\"Large mixed group\",\"Small mixed group\",\"Small female group\",\"Large female group\",\"Individual Female\"],\"xaxis\":\"x\",\"y\":[3.17,0.93,0.83,0.69,0.41,0.38,0.36,0.25],\"yaxis\":\"y\",\"type\":\"bar\"},{\"alignmentgroup\":\"True\",\"customdata\":[[\"Individual Male\",1.27,\"not funded\"],[\"Small female group\",0.7,\"not funded\"],[\"Small mixed group\",0.62,\"not funded\"],[\"Individual Female\",0.59,\"not funded\"],[\"Large male group\",0.57,\"not funded\"],[\"Small male group\",0.56,\"not funded\"],[\"Large mixed group\",0.37,\"not funded\"],[\"Large female group\",0.28,\"not funded\"]],\"hovertemplate\":\"loan status=not funded<br>borrower_type=%{x}<br>Percentage=%{y}<br>text=%{text}<extra></extra>\",\"legendgroup\":\"not funded\",\"marker\":{\"color\":\"salmon\",\"pattern\":{\"shape\":\"\"}},\"name\":\"not funded\",\"offsetgroup\":\"not funded\",\"orientation\":\"v\",\"showlegend\":true,\"text\":[\"1.27%\",\"0.7%\",\"0.62%\",\"0.59%\",\"0.57%\",\"0.56%\",\"0.37%\",\"0.28%\"],\"textposition\":\"auto\",\"x\":[\"Individual Male\",\"Small female group\",\"Small mixed group\",\"Individual Female\",\"Large male group\",\"Small male group\",\"Large mixed group\",\"Large female group\"],\"xaxis\":\"x\",\"y\":[1.27,0.7,0.62,0.59,0.57,0.56,0.37,0.28],\"yaxis\":\"y\",\"type\":\"bar\"},{\"alignmentgroup\":\"True\",\"customdata\":[[\"Small female group\",0.0,\"overfunded\"],[\"Large mixed group\",0.0,\"overfunded\"],[\"Small male group\",0.0,\"overfunded\"],[\"Large male group\",0.0,\"overfunded\"],[\"Large female group\",0.0,\"overfunded\"],[\"Individual Male\",0.0,\"overfunded\"],[\"Individual Female\",0.0,\"overfunded\"],[\"Small mixed group\",0.0,\"overfunded\"]],\"hovertemplate\":\"loan status=overfunded<br>borrower_type=%{x}<br>Percentage=%{y}<br>text=%{text}<extra></extra>\",\"legendgroup\":\"overfunded\",\"marker\":{\"color\":\"darkolivegreen\",\"pattern\":{\"shape\":\"\"}},\"name\":\"overfunded\",\"offsetgroup\":\"overfunded\",\"orientation\":\"v\",\"showlegend\":true,\"text\":[\"0.0%\",\"0.0%\",\"0.0%\",\"0.0%\",\"0.0%\",\"0.0%\",\"0.0%\",\"0.0%\"],\"textposition\":\"auto\",\"x\":[\"Small female group\",\"Large mixed group\",\"Small male group\",\"Large male group\",\"Large female group\",\"Individual Male\",\"Individual Female\",\"Small mixed group\"],\"xaxis\":\"x\",\"y\":[0.0,0.0,0.0,0.0,0.0,0.0,0.0,0.0],\"yaxis\":\"y\",\"type\":\"bar\"}],                        {\"template\":{\"data\":{\"barpolar\":[{\"marker\":{\"line\":{\"color\":\"white\",\"width\":0.5},\"pattern\":{\"fillmode\":\"overlay\",\"size\":10,\"solidity\":0.2}},\"type\":\"barpolar\"}],\"bar\":[{\"error_x\":{\"color\":\"rgb(36,36,36)\"},\"error_y\":{\"color\":\"rgb(36,36,36)\"},\"marker\":{\"line\":{\"color\":\"white\",\"width\":0.5},\"pattern\":{\"fillmode\":\"overlay\",\"size\":10,\"solidity\":0.2}},\"type\":\"bar\"}],\"carpet\":[{\"aaxis\":{\"endlinecolor\":\"rgb(36,36,36)\",\"gridcolor\":\"white\",\"linecolor\":\"white\",\"minorgridcolor\":\"white\",\"startlinecolor\":\"rgb(36,36,36)\"},\"baxis\":{\"endlinecolor\":\"rgb(36,36,36)\",\"gridcolor\":\"white\",\"linecolor\":\"white\",\"minorgridcolor\":\"white\",\"startlinecolor\":\"rgb(36,36,36)\"},\"type\":\"carpet\"}],\"choropleth\":[{\"colorbar\":{\"outlinewidth\":1,\"tickcolor\":\"rgb(36,36,36)\",\"ticks\":\"outside\"},\"type\":\"choropleth\"}],\"contourcarpet\":[{\"colorbar\":{\"outlinewidth\":1,\"tickcolor\":\"rgb(36,36,36)\",\"ticks\":\"outside\"},\"type\":\"contourcarpet\"}],\"contour\":[{\"colorbar\":{\"outlinewidth\":1,\"tickcolor\":\"rgb(36,36,36)\",\"ticks\":\"outside\"},\"colorscale\":[[0.0,\"#440154\"],[0.1111111111111111,\"#482878\"],[0.2222222222222222,\"#3e4989\"],[0.3333333333333333,\"#31688e\"],[0.4444444444444444,\"#26828e\"],[0.5555555555555556,\"#1f9e89\"],[0.6666666666666666,\"#35b779\"],[0.7777777777777778,\"#6ece58\"],[0.8888888888888888,\"#b5de2b\"],[1.0,\"#fde725\"]],\"type\":\"contour\"}],\"heatmapgl\":[{\"colorbar\":{\"outlinewidth\":1,\"tickcolor\":\"rgb(36,36,36)\",\"ticks\":\"outside\"},\"colorscale\":[[0.0,\"#440154\"],[0.1111111111111111,\"#482878\"],[0.2222222222222222,\"#3e4989\"],[0.3333333333333333,\"#31688e\"],[0.4444444444444444,\"#26828e\"],[0.5555555555555556,\"#1f9e89\"],[0.6666666666666666,\"#35b779\"],[0.7777777777777778,\"#6ece58\"],[0.8888888888888888,\"#b5de2b\"],[1.0,\"#fde725\"]],\"type\":\"heatmapgl\"}],\"heatmap\":[{\"colorbar\":{\"outlinewidth\":1,\"tickcolor\":\"rgb(36,36,36)\",\"ticks\":\"outside\"},\"colorscale\":[[0.0,\"#440154\"],[0.1111111111111111,\"#482878\"],[0.2222222222222222,\"#3e4989\"],[0.3333333333333333,\"#31688e\"],[0.4444444444444444,\"#26828e\"],[0.5555555555555556,\"#1f9e89\"],[0.6666666666666666,\"#35b779\"],[0.7777777777777778,\"#6ece58\"],[0.8888888888888888,\"#b5de2b\"],[1.0,\"#fde725\"]],\"type\":\"heatmap\"}],\"histogram2dcontour\":[{\"colorbar\":{\"outlinewidth\":1,\"tickcolor\":\"rgb(36,36,36)\",\"ticks\":\"outside\"},\"colorscale\":[[0.0,\"#440154\"],[0.1111111111111111,\"#482878\"],[0.2222222222222222,\"#3e4989\"],[0.3333333333333333,\"#31688e\"],[0.4444444444444444,\"#26828e\"],[0.5555555555555556,\"#1f9e89\"],[0.6666666666666666,\"#35b779\"],[0.7777777777777778,\"#6ece58\"],[0.8888888888888888,\"#b5de2b\"],[1.0,\"#fde725\"]],\"type\":\"histogram2dcontour\"}],\"histogram2d\":[{\"colorbar\":{\"outlinewidth\":1,\"tickcolor\":\"rgb(36,36,36)\",\"ticks\":\"outside\"},\"colorscale\":[[0.0,\"#440154\"],[0.1111111111111111,\"#482878\"],[0.2222222222222222,\"#3e4989\"],[0.3333333333333333,\"#31688e\"],[0.4444444444444444,\"#26828e\"],[0.5555555555555556,\"#1f9e89\"],[0.6666666666666666,\"#35b779\"],[0.7777777777777778,\"#6ece58\"],[0.8888888888888888,\"#b5de2b\"],[1.0,\"#fde725\"]],\"type\":\"histogram2d\"}],\"histogram\":[{\"marker\":{\"line\":{\"color\":\"white\",\"width\":0.6}},\"type\":\"histogram\"}],\"mesh3d\":[{\"colorbar\":{\"outlinewidth\":1,\"tickcolor\":\"rgb(36,36,36)\",\"ticks\":\"outside\"},\"type\":\"mesh3d\"}],\"parcoords\":[{\"line\":{\"colorbar\":{\"outlinewidth\":1,\"tickcolor\":\"rgb(36,36,36)\",\"ticks\":\"outside\"}},\"type\":\"parcoords\"}],\"pie\":[{\"automargin\":true,\"type\":\"pie\"}],\"scatter3d\":[{\"line\":{\"colorbar\":{\"outlinewidth\":1,\"tickcolor\":\"rgb(36,36,36)\",\"ticks\":\"outside\"}},\"marker\":{\"colorbar\":{\"outlinewidth\":1,\"tickcolor\":\"rgb(36,36,36)\",\"ticks\":\"outside\"}},\"type\":\"scatter3d\"}],\"scattercarpet\":[{\"marker\":{\"colorbar\":{\"outlinewidth\":1,\"tickcolor\":\"rgb(36,36,36)\",\"ticks\":\"outside\"}},\"type\":\"scattercarpet\"}],\"scattergeo\":[{\"marker\":{\"colorbar\":{\"outlinewidth\":1,\"tickcolor\":\"rgb(36,36,36)\",\"ticks\":\"outside\"}},\"type\":\"scattergeo\"}],\"scattergl\":[{\"marker\":{\"colorbar\":{\"outlinewidth\":1,\"tickcolor\":\"rgb(36,36,36)\",\"ticks\":\"outside\"}},\"type\":\"scattergl\"}],\"scattermapbox\":[{\"marker\":{\"colorbar\":{\"outlinewidth\":1,\"tickcolor\":\"rgb(36,36,36)\",\"ticks\":\"outside\"}},\"type\":\"scattermapbox\"}],\"scatterpolargl\":[{\"marker\":{\"colorbar\":{\"outlinewidth\":1,\"tickcolor\":\"rgb(36,36,36)\",\"ticks\":\"outside\"}},\"type\":\"scatterpolargl\"}],\"scatterpolar\":[{\"marker\":{\"colorbar\":{\"outlinewidth\":1,\"tickcolor\":\"rgb(36,36,36)\",\"ticks\":\"outside\"}},\"type\":\"scatterpolar\"}],\"scatter\":[{\"fillpattern\":{\"fillmode\":\"overlay\",\"size\":10,\"solidity\":0.2},\"type\":\"scatter\"}],\"scatterternary\":[{\"marker\":{\"colorbar\":{\"outlinewidth\":1,\"tickcolor\":\"rgb(36,36,36)\",\"ticks\":\"outside\"}},\"type\":\"scatterternary\"}],\"surface\":[{\"colorbar\":{\"outlinewidth\":1,\"tickcolor\":\"rgb(36,36,36)\",\"ticks\":\"outside\"},\"colorscale\":[[0.0,\"#440154\"],[0.1111111111111111,\"#482878\"],[0.2222222222222222,\"#3e4989\"],[0.3333333333333333,\"#31688e\"],[0.4444444444444444,\"#26828e\"],[0.5555555555555556,\"#1f9e89\"],[0.6666666666666666,\"#35b779\"],[0.7777777777777778,\"#6ece58\"],[0.8888888888888888,\"#b5de2b\"],[1.0,\"#fde725\"]],\"type\":\"surface\"}],\"table\":[{\"cells\":{\"fill\":{\"color\":\"rgb(237,237,237)\"},\"line\":{\"color\":\"white\"}},\"header\":{\"fill\":{\"color\":\"rgb(217,217,217)\"},\"line\":{\"color\":\"white\"}},\"type\":\"table\"}]},\"layout\":{\"annotationdefaults\":{\"arrowhead\":0,\"arrowwidth\":1},\"autotypenumbers\":\"strict\",\"coloraxis\":{\"colorbar\":{\"outlinewidth\":1,\"tickcolor\":\"rgb(36,36,36)\",\"ticks\":\"outside\"}},\"colorscale\":{\"diverging\":[[0.0,\"rgb(103,0,31)\"],[0.1,\"rgb(178,24,43)\"],[0.2,\"rgb(214,96,77)\"],[0.3,\"rgb(244,165,130)\"],[0.4,\"rgb(253,219,199)\"],[0.5,\"rgb(247,247,247)\"],[0.6,\"rgb(209,229,240)\"],[0.7,\"rgb(146,197,222)\"],[0.8,\"rgb(67,147,195)\"],[0.9,\"rgb(33,102,172)\"],[1.0,\"rgb(5,48,97)\"]],\"sequential\":[[0.0,\"#440154\"],[0.1111111111111111,\"#482878\"],[0.2222222222222222,\"#3e4989\"],[0.3333333333333333,\"#31688e\"],[0.4444444444444444,\"#26828e\"],[0.5555555555555556,\"#1f9e89\"],[0.6666666666666666,\"#35b779\"],[0.7777777777777778,\"#6ece58\"],[0.8888888888888888,\"#b5de2b\"],[1.0,\"#fde725\"]],\"sequentialminus\":[[0.0,\"#440154\"],[0.1111111111111111,\"#482878\"],[0.2222222222222222,\"#3e4989\"],[0.3333333333333333,\"#31688e\"],[0.4444444444444444,\"#26828e\"],[0.5555555555555556,\"#1f9e89\"],[0.6666666666666666,\"#35b779\"],[0.7777777777777778,\"#6ece58\"],[0.8888888888888888,\"#b5de2b\"],[1.0,\"#fde725\"]]},\"colorway\":[\"#1F77B4\",\"#FF7F0E\",\"#2CA02C\",\"#D62728\",\"#9467BD\",\"#8C564B\",\"#E377C2\",\"#7F7F7F\",\"#BCBD22\",\"#17BECF\"],\"font\":{\"color\":\"rgb(36,36,36)\"},\"geo\":{\"bgcolor\":\"white\",\"lakecolor\":\"white\",\"landcolor\":\"white\",\"showlakes\":true,\"showland\":true,\"subunitcolor\":\"white\"},\"hoverlabel\":{\"align\":\"left\"},\"hovermode\":\"closest\",\"mapbox\":{\"style\":\"light\"},\"paper_bgcolor\":\"white\",\"plot_bgcolor\":\"white\",\"polar\":{\"angularaxis\":{\"gridcolor\":\"rgb(232,232,232)\",\"linecolor\":\"rgb(36,36,36)\",\"showgrid\":false,\"showline\":true,\"ticks\":\"outside\"},\"bgcolor\":\"white\",\"radialaxis\":{\"gridcolor\":\"rgb(232,232,232)\",\"linecolor\":\"rgb(36,36,36)\",\"showgrid\":false,\"showline\":true,\"ticks\":\"outside\"}},\"scene\":{\"xaxis\":{\"backgroundcolor\":\"white\",\"gridcolor\":\"rgb(232,232,232)\",\"gridwidth\":2,\"linecolor\":\"rgb(36,36,36)\",\"showbackground\":true,\"showgrid\":false,\"showline\":true,\"ticks\":\"outside\",\"zeroline\":false,\"zerolinecolor\":\"rgb(36,36,36)\"},\"yaxis\":{\"backgroundcolor\":\"white\",\"gridcolor\":\"rgb(232,232,232)\",\"gridwidth\":2,\"linecolor\":\"rgb(36,36,36)\",\"showbackground\":true,\"showgrid\":false,\"showline\":true,\"ticks\":\"outside\",\"zeroline\":false,\"zerolinecolor\":\"rgb(36,36,36)\"},\"zaxis\":{\"backgroundcolor\":\"white\",\"gridcolor\":\"rgb(232,232,232)\",\"gridwidth\":2,\"linecolor\":\"rgb(36,36,36)\",\"showbackground\":true,\"showgrid\":false,\"showline\":true,\"ticks\":\"outside\",\"zeroline\":false,\"zerolinecolor\":\"rgb(36,36,36)\"}},\"shapedefaults\":{\"fillcolor\":\"black\",\"line\":{\"width\":0},\"opacity\":0.3},\"ternary\":{\"aaxis\":{\"gridcolor\":\"rgb(232,232,232)\",\"linecolor\":\"rgb(36,36,36)\",\"showgrid\":false,\"showline\":true,\"ticks\":\"outside\"},\"baxis\":{\"gridcolor\":\"rgb(232,232,232)\",\"linecolor\":\"rgb(36,36,36)\",\"showgrid\":false,\"showline\":true,\"ticks\":\"outside\"},\"bgcolor\":\"white\",\"caxis\":{\"gridcolor\":\"rgb(232,232,232)\",\"linecolor\":\"rgb(36,36,36)\",\"showgrid\":false,\"showline\":true,\"ticks\":\"outside\"}},\"title\":{\"x\":0.05},\"xaxis\":{\"automargin\":true,\"gridcolor\":\"rgb(232,232,232)\",\"linecolor\":\"rgb(36,36,36)\",\"showgrid\":false,\"showline\":true,\"ticks\":\"outside\",\"title\":{\"standoff\":15},\"zeroline\":false,\"zerolinecolor\":\"rgb(36,36,36)\"},\"yaxis\":{\"automargin\":true,\"gridcolor\":\"rgb(232,232,232)\",\"linecolor\":\"rgb(36,36,36)\",\"showgrid\":false,\"showline\":true,\"ticks\":\"outside\",\"title\":{\"standoff\":15},\"zeroline\":false,\"zerolinecolor\":\"rgb(36,36,36)\"}}},\"xaxis\":{\"anchor\":\"y\",\"domain\":[0.0,1.0],\"title\":{\"text\":\"Type of borrower based on borrower count and gender\"}},\"yaxis\":{\"anchor\":\"x\",\"domain\":[0.0,1.0],\"title\":{\"text\":\"Percentage of loan status\"},\"range\":[60,103]},\"legend\":{\"title\":{\"text\":\"loan status\"},\"tracegroupgap\":0},\"title\":{\"text\":\"<b>Status of loans per borrower type in 2016<b>\",\"x\":0.03,\"y\":0.95,\"font\":{\"color\":\"#283747 \"}},\"barmode\":\"stack\",\"font\":{\"size\":9},\"hoverlabel\":{\"font\":{\"size\":13,\"family\":\"Calibri\"}},\"margin\":{\"t\":50,\"l\":25,\"r\":25,\"b\":25},\"paper_bgcolor\":\"#d6dbdf\"},                        {\"responsive\": true}                    ).then(function(){\n",
       "                            \n",
       "var gd = document.getElementById('60764283-15cd-4d75-9f8e-ff1613290fc4');\n",
       "var x = new MutationObserver(function (mutations, observer) {{\n",
       "        var display = window.getComputedStyle(gd).display;\n",
       "        if (!display || display === 'none') {{\n",
       "            console.log([gd, 'removed!']);\n",
       "            Plotly.purge(gd);\n",
       "            observer.disconnect();\n",
       "        }}\n",
       "}});\n",
       "\n",
       "// Listen for the removal of the full notebook cells\n",
       "var notebookContainer = gd.closest('#notebook-container');\n",
       "if (notebookContainer) {{\n",
       "    x.observe(notebookContainer, {childList: true});\n",
       "}}\n",
       "\n",
       "// Listen for the clearing of the current output cell\n",
       "var outputEl = gd.closest('.output');\n",
       "if (outputEl) {{\n",
       "    x.observe(outputEl, {childList: true});\n",
       "}}\n",
       "\n",
       "                        })                };                });            </script>        </div>"
      ]
     },
     "metadata": {},
     "output_type": "display_data"
    }
   ],
   "source": [
    "#define bar plot\n",
    "\n",
    "borrower_type_bar = px.bar(\n",
    "    df_funding_borrower_stacked,\n",
    "    x='borrower_type',\n",
    "    y='Percentage',\n",
    "    color='funding_status',\n",
    "    barmode='stack',\n",
    "    color_discrete_map={\n",
    "        'fully funded': 'darkseagreen',\n",
    "        'not funded': 'salmon',\n",
    "        'up to 20% funded': 'peachpuff',\n",
    "        '>20% funded': 'moccasin',\n",
    "        '>40% funded': 'palegoldenrod',\n",
    "        '>60% funded': 'darkkhaki',\n",
    "        '>80% funded': 'olivedrab',\n",
    "        'overfunded': 'darkolivegreen'\n",
    "    },\n",
    "    text=df_funding_borrower_stacked['Percentage'].astype(str) + '%',\n",
    "    custom_data=df_funding_borrower_stacked[[\n",
    "        'borrower_type', 'Percentage', 'funding_status'\n",
    "    ]],\n",
    "    title='Overview of funding status',\n",
    "    labels={'funding_status': 'loan status'})\n",
    "\n",
    "# adjust bar plot's layout\n",
    "borrower_type_bar.update_layout(\n",
    "    title='<b>Status of loans per borrower type in 2016<b>',\n",
    "    xaxis_title='Type of borrower based on borrower count and gender',\n",
    "    yaxis_title='Percentage of loan status',\n",
    "    title_x=0.03,\n",
    "    title_y=0.95,\n",
    "    yaxis_range=[60,103],\n",
    "    template='simple_white',\n",
    "    font_size=9,\n",
    "    title_font_color='#283747 ',\n",
    "    hoverlabel=dict(font_size=13, font_family=\"Calibri\"),\n",
    "    paper_bgcolor=\"#d6dbdf\",\n",
    "    margin=dict(t=50, l=25, r=25, b=25))\n",
    "\n",
    "# set hover text\n",
    "borrower_type_bar.data[0].hovertemplate = (\n",
    "    '<b>%{customdata[1]}</b>% of loans <br>were <b>%{customdata[2]}</b> for <b>%{customdata[0]}s.</b>'\n",
    "    '<br>' + '<br>')\n",
    "\n",
    "#display bar plot\n",
    "borrower_type_bar.show()"
   ]
  },
  {
   "cell_type": "markdown",
   "id": "94054364",
   "metadata": {},
   "source": [
    "#### To note\n",
    "\n",
    "It can be observed that female borrower are most successful at reaching their funding goal, followed by mixed groups and male borrowers. There are multiple potential reasons for this, e.g.\n",
    "\n",
    "- motivation of the lender\n",
    "- difference in sector of investment\n",
    "- difference in loan amount\n",
    "- difference in repayment interval.\n",
    "\n",
    "For instance, \n",
    "- lenders consciously chose female owned businesses as their investment as this supports their values or\n",
    "- male investments are systematically in different sectors that are not as attractive to lenders.\n",
    "\n",
    "As could be seen in the scatter plot above, the average female investments tend to be smaller than the ones of men. On the platform, lenders can start investing at 25 USD. Thus, the chances of getting fully funded are higher if the loan amount is set lower. Therefore, for instance, as a next step the median (mean) of each investment by borrower type can be analyzed to see if this aspect might be part of their high funding rate.  \n",
    "\n",
    "Overall, it can be concluded that the company's business model of bringing together borrowers and lenders is successful. Women are not only their largest customer group but also have a comparably higher funding rate, defined as the division of funded amount and loan amount. This is another indication for the company's business."
   ]
  },
  {
   "cell_type": "markdown",
   "id": "796083bf",
   "metadata": {},
   "source": [
    "## Dashboard"
   ]
  },
  {
   "cell_type": "markdown",
   "id": "1579427b",
   "metadata": {},
   "source": [
    "### Dashboard No.1"
   ]
  },
  {
   "cell_type": "markdown",
   "id": "47324f48",
   "metadata": {},
   "source": [
    "The dashboard shows the success rate of the individual loan funding rate (defined as funded amount divided by the loan amount) on the most granular level: hence, each loan from the dataset is visualized. Combined with the provided filters for gender type and gender category, the data can be analyzed further."
   ]
  },
  {
   "cell_type": "code",
   "execution_count": 15,
   "id": "4b0265b6",
   "metadata": {},
   "outputs": [
    {
     "data": {
      "text/html": [
       "\n",
       "        <iframe\n",
       "            width=\"100%\"\n",
       "            height=\"650\"\n",
       "            src=\"http://127.0.0.1:8092/\"\n",
       "            frameborder=\"0\"\n",
       "            allowfullscreen\n",
       "            \n",
       "        ></iframe>\n",
       "        "
      ],
      "text/plain": [
       "<IPython.lib.display.IFrame at 0x12d772040>"
      ]
     },
     "metadata": {},
     "output_type": "display_data"
    }
   ],
   "source": [
    "# Create app\n",
    "my_crowdsourcing_app = JupyterDash(__name__)\n",
    "\n",
    "# Layout\n",
    "my_crowdsourcing_app.layout = html.Div([\n",
    "\n",
    "    # Set header\n",
    "    html.H1(id='title',\n",
    "            children=\n",
    "            'Loan amount and funded amount by gender and number of borrower',\n",
    "            style={\n",
    "                'textAlign': 'center',\n",
    "                'font-family': 'Arial',\n",
    "                'font-size': '21px',\n",
    "                'color': '#082b51'\n",
    "            }),\n",
    "\n",
    "    # add a line break\n",
    "    html.Br(),\n",
    "\n",
    "    # add label for first dropdown\n",
    "    html.Label(\"Select gender category of borrower:\",\n",
    "               style={\n",
    "                   'font-family': 'Arial',\n",
    "                   'font-size': '13px',\n",
    "                   'font-color': '#428bca'\n",
    "               }),\n",
    "    # Dropdown for broader category of borrowers' gender\n",
    "    dcc.RadioItems(id=\"ri_borrower_type_general\",\n",
    "                   options=[{\n",
    "                       'label': oberkat,\n",
    "                       'value': oberkat\n",
    "                   } for oberkat in df.loc[:,\n",
    "                                           'borrower_type_general'].unique()],\n",
    "                   value='female',\n",
    "                   style={\n",
    "                       'font-family': 'Arial',\n",
    "                       'font-size': '13px',\n",
    "                       \"padding\": \"10px\",\n",
    "                       \"max-width\": \"800px\",\n",
    "                       'display': 'inline-block',\n",
    "                       'margin-left': '7px'\n",
    "                   },\n",
    "                   labelStyle={\n",
    "                       'display': 'inline-block',\n",
    "                       'font-weight': '300',\n",
    "                   }),\n",
    "\n",
    "    # add a line break\n",
    "    html.Br(),\n",
    "\n",
    "    # add label for second dropdown\n",
    "    html.Label(\n",
    "        \"Specify type of borrower:\",\n",
    "        style={\n",
    "            #       'font-weight': 'bold',\n",
    "            'font-family': 'Arial',\n",
    "            'font-size': '13px',\n",
    "            'font-color': '#428bca'\n",
    "        }),\n",
    "\n",
    "    # Dropdown for more detailed category of borrowers' gender\n",
    "    dcc.Dropdown(id='dd_borrower_type',\n",
    "                 options=[],\n",
    "                 multi=True,\n",
    "                 style={\n",
    "                     'width': 660,\n",
    "                     'font-family': 'Arial',\n",
    "                     'font-size': '13px'\n",
    "                 },\n",
    "                 value=[],\n",
    "                 optionHeight=20,\n",
    "                 placeholder=\"Please select a borrower category.\"),\n",
    "    dcc.Graph(id='my_scatter', figure={})\n",
    "])\n",
    "\n",
    "# define callbacks\n",
    "\n",
    "## first callback: Based on the selected value in the first dropdown, provide filtered selection options for the second dropdown\n",
    "\n",
    "\n",
    "@my_crowdsourcing_app.callback(\n",
    "    Output(component_id='dd_borrower_type', component_property='options'),\n",
    "    Input(component_id='ri_borrower_type_general', component_property='value'))\n",
    "def set_general_gender(general_gender_cat):\n",
    "\n",
    "    df_broader_gender = df.loc[df['borrower_type_general'] ==\n",
    "                               general_gender_cat]\n",
    "\n",
    "    return [{\n",
    "        'label': detailed_gender,\n",
    "        'value': detailed_gender\n",
    "    } for detailed_gender in sorted(\n",
    "        df_broader_gender.loc[:, 'borrower_type'].unique())]\n",
    "\n",
    "\n",
    "## second callback: create list of suitable detailed gender categories which can be selected in dashboard\n",
    "\n",
    "\n",
    "@my_crowdsourcing_app.callback(\n",
    "    Output(component_id='dd_borrower_type', component_property='value'),\n",
    "    Input(component_id='dd_borrower_type', component_property='options'))\n",
    "def set_detailed_gender(detailed_gender_cat):\n",
    "\n",
    "    return [gender['value'] for gender in detailed_gender_cat]\n",
    "\n",
    "\n",
    "## third callback: Create scatter plot based on selected value(s) in detailed gender category\n",
    "\n",
    "\n",
    "@my_crowdsourcing_app.callback(\n",
    "    Output(component_id='my_scatter', component_property='figure'),\n",
    "    Input(component_id='dd_borrower_type', component_property='value'),\n",
    "    Input(component_id='ri_borrower_type_general', component_property='value'))\n",
    "\n",
    "def update_graph(selected_unterkat, selected_oberkat):\n",
    "\n",
    "    if selected_unterkat == None:\n",
    "\n",
    "        return no_update\n",
    "\n",
    "    else:\n",
    "        # select data\n",
    "        df_final = df.loc[\n",
    "            (df.loc[:, 'borrower_type'].isin(selected_unterkat)) &\n",
    "            (df.loc[:, 'borrower_type_general'] == selected_oberkat), :]\n",
    "\n",
    "        # create scatter plot\n",
    "        my_scatter = px.scatter(\n",
    "            data_frame=df_final,\n",
    "            x=\"loan_amount\",\n",
    "            y=\"funded_amount\",\n",
    "            color=\"borrower_type\",\n",
    "            color_discrete_map={\n",
    "                'Individual Female': 'deeppink',\n",
    "                'Individual Male': 'blue',\n",
    "                'Large female group': '#6b5b95',\n",
    "                'Large male group': '#034f84',\n",
    "                'Large mixed group': '#ff7b25',\n",
    "                'Small female group': 'palevioletred',\n",
    "                'Small male group': '#80ced6',\n",
    "                'Small mixed group': '#f2ae72'\n",
    "            },\n",
    "            symbol=\"borrower_type\",\n",
    "            symbol_map={\n",
    "                'Individual Female': 'circle',\n",
    "                'Individual Male': 'circle',\n",
    "                'Large female group': 'square',\n",
    "                'Large male group': 'square',\n",
    "                'Large mixed group': 'square',\n",
    "                'Small female group': 'diamond',\n",
    "                'Small male group': 'diamond',\n",
    "                'Small mixed group': 'diamond'\n",
    "            },\n",
    "            #  color=\"borrower_type\",\n",
    "            labels={\n",
    "                \"loan_amount\": \"Loan amount in USD\",\n",
    "                \"funded_amount\": \"Funded amount in USD\",\n",
    "                \"borrower_type\": \"Borrower gender category\",\n",
    "                'borrower_type_general': 'borrower type'\n",
    "            },\n",
    "            template=\"simple_white\")\n",
    "\n",
    "        my_scatter.update_traces(marker=dict(size=8))\n",
    "\n",
    "    return my_scatter\n",
    "\n",
    "\n",
    "# Run app\n",
    "if __name__ == '__main__':\n",
    "    my_crowdsourcing_app.run_server(mode='inline', port=8092)"
   ]
  },
  {
   "cell_type": "markdown",
   "id": "9570e6a5",
   "metadata": {},
   "source": [
    "### Dashboard No. 2"
   ]
  },
  {
   "cell_type": "markdown",
   "id": "e9a6dd91",
   "metadata": {},
   "source": [
    "The dashboard shows the funding amount per sector and continent."
   ]
  },
  {
   "cell_type": "code",
   "execution_count": 16,
   "id": "3fcd4a7e",
   "metadata": {},
   "outputs": [
    {
     "data": {
      "text/html": [
       "<div>\n",
       "<style scoped>\n",
       "    .dataframe tbody tr th:only-of-type {\n",
       "        vertical-align: middle;\n",
       "    }\n",
       "\n",
       "    .dataframe tbody tr th {\n",
       "        vertical-align: top;\n",
       "    }\n",
       "\n",
       "    .dataframe thead th {\n",
       "        text-align: right;\n",
       "    }\n",
       "</style>\n",
       "<table border=\"1\" class=\"dataframe\">\n",
       "  <thead>\n",
       "    <tr style=\"text-align: right;\">\n",
       "      <th></th>\n",
       "      <th>funded_amount</th>\n",
       "      <th>loan_amount</th>\n",
       "      <th>activity</th>\n",
       "      <th>sector</th>\n",
       "      <th>country_code</th>\n",
       "      <th>country</th>\n",
       "      <th>currency</th>\n",
       "      <th>term_in_months</th>\n",
       "      <th>lender_count</th>\n",
       "      <th>borrower_genders</th>\n",
       "      <th>repayment_interval</th>\n",
       "      <th>borrower_type</th>\n",
       "      <th>borrower_type_general</th>\n",
       "      <th>%funded</th>\n",
       "      <th>funding_status</th>\n",
       "      <th>invested_per_lender</th>\n",
       "      <th>continent_code</th>\n",
       "      <th>continent</th>\n",
       "    </tr>\n",
       "  </thead>\n",
       "  <tbody>\n",
       "    <tr>\n",
       "      <th>0</th>\n",
       "      <td>300.0</td>\n",
       "      <td>300.0</td>\n",
       "      <td>Fruits &amp; Vegetables</td>\n",
       "      <td>Food</td>\n",
       "      <td>PK</td>\n",
       "      <td>Pakistan</td>\n",
       "      <td>PKR</td>\n",
       "      <td>12.0</td>\n",
       "      <td>12</td>\n",
       "      <td>female</td>\n",
       "      <td>irregular</td>\n",
       "      <td>Individual Female</td>\n",
       "      <td>female</td>\n",
       "      <td>1.0</td>\n",
       "      <td>fully funded</td>\n",
       "      <td>25.0</td>\n",
       "      <td>AS</td>\n",
       "      <td>Asia</td>\n",
       "    </tr>\n",
       "    <tr>\n",
       "      <th>1</th>\n",
       "      <td>575.0</td>\n",
       "      <td>575.0</td>\n",
       "      <td>Rickshaw</td>\n",
       "      <td>Transportation</td>\n",
       "      <td>PK</td>\n",
       "      <td>Pakistan</td>\n",
       "      <td>PKR</td>\n",
       "      <td>11.0</td>\n",
       "      <td>14</td>\n",
       "      <td>female, female</td>\n",
       "      <td>irregular</td>\n",
       "      <td>Small female group</td>\n",
       "      <td>female</td>\n",
       "      <td>1.0</td>\n",
       "      <td>fully funded</td>\n",
       "      <td>41.1</td>\n",
       "      <td>AS</td>\n",
       "      <td>Asia</td>\n",
       "    </tr>\n",
       "    <tr>\n",
       "      <th>2</th>\n",
       "      <td>150.0</td>\n",
       "      <td>150.0</td>\n",
       "      <td>Transportation</td>\n",
       "      <td>Transportation</td>\n",
       "      <td>IN</td>\n",
       "      <td>India</td>\n",
       "      <td>INR</td>\n",
       "      <td>43.0</td>\n",
       "      <td>6</td>\n",
       "      <td>female</td>\n",
       "      <td>bullet</td>\n",
       "      <td>Individual Female</td>\n",
       "      <td>female</td>\n",
       "      <td>1.0</td>\n",
       "      <td>fully funded</td>\n",
       "      <td>25.0</td>\n",
       "      <td>AS</td>\n",
       "      <td>Asia</td>\n",
       "    </tr>\n",
       "    <tr>\n",
       "      <th>3</th>\n",
       "      <td>200.0</td>\n",
       "      <td>200.0</td>\n",
       "      <td>Embroidery</td>\n",
       "      <td>Arts</td>\n",
       "      <td>PK</td>\n",
       "      <td>Pakistan</td>\n",
       "      <td>PKR</td>\n",
       "      <td>11.0</td>\n",
       "      <td>8</td>\n",
       "      <td>female</td>\n",
       "      <td>irregular</td>\n",
       "      <td>Individual Female</td>\n",
       "      <td>female</td>\n",
       "      <td>1.0</td>\n",
       "      <td>fully funded</td>\n",
       "      <td>25.0</td>\n",
       "      <td>AS</td>\n",
       "      <td>Asia</td>\n",
       "    </tr>\n",
       "    <tr>\n",
       "      <th>4</th>\n",
       "      <td>400.0</td>\n",
       "      <td>400.0</td>\n",
       "      <td>Milk Sales</td>\n",
       "      <td>Food</td>\n",
       "      <td>PK</td>\n",
       "      <td>Pakistan</td>\n",
       "      <td>PKR</td>\n",
       "      <td>14.0</td>\n",
       "      <td>16</td>\n",
       "      <td>female</td>\n",
       "      <td>monthly</td>\n",
       "      <td>Individual Female</td>\n",
       "      <td>female</td>\n",
       "      <td>1.0</td>\n",
       "      <td>fully funded</td>\n",
       "      <td>25.0</td>\n",
       "      <td>AS</td>\n",
       "      <td>Asia</td>\n",
       "    </tr>\n",
       "  </tbody>\n",
       "</table>\n",
       "</div>"
      ],
      "text/plain": [
       "   funded_amount  loan_amount             activity          sector  \\\n",
       "0          300.0        300.0  Fruits & Vegetables            Food   \n",
       "1          575.0        575.0             Rickshaw  Transportation   \n",
       "2          150.0        150.0       Transportation  Transportation   \n",
       "3          200.0        200.0           Embroidery            Arts   \n",
       "4          400.0        400.0           Milk Sales            Food   \n",
       "\n",
       "  country_code   country currency  term_in_months  lender_count  \\\n",
       "0           PK  Pakistan      PKR            12.0            12   \n",
       "1           PK  Pakistan      PKR            11.0            14   \n",
       "2           IN     India      INR            43.0             6   \n",
       "3           PK  Pakistan      PKR            11.0             8   \n",
       "4           PK  Pakistan      PKR            14.0            16   \n",
       "\n",
       "  borrower_genders repayment_interval       borrower_type  \\\n",
       "0           female          irregular   Individual Female   \n",
       "1   female, female          irregular  Small female group   \n",
       "2           female             bullet   Individual Female   \n",
       "3           female          irregular   Individual Female   \n",
       "4           female            monthly   Individual Female   \n",
       "\n",
       "  borrower_type_general  %funded funding_status  invested_per_lender  \\\n",
       "0                female      1.0   fully funded                 25.0   \n",
       "1                female      1.0   fully funded                 41.1   \n",
       "2                female      1.0   fully funded                 25.0   \n",
       "3                female      1.0   fully funded                 25.0   \n",
       "4                female      1.0   fully funded                 25.0   \n",
       "\n",
       "  continent_code continent  \n",
       "0             AS      Asia  \n",
       "1             AS      Asia  \n",
       "2             AS      Asia  \n",
       "3             AS      Asia  \n",
       "4             AS      Asia  "
      ]
     },
     "execution_count": 16,
     "metadata": {},
     "output_type": "execute_result"
    }
   ],
   "source": [
    "df.head()"
   ]
  },
  {
   "cell_type": "code",
   "execution_count": 17,
   "id": "62398237",
   "metadata": {},
   "outputs": [
    {
     "data": {
      "text/html": [
       "\n",
       "        <iframe\n",
       "            width=\"100%\"\n",
       "            height=\"650\"\n",
       "            src=\"http://127.0.0.1:8091/\"\n",
       "            frameborder=\"0\"\n",
       "            allowfullscreen\n",
       "            \n",
       "        ></iframe>\n",
       "        "
      ],
      "text/plain": [
       "<IPython.lib.display.IFrame at 0x12c246250>"
      ]
     },
     "metadata": {},
     "output_type": "display_data"
    }
   ],
   "source": [
    "# Create app\n",
    "my_crowdsourcing_app_2 = JupyterDash(__name__)\n",
    "\n",
    "# Layout\n",
    "my_crowdsourcing_app_2.layout = html.Div([\n",
    "\n",
    "# Set header\n",
    "    html.H1(id='title',\n",
    "            children=\n",
    "            'Average amount funded per sector and continent',\n",
    "            style={\n",
    "                'textAlign': 'center',\n",
    "                'font-family': 'Arial',\n",
    "                'font-size': '21px',\n",
    "                'color': '#082b51'\n",
    "            }),\n",
    "\n",
    "    # add a line break\n",
    "    html.Br(),\n",
    "  \n",
    "\n",
    "    # add label for first dropdown\n",
    "    html.Label(\"Select continent:\",\n",
    "               style={\n",
    "                   'font-family': 'Arial',\n",
    "                   'font-size': '13px',\n",
    "                   'font-color': '#428bca'\n",
    "               }),\n",
    "    # Dropdown \n",
    "    dcc.RadioItems(id=\"ri_continent\",\n",
    "                   options=[{\n",
    "                       'label': oberkat,\n",
    "                       'value': oberkat\n",
    "                   } for oberkat in df.loc[:,\n",
    "                                           'continent'].unique()],\n",
    "                   value='Asia',\n",
    "                   style={\n",
    "                       'font-family': 'Arial',\n",
    "                       'font-size': '13px',\n",
    "                       \"padding\": \"10px\",\n",
    "                       \"max-width\": \"800px\",\n",
    "                       'display': 'inline-block',\n",
    "                       'margin-left': '7px'\n",
    "                   },\n",
    "                   labelStyle={\n",
    "                       'display': 'inline-block',\n",
    "                       'font-weight': '300',\n",
    "                   }),\n",
    "\n",
    "    # add a line break\n",
    "    html.Br(),\n",
    "\n",
    "    # add label for second dropdown\n",
    "    html.Label(\n",
    "        \"Specify sector:\",\n",
    "        style={\n",
    "            #       'font-weight': 'bold',\n",
    "            'font-family': 'Arial',\n",
    "            'font-size': '13px',\n",
    "            'font-color': '#428bca'\n",
    "        }),\n",
    "\n",
    "    # Dropdown\n",
    "    dcc.Dropdown(id='dd_sector',\n",
    "                 options=[],\n",
    "                 multi=True,\n",
    "                 style={\n",
    "                     'width': 660,\n",
    "                     'font-family': 'Arial',\n",
    "                     'font-size': '13px'\n",
    "                 },\n",
    "               #  value=[],\n",
    "                 value=df.sector.unique(),\n",
    "                 optionHeight=20,\n",
    "                 placeholder=\"Please select a sector.\"),\n",
    "    dcc.Graph(id='my_bar', figure={})\n",
    "])\n",
    "\n",
    "# define callbacks\n",
    "\n",
    "## first callback\n",
    "\n",
    "\n",
    "@my_crowdsourcing_app_2.callback(\n",
    "    Output(component_id='dd_sector', component_property='options'),\n",
    "    Input(component_id='ri_continent', component_property='value'))\n",
    "\n",
    "def set_continent(continent_cat):\n",
    "\n",
    "    df_continent = df.loc[df['continent'] ==\n",
    "                               continent_cat]\n",
    "\n",
    "    return [{\n",
    "        'label': sector,\n",
    "        'value': sector\n",
    "    } for sector in sorted(\n",
    "        df_continent.loc[:, 'sector'].unique())]\n",
    "\n",
    "\n",
    "## second callback\n",
    "\n",
    "\n",
    "@my_crowdsourcing_app_2.callback(\n",
    "    Output(component_id='dd_sector', component_property='value'),\n",
    "    Input(component_id='dd_sector', component_property='options'))\n",
    "\n",
    "def set_sector(sector_cat):\n",
    "\n",
    "    return [sector['value'] for sector in sector_cat]\n",
    "\n",
    "\n",
    "## third callback\n",
    "\n",
    "@my_crowdsourcing_app_2.callback(\n",
    "    Output(component_id='my_bar', component_property='figure'),\n",
    "    Input(component_id='dd_sector', component_property='value'),\n",
    "    Input(component_id='ri_continent', component_property='value'))\n",
    "\n",
    "def update(selected_unterkat, selected_oberkat):\n",
    "\n",
    "    if selected_unterkat == None:\n",
    "\n",
    "        return no_update\n",
    "\n",
    "    else:\n",
    "        # select data\n",
    "        df_final = df.loc[\n",
    "            (df.loc[:, 'sector'].isin(selected_unterkat)) &\n",
    "            (df.loc[:, 'continent'] == selected_oberkat), :]\n",
    "        \n",
    "\n",
    "    # group data\n",
    "    df_group = df_final.groupby(by=['sector'], as_index=False)[\"funded_amount\"].mean()\n",
    "    \n",
    "    # sort data\n",
    "    df_group = df_group.sort_values(by=\"funded_amount\", ascending=False)\n",
    "    \n",
    "    # create bar plot\n",
    "    my_bar = px.bar(data_frame=df_group,\n",
    "                    x='funded_amount',\n",
    "                    y='sector',\n",
    "                    color='sector',\n",
    "                    color_discrete_sequence=px.colors.qualitative.Set3,\n",
    "                    template='simple_white',\n",
    "                    labels={'sector':'Sector', 'funded_amount': 'Average amount funded'})\n",
    "    \n",
    "\n",
    "    return my_bar\n",
    "\n",
    "\n",
    "# Run app\n",
    "if __name__ == '__main__':\n",
    "    my_crowdsourcing_app_2.run_server(mode='inline', port=8091)"
   ]
  },
  {
   "cell_type": "code",
   "execution_count": null,
   "id": "6b695435",
   "metadata": {},
   "outputs": [],
   "source": []
  }
 ],
 "metadata": {
  "kernelspec": {
   "display_name": "Python 3 (ipykernel)",
   "language": "python",
   "name": "python3"
  },
  "language_info": {
   "codemirror_mode": {
    "name": "ipython",
    "version": 3
   },
   "file_extension": ".py",
   "mimetype": "text/x-python",
   "name": "python",
   "nbconvert_exporter": "python",
   "pygments_lexer": "ipython3",
   "version": "3.9.9"
  },
  "toc": {
   "base_numbering": 1,
   "nav_menu": {},
   "number_sections": true,
   "sideBar": true,
   "skip_h1_title": true,
   "title_cell": "Table of Contents",
   "title_sidebar": "Contents",
   "toc_cell": true,
   "toc_position": {
    "height": "calc(100% - 180px)",
    "left": "10px",
    "top": "150px",
    "width": "165px"
   },
   "toc_section_display": true,
   "toc_window_display": true
  },
  "varInspector": {
   "cols": {
    "lenName": 16,
    "lenType": 16,
    "lenVar": 40
   },
   "kernels_config": {
    "python": {
     "delete_cmd_postfix": "",
     "delete_cmd_prefix": "del ",
     "library": "var_list.py",
     "varRefreshCmd": "print(var_dic_list())"
    },
    "r": {
     "delete_cmd_postfix": ") ",
     "delete_cmd_prefix": "rm(",
     "library": "var_list.r",
     "varRefreshCmd": "cat(var_dic_list()) "
    }
   },
   "types_to_exclude": [
    "module",
    "function",
    "builtin_function_or_method",
    "instance",
    "_Feature"
   ],
   "window_display": false
  }
 },
 "nbformat": 4,
 "nbformat_minor": 5
}
